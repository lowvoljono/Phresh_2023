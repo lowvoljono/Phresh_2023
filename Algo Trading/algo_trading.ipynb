{
 "cells": [
  {
   "cell_type": "markdown",
   "metadata": {},
   "source": [
    "# Getting Started with Algorithmic Trading \n",
    "\n",
    "In this activity, students will write a trading algorithm that uses Python to represent the conditions of a simple trading strategy.\n",
    "\n",
    "## Background\n",
    "\n",
    "You work on a trading firm that started operations a century ago. The firm is well consolidated and has prominent customers. As a FinTech professional, you were hired to drive innovation. Your manager, Alina, asked you to prepare a prototype to show algorithmic trading capabilities to the Board of Directors so they can understand how it works.\n",
    "\n",
    "You decided to start with a simple trading algorithm based on rules and Python conditionals to present the fundamentals of transforming a mental trading strategy into a functional Python code.\n",
    "\n",
    "## Instructions:\n",
    "\n",
    "1. Using the data that the starter notebook supplies, run the code cells that import the required libraries, and then create a Pandas DataFrame named `amd_df`.\n",
    "\n",
    "2. Use the Pandas `bdate_range` function to assign dates to the values in the DataFrame. Set the dates as the DataFrame index. Use `2019-09-30` for the starting date.\n",
    "\n",
    "3. Visualize the price movement of the DataFrame by using the Pandas `plot` function.\n",
    "\n",
    "4. Add a column named “trade_type” to the DataFrame that will hold the buys and sells and set it equal to `np.nan`. Then, initialize a variable named `previous_price` that is set equal to `0`.\n",
    "\n",
    "5. Write an algorithm that loops through each index and row of the DataFrame by using the Pandas `iterrows` function. Make sure that the algorithm checks the following conditions and executes the strategy for each one:\n",
    "\n",
    "    * If `previous_price = 0`, use the `loc` function to set the “trade_type” column for the current index to “buy”.\n",
    "\n",
    "    * Otherwise, if the price of the current day is less than that of the previous day, set the “trade_type” column for the current index to “buy”.\n",
    "\n",
    "    * Otherwise, if the price of the current day is greater than that of the previous day, set the “trade_type” column for the current index to “sell”.\n",
    "\n",
    "    * Otherwise, if the price of the current day is equal to that of the previous day, set the “trade_type” column of the current index to “hold”.\n",
    "\n",
    "    * If the current index is equal to the last index of the DataFrame, set the “trade_type” column for the current index to “sell”. (Use the `index` function to check the current index.)\n",
    "\n",
    "6. Run the algorithm. Then review the resulting DataFrame to confirm that given the closing prices, the “trade_type” column populated as expected.\n",
    "\n",
    "## References:\n",
    "\n",
    "* [Pandas `bdate_range` function documentation](https://pandas.pydata.org/pandas-docs/stable/reference/api/pandas.bdate_range.html)\n",
    "\n",
    "* [Pandas `iterrows` function documentation](https://pandas.pydata.org/pandas-docs/stable/reference/api/pandas.DataFrame.iterrows.html)\n"
   ]
  },
  {
   "cell_type": "markdown",
   "metadata": {},
   "source": [
    "## Step 1: Using the data that the starter notebook supplies, run the code cells that import the required libraries, and then create a Pandas DataFrame named `amd_df`."
   ]
  },
  {
   "cell_type": "code",
   "execution_count": 31,
   "metadata": {},
   "outputs": [],
   "source": [
    "# Import the required libraries\n",
    "import pandas as pd\n",
    "import numpy as np"
   ]
  },
  {
   "cell_type": "code",
   "execution_count": 32,
   "metadata": {},
   "outputs": [],
   "source": [
    "# Closing prices for AMD stock\n",
    "amd_data = [28.99, 28.76, 28.31, 28.68, 29.01, 28.93, 28.23, 28.46, 28.38, 29.75,]"
   ]
  },
  {
   "cell_type": "code",
   "execution_count": 38,
   "metadata": {},
   "outputs": [
    {
     "data": {
      "text/html": [
       "<div>\n",
       "<style scoped>\n",
       "    .dataframe tbody tr th:only-of-type {\n",
       "        vertical-align: middle;\n",
       "    }\n",
       "\n",
       "    .dataframe tbody tr th {\n",
       "        vertical-align: top;\n",
       "    }\n",
       "\n",
       "    .dataframe thead th {\n",
       "        text-align: right;\n",
       "    }\n",
       "</style>\n",
       "<table border=\"1\" class=\"dataframe\">\n",
       "  <thead>\n",
       "    <tr style=\"text-align: right;\">\n",
       "      <th></th>\n",
       "      <th>close</th>\n",
       "    </tr>\n",
       "  </thead>\n",
       "  <tbody>\n",
       "    <tr>\n",
       "      <th>0</th>\n",
       "      <td>28.99</td>\n",
       "    </tr>\n",
       "    <tr>\n",
       "      <th>1</th>\n",
       "      <td>28.76</td>\n",
       "    </tr>\n",
       "    <tr>\n",
       "      <th>2</th>\n",
       "      <td>28.31</td>\n",
       "    </tr>\n",
       "    <tr>\n",
       "      <th>3</th>\n",
       "      <td>28.68</td>\n",
       "    </tr>\n",
       "    <tr>\n",
       "      <th>4</th>\n",
       "      <td>29.01</td>\n",
       "    </tr>\n",
       "    <tr>\n",
       "      <th>5</th>\n",
       "      <td>28.93</td>\n",
       "    </tr>\n",
       "    <tr>\n",
       "      <th>6</th>\n",
       "      <td>28.23</td>\n",
       "    </tr>\n",
       "    <tr>\n",
       "      <th>7</th>\n",
       "      <td>28.46</td>\n",
       "    </tr>\n",
       "    <tr>\n",
       "      <th>8</th>\n",
       "      <td>28.38</td>\n",
       "    </tr>\n",
       "    <tr>\n",
       "      <th>9</th>\n",
       "      <td>29.75</td>\n",
       "    </tr>\n",
       "  </tbody>\n",
       "</table>\n",
       "</div>"
      ],
      "text/plain": [
       "   close\n",
       "0  28.99\n",
       "1  28.76\n",
       "2  28.31\n",
       "3  28.68\n",
       "4  29.01\n",
       "5  28.93\n",
       "6  28.23\n",
       "7  28.46\n",
       "8  28.38\n",
       "9  29.75"
      ]
     },
     "execution_count": 38,
     "metadata": {},
     "output_type": "execute_result"
    }
   ],
   "source": [
    "# Create the Pandas DataFrame using the price information supplied\n",
    "amd_df = pd.DataFrame({'close':amd_data})\n",
    "\n",
    "# Review the DataFrame\n",
    "amd_df"
   ]
  },
  {
   "cell_type": "markdown",
   "metadata": {},
   "source": [
    "## Step 2: Use the Pandas `bdate_range` function to assign dates to the values in the DataFrame. Set the dates as the DataFrame index. Use `2019-09-30` for the starting date."
   ]
  },
  {
   "cell_type": "code",
   "execution_count": 54,
   "metadata": {},
   "outputs": [],
   "source": [
    "# Set the index as datetime objects starting from 2019-09-09 and onwards (but only business days)\n",
    "amd_df.index = pd.bdate_range(start = '2019-09-30', periods = 10, freq = 'D')"
   ]
  },
  {
   "cell_type": "markdown",
   "metadata": {},
   "source": [
    "## Step 3: Visualize the price movement of the DataFrame by using the `plot` function."
   ]
  },
  {
   "cell_type": "code",
   "execution_count": 55,
   "metadata": {},
   "outputs": [
    {
     "data": {
      "text/plain": [
       "<AxesSubplot:>"
      ]
     },
     "execution_count": 55,
     "metadata": {},
     "output_type": "execute_result"
    },
    {
     "data": {
      "image/png": "[encoded data removed]",
      "text/plain": [
       "<Figure size 640x480 with 1 Axes>"
      ]
     },
     "metadata": {},
     "output_type": "display_data"
    }
   ],
   "source": [
    "# Visualize the DataFrame using the plot function \n",
    "amd_df.plot()"
   ]
  },
  {
   "cell_type": "markdown",
   "metadata": {},
   "source": [
    "## Step 4: Add a column named “trade_type” to the DataFrame that will hold the buys and sells and set it equal to `np.nan`. Then, initialize a variable named `previous_price` that is set equal to `0`."
   ]
  },
  {
   "cell_type": "code",
   "execution_count": 56,
   "metadata": {},
   "outputs": [],
   "source": [
    "# Initialize trade_type column for buys and sells\n",
    "amd_df['trade_type'] = np.nan\n",
    "# Initialize variable to hold the previous_price\n",
    "previous_price = 0"
   ]
  },
  {
   "cell_type": "markdown",
   "metadata": {},
   "source": [
    "## Step 5: Write an algorithm that loops through each index and row of the DataFrame by using the Pandas `iterrows` function."
   ]
  },
  {
   "cell_type": "code",
   "execution_count": 49,
   "metadata": {},
   "outputs": [],
   "source": [
    "# Loop through the Pandas DataFrame and code the conditions of the trading strategy \n",
    "for index, row in amd_df.iterrows():    \n",
    "    \n",
    "    #If the current price is equal to zero (first day), buy\n",
    "    if previous_price == 0:\n",
    "        amd_df.loc[index, 'trade_type'] = 'buy'\n",
    "\n",
    "##############\n",
    "        # amd_df.loc[index, 'cost/proceeds'] = -(row['close'] * share_size)\n",
    "\n",
    "        # accumulated_shares += share_size\n",
    "##############\n",
    "\n",
    "\n",
    "    #If the current price is greater than the previous price, sell (sell high)\n",
    "    elif row['close'] > previous_price:\n",
    "        amd_df.loc[index, 'trade_type'] = 'sell'\n",
    "\n",
    "    #If the current price is smaller than the previous previous price, buy (buy low)\n",
    "    elif row['close'] < previous_price:\n",
    "        amd_df.loc[index, 'trade_type'] = 'buy'\n",
    "\n",
    "    else:\n",
    "        amd_df.loc[index, 'trade_type'] = 'hold'\n",
    "\n",
    "    # update the previous_price to the current row's price\n",
    "    previous_price = row[\"close\"]\n",
    "\n",
    "        \n",
    "    # if the index is the last index of the DataFrame, sell\n",
    "    if index == amd_df.index[-1]:\n",
    "        amd_df.loc[index, \"trade_type\"] = \"sell\""
   ]
  },
  {
   "cell_type": "markdown",
   "metadata": {},
   "source": [
    "## Step 6: Run the algorithm. Then review the resulting DataFrame to confirm that given the closing prices, the “trade_type” column populated as expected."
   ]
  },
  {
   "cell_type": "code",
   "execution_count": 50,
   "metadata": {},
   "outputs": [
    {
     "data": {
      "text/html": [
       "<div>\n",
       "<style scoped>\n",
       "    .dataframe tbody tr th:only-of-type {\n",
       "        vertical-align: middle;\n",
       "    }\n",
       "\n",
       "    .dataframe tbody tr th {\n",
       "        vertical-align: top;\n",
       "    }\n",
       "\n",
       "    .dataframe thead th {\n",
       "        text-align: right;\n",
       "    }\n",
       "</style>\n",
       "<table border=\"1\" class=\"dataframe\">\n",
       "  <thead>\n",
       "    <tr style=\"text-align: right;\">\n",
       "      <th></th>\n",
       "      <th>close</th>\n",
       "      <th>trade_type</th>\n",
       "    </tr>\n",
       "  </thead>\n",
       "  <tbody>\n",
       "    <tr>\n",
       "      <th>2019-09-30</th>\n",
       "      <td>28.99</td>\n",
       "      <td>buy</td>\n",
       "    </tr>\n",
       "    <tr>\n",
       "      <th>2019-10-01</th>\n",
       "      <td>28.76</td>\n",
       "      <td>buy</td>\n",
       "    </tr>\n",
       "    <tr>\n",
       "      <th>2019-10-02</th>\n",
       "      <td>28.31</td>\n",
       "      <td>buy</td>\n",
       "    </tr>\n",
       "    <tr>\n",
       "      <th>2019-10-03</th>\n",
       "      <td>28.68</td>\n",
       "      <td>sell</td>\n",
       "    </tr>\n",
       "    <tr>\n",
       "      <th>2019-10-04</th>\n",
       "      <td>29.01</td>\n",
       "      <td>sell</td>\n",
       "    </tr>\n",
       "    <tr>\n",
       "      <th>2019-10-05</th>\n",
       "      <td>28.93</td>\n",
       "      <td>buy</td>\n",
       "    </tr>\n",
       "    <tr>\n",
       "      <th>2019-10-06</th>\n",
       "      <td>28.23</td>\n",
       "      <td>buy</td>\n",
       "    </tr>\n",
       "    <tr>\n",
       "      <th>2019-10-07</th>\n",
       "      <td>28.46</td>\n",
       "      <td>sell</td>\n",
       "    </tr>\n",
       "    <tr>\n",
       "      <th>2019-10-08</th>\n",
       "      <td>28.38</td>\n",
       "      <td>buy</td>\n",
       "    </tr>\n",
       "    <tr>\n",
       "      <th>2019-10-09</th>\n",
       "      <td>29.75</td>\n",
       "      <td>sell</td>\n",
       "    </tr>\n",
       "  </tbody>\n",
       "</table>\n",
       "</div>"
      ],
      "text/plain": [
       "            close trade_type\n",
       "2019-09-30  28.99        buy\n",
       "2019-10-01  28.76        buy\n",
       "2019-10-02  28.31        buy\n",
       "2019-10-03  28.68       sell\n",
       "2019-10-04  29.01       sell\n",
       "2019-10-05  28.93        buy\n",
       "2019-10-06  28.23        buy\n",
       "2019-10-07  28.46       sell\n",
       "2019-10-08  28.38        buy\n",
       "2019-10-09  29.75       sell"
      ]
     },
     "execution_count": 50,
     "metadata": {},
     "output_type": "execute_result"
    }
   ],
   "source": [
    "# Run the algorithm and review the DataFrame\n",
    "amd_df"
   ]
  },
  {
   "cell_type": "code",
   "execution_count": null,
   "metadata": {},
   "outputs": [],
   "source": []
  }
 ],
 "metadata": {
  "kernelspec": {
   "display_name": "Python 3",
   "language": "python",
   "name": "python3"
  },
  "language_info": {
   "codemirror_mode": {
    "name": "ipython",
    "version": 3
   },
   "file_extension": ".py",
   "mimetype": "text/x-python",
   "name": "python",
   "nbconvert_exporter": "python",
   "pygments_lexer": "ipython3",
   "version": "3.7.13"
  }
 },
 "nbformat": 4,
 "nbformat_minor": 4
}
