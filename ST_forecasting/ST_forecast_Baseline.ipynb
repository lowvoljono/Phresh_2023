{
 "cells": [
  {
   "attachments": {},
   "cell_type": "markdown",
   "metadata": {},
   "source": [
    "# Short-Term Forecasting Baseline Model:"
   ]
  },
  {
   "cell_type": "code",
   "execution_count": 302,
   "metadata": {},
   "outputs": [],
   "source": [
    "import numpy as np\n",
    "import pandas as pd\n",
    "import yfinance as yf\n",
    "import fredapi as fa\n",
    "\n",
    "\n",
    "#ML\n",
    "from sklearn.linear_model import LinearRegression, Ridge\n",
    "from sklearn.linear_model import ElasticNet\n",
    "from sklearn.linear_model import Lasso\n",
    "import hvplot.pandas\n",
    "import xgboost as xgb\n",
    "\n",
    "\n",
    "from sklearn.tree import DecisionTreeRegressor, plot_tree\n",
    "from sklearn import tree\n",
    "from sklearn.tree import export_graphviz\n",
    "\n",
    "from sklearn.model_selection import TimeSeriesSplit\n",
    "from sklearn.metrics import mean_squared_error, r2_score\n",
    "from scipy.stats.mstats import winsorize\n",
    "from sklearn.preprocessing import StandardScaler\n",
    "\n",
    "import matplotlib.pyplot as plt\n",
    "from sklearn.ensemble import GradientBoostingRegressor"
   ]
  },
  {
   "attachments": {},
   "cell_type": "markdown",
   "metadata": {},
   "source": [
    "1. Establish the Independent variables & Target variables through looping each country index and, Drop NA values and align the dates"
   ]
  },
  {
   "cell_type": "code",
   "execution_count": 307,
   "metadata": {},
   "outputs": [],
   "source": [
    "dataframe = pd.read_csv('equity_country_indices.csv', index_col = 0)\n",
    "\n",
    "data_dict = {\n",
    "    'y_dict' : {},\n",
    "    'val_dict' : {},\n",
    "    'mom_dict' : {}\n",
    "}\n",
    "\n",
    "for i in dataframe.columns: # Loop through the country \"column\" names & insert the formula for each date line\n",
    "    \n",
    "    data_dict['y_dict'][i] = (np.log(dataframe[i].shift(-12) / dataframe[i])) #12_M forward\n",
    "\n",
    "    data_dict['val_dict'][i] = dataframe[i].pct_change(60) # VAL\n",
    "\n",
    "    data_dict['mom_dict'][i] = dataframe[i].pct_change(12) # MOM\n",
    "\n",
    "# Set as DF's\n",
    "y_df = pd.DataFrame(data_dict['y_dict']).dropna(axis=0)\n",
    "val_df = pd.DataFrame(data_dict['val_dict']).dropna(axis=0)\n",
    "mom_df = pd.DataFrame(data_dict['mom_dict']).dropna(axis=0)\n",
    "\n",
    "# Align Dates (full sample)\n",
    "y_df1 = y_df.loc['1/01/1965':]\n",
    "val_df1 = val_df.loc[:'1/12/2020']\n",
    "mom_df1 = mom_df.loc['1/01/1965':'1/12/2020']"
   ]
  },
  {
   "attachments": {},
   "cell_type": "markdown",
   "metadata": {},
   "source": [
    "### Set the in-sample period:"
   ]
  },
  {
   "cell_type": "code",
   "execution_count": 308,
   "metadata": {},
   "outputs": [],
   "source": [
    "# SET THE INSAMPLE PERIOD THROUGH THE LOC:\n",
    "insample_y, insample_val, insample_mom = [df.loc['1/01/1967':'1/01/1980'] for df in [y_df1, val_df1, mom_df1]]"
   ]
  },
  {
   "attachments": {},
   "cell_type": "markdown",
   "metadata": {},
   "source": [
    "2. Estimate in-sample parameters through closed-form solutions:"
   ]
  },
  {
   "cell_type": "code",
   "execution_count": 309,
   "metadata": {},
   "outputs": [],
   "source": [
    "reg_results = pd.DataFrame(columns=['country', 'intercept', 'Valuation_beta', 'Momentum_beta'])\n",
    "\n",
    "    # perform the regression by looping over each country\n",
    "for country in insample_y.columns:\n",
    "\n",
    "    #Slicing data for current country\n",
    "    y = insample_y[country]\n",
    "    x1 = insample_val[country]\n",
    "    x2 = insample_mom[country]\n",
    "\n",
    "    #Create a design Matrix X & insert '1s' in a column:\n",
    "    X_matrix = np.column_stack((np.ones(len(x1)), x1, x2)) # inserting the looped country values \n",
    "\n",
    "#Calculate the regression coefficients through the closed form solution:\n",
    "\n",
    "#OLS \n",
    "    beta_hat = np.linalg.inv(X_matrix.T @ X_matrix) @ X_matrix.T @ y\n",
    "\n",
    "# #RIDGE\n",
    "#     n = len(y)\n",
    "#     X_matrix = np.column_stack((np.ones(n), x1, x2)) # n x 3 matrix of input features\n",
    "#     I = np.eye(3) # 3 x 3 identity matrix\n",
    "#     beta_hat = np.linalg.inv(X_matrix.T @ X_matrix + 0.9 * I) @ X_matrix.T @ y # INSERT ALPHA VALUE\n",
    "\n",
    "\n",
    "    # append the results to the output dataframe\n",
    "    reg_results = reg_results.append({\n",
    "        'country': country,\n",
    "        'intercept': beta_hat[0],\n",
    "        'Valuation_beta': beta_hat[1],\n",
    "        'Momentum_beta': beta_hat[2]\n",
    "    }, ignore_index=True)"
   ]
  },
  {
   "attachments": {},
   "cell_type": "markdown",
   "metadata": {},
   "source": [
    "3. Display the shrunk parameters across each country to be used on out of sample test:"
   ]
  },
  {
   "cell_type": "code",
   "execution_count": 310,
   "metadata": {},
   "outputs": [
    {
     "name": "stderr",
     "output_type": "stream",
     "text": [
      "/opt/anaconda3/envs/dev/lib/python3.7/site-packages/ipykernel_launcher.py:1: FutureWarning: Dropping of nuisance columns in DataFrame reductions (with 'numeric_only=None') is deprecated; in a future version this will raise TypeError.  Select only valid columns before calling the reduction.\n",
      "  \"\"\"Entry point for launching an IPython kernel.\n"
     ]
    },
    {
     "data": {
      "text/plain": [
       "intercept         0.068557\n",
       "Valuation_beta   -0.152655\n",
       "Momentum_beta     0.058606\n",
       "dtype: float64"
      ]
     },
     "execution_count": 310,
     "metadata": {},
     "output_type": "execute_result"
    }
   ],
   "source": [
    "shrunk_parameters_in_sample = reg_results.mean()\n",
    "shrunk_parameters_in_sample"
   ]
  },
  {
   "attachments": {},
   "cell_type": "markdown",
   "metadata": {},
   "source": [
    "### Set the out of sample period:"
   ]
  },
  {
   "cell_type": "code",
   "execution_count": 319,
   "metadata": {},
   "outputs": [],
   "source": [
    "# SET THE O_O_SAMPLE PERIOD THROUGH THE LOC:\n",
    "outsample_y, outsample_val, outsample_mom = [df.loc['1/01/2000':'1/12/2020'] for df in [y_df, val_df, mom_df]]"
   ]
  },
  {
   "attachments": {},
   "cell_type": "markdown",
   "metadata": {},
   "source": [
    "4. Insert the in-sample shrunk coefficients into the OOS test for each country:"
   ]
  },
  {
   "cell_type": "code",
   "execution_count": 320,
   "metadata": {},
   "outputs": [
    {
     "data": {
      "text/html": [
       "<div>\n",
       "<style scoped>\n",
       "    .dataframe tbody tr th:only-of-type {\n",
       "        vertical-align: middle;\n",
       "    }\n",
       "\n",
       "    .dataframe tbody tr th {\n",
       "        vertical-align: top;\n",
       "    }\n",
       "\n",
       "    .dataframe thead th {\n",
       "        text-align: right;\n",
       "    }\n",
       "</style>\n",
       "<table border=\"1\" class=\"dataframe\">\n",
       "  <thead>\n",
       "    <tr style=\"text-align: right;\">\n",
       "      <th></th>\n",
       "      <th>US</th>\n",
       "      <th>AU</th>\n",
       "      <th>UK</th>\n",
       "      <th>Germany</th>\n",
       "      <th>France</th>\n",
       "      <th>Japan</th>\n",
       "      <th>Switzerland</th>\n",
       "      <th>India</th>\n",
       "    </tr>\n",
       "  </thead>\n",
       "  <tbody>\n",
       "    <tr>\n",
       "      <th>1/01/2000</th>\n",
       "      <td>-0.157093</td>\n",
       "      <td>-0.030021</td>\n",
       "      <td>-0.101043</td>\n",
       "      <td>-0.157810</td>\n",
       "      <td>-0.212250</td>\n",
       "      <td>0.081905</td>\n",
       "      <td>-0.197744</td>\n",
       "      <td>0.033016</td>\n",
       "    </tr>\n",
       "    <tr>\n",
       "      <th>1/02/2000</th>\n",
       "      <td>-0.129904</td>\n",
       "      <td>-0.033958</td>\n",
       "      <td>-0.086222</td>\n",
       "      <td>-0.182946</td>\n",
       "      <td>-0.242122</td>\n",
       "      <td>0.068122</td>\n",
       "      <td>-0.183242</td>\n",
       "      <td>0.015219</td>\n",
       "    </tr>\n",
       "    <tr>\n",
       "      <th>1/03/2000</th>\n",
       "      <td>-0.133019</td>\n",
       "      <td>-0.035084</td>\n",
       "      <td>-0.099647</td>\n",
       "      <td>-0.219277</td>\n",
       "      <td>-0.269571</td>\n",
       "      <td>0.050252</td>\n",
       "      <td>-0.206566</td>\n",
       "      <td>0.010918</td>\n",
       "    </tr>\n",
       "    <tr>\n",
       "      <th>1/04/2000</th>\n",
       "      <td>-0.136709</td>\n",
       "      <td>-0.018759</td>\n",
       "      <td>-0.081145</td>\n",
       "      <td>-0.199058</td>\n",
       "      <td>-0.235835</td>\n",
       "      <td>0.041244</td>\n",
       "      <td>-0.214396</td>\n",
       "      <td>0.023105</td>\n",
       "    </tr>\n",
       "    <tr>\n",
       "      <th>1/05/2000</th>\n",
       "      <td>-0.124886</td>\n",
       "      <td>-0.009396</td>\n",
       "      <td>-0.068325</td>\n",
       "      <td>-0.175765</td>\n",
       "      <td>-0.225449</td>\n",
       "      <td>0.044801</td>\n",
       "      <td>-0.198548</td>\n",
       "      <td>0.023760</td>\n",
       "    </tr>\n",
       "  </tbody>\n",
       "</table>\n",
       "</div>"
      ],
      "text/plain": [
       "                 US        AU        UK   Germany    France     Japan  \\\n",
       "1/01/2000 -0.157093 -0.030021 -0.101043 -0.157810 -0.212250  0.081905   \n",
       "1/02/2000 -0.129904 -0.033958 -0.086222 -0.182946 -0.242122  0.068122   \n",
       "1/03/2000 -0.133019 -0.035084 -0.099647 -0.219277 -0.269571  0.050252   \n",
       "1/04/2000 -0.136709 -0.018759 -0.081145 -0.199058 -0.235835  0.041244   \n",
       "1/05/2000 -0.124886 -0.009396 -0.068325 -0.175765 -0.225449  0.044801   \n",
       "\n",
       "           Switzerland     India  \n",
       "1/01/2000    -0.197744  0.033016  \n",
       "1/02/2000    -0.183242  0.015219  \n",
       "1/03/2000    -0.206566  0.010918  \n",
       "1/04/2000    -0.214396  0.023105  \n",
       "1/05/2000    -0.198548  0.023760  "
      ]
     },
     "execution_count": 320,
     "metadata": {},
     "output_type": "execute_result"
    }
   ],
   "source": [
    "#predicted_OOS_values = Shrunk_Intercept + Shrunk_Val_beta * 5Y_val + Shrunk_Mom_beta * MOM    ~~~ For each country\n",
    "\n",
    "predicted_OOS_values = pd.DataFrame(columns = y_df1.columns, index = outsample_y.index)\n",
    "predicted_OOS_values1 = pd.DataFrame(columns = y_df1.columns, index = outsample_y.index)\n",
    "\n",
    "for i in y_df1.columns:\n",
    "    value = shrunk_parameters_in_sample[0] + shrunk_parameters_in_sample[1] * outsample_val[i] + shrunk_parameters_in_sample[2] * outsample_mom[i]\n",
    "\n",
    "    value2 = 0.05 + -0.2 * outsample_val[i] + 0.05 * outsample_mom[i]\n",
    "\n",
    "\n",
    "    predicted_OOS_values[i] = value\n",
    "    predicted_OOS_values1[i] = value2\n",
    "\n",
    "predicted_OOS_values.head()"
   ]
  },
  {
   "attachments": {},
   "cell_type": "markdown",
   "metadata": {},
   "source": [
    "5. Define R-Squared function and loop through each country and find OOS R^2 values:"
   ]
  },
  {
   "cell_type": "code",
   "execution_count": 321,
   "metadata": {},
   "outputs": [],
   "source": [
    "def compute_r_squared(actual, predicted):\n",
    "    r_squared = (np.corrcoef(predicted, actual))**2\n",
    "    return r_squared"
   ]
  },
  {
   "attachments": {},
   "cell_type": "markdown",
   "metadata": {},
   "source": [
    "Create a dictionary and loop through all out of sample actual values and predicted OOS values to find the R^2 for all countries:"
   ]
  },
  {
   "cell_type": "code",
   "execution_count": 322,
   "metadata": {},
   "outputs": [],
   "source": [
    "corr_dict = {}\n",
    "\n",
    "for col in y_df1.columns:\n",
    "    r_squared = compute_r_squared(outsample_y[col], predicted_OOS_values[col])\n",
    "\n",
    "    corr_dict[col] = r_squared"
   ]
  },
  {
   "attachments": {},
   "cell_type": "markdown",
   "metadata": {},
   "source": [
    "However, this gives in a weird 2x2 array format, therefore we want to make them into a DF:"
   ]
  },
  {
   "cell_type": "code",
   "execution_count": 323,
   "metadata": {},
   "outputs": [],
   "source": [
    "# Create a dictionary to store the R-squared values\n",
    "rsq_dict = {}\n",
    "\n",
    "# Loop through each country in the dictionary and compute R-squared value\n",
    "for country, corr_coeffs in corr_dict.items():\n",
    "    r_squared = corr_coeffs[0,1]*100\n",
    "    rsq_dict[country] = round(r_squared, 3)\n",
    "\n",
    "# Convert the dictionary to a dataframe\n",
    "results_df = pd.DataFrame.from_dict(rsq_dict, orient='index', columns=['OOS_R_squared'])\n",
    "\n",
    "# Add a column for country names\n",
    "results_df.index.name = 'Country'\n",
    "results_df.reset_index(inplace=True)"
   ]
  },
  {
   "attachments": {},
   "cell_type": "markdown",
   "metadata": {},
   "source": [
    "Do same again for Shane baseline model given constant parameters from before:"
   ]
  },
  {
   "cell_type": "code",
   "execution_count": 324,
   "metadata": {},
   "outputs": [],
   "source": [
    "corr_dict2 = {}\n",
    "\n",
    "for col in y_df1.columns:\n",
    "    r_squared = compute_r_squared(outsample_y[col], predicted_OOS_values1[col])\n",
    "\n",
    "    corr_dict2[col] = r_squared"
   ]
  },
  {
   "cell_type": "code",
   "execution_count": 325,
   "metadata": {},
   "outputs": [],
   "source": [
    "# Create a dictionary to store the R-squared values\n",
    "rsq_dict1 = {}\n",
    "\n",
    "# Loop through each country in the dictionary and compute R-squared value\n",
    "for country, corr_coeffs in corr_dict2.items():\n",
    "    r_squared = corr_coeffs[0,1]*100\n",
    "    rsq_dict1[country] = round(r_squared, 3)\n",
    "\n",
    "# Convert the dictionary to a dataframe\n",
    "results_df2 = pd.DataFrame.from_dict(rsq_dict1, orient='index', columns=['Shane'])\n",
    "\n",
    "# Add a column for country names\n",
    "results_df2.index.name = 'Country'\n",
    "results_df2.reset_index(inplace=True)"
   ]
  },
  {
   "attachments": {},
   "cell_type": "markdown",
   "metadata": {},
   "source": [
    "Combine them:"
   ]
  },
  {
   "cell_type": "code",
   "execution_count": 326,
   "metadata": {},
   "outputs": [
    {
     "data": {
      "text/html": [
       "<div>\n",
       "<style scoped>\n",
       "    .dataframe tbody tr th:only-of-type {\n",
       "        vertical-align: middle;\n",
       "    }\n",
       "\n",
       "    .dataframe tbody tr th {\n",
       "        vertical-align: top;\n",
       "    }\n",
       "\n",
       "    .dataframe thead th {\n",
       "        text-align: right;\n",
       "    }\n",
       "</style>\n",
       "<table border=\"1\" class=\"dataframe\">\n",
       "  <thead>\n",
       "    <tr style=\"text-align: right;\">\n",
       "      <th></th>\n",
       "      <th>Country</th>\n",
       "      <th>OOS_R_squared</th>\n",
       "      <th>Country</th>\n",
       "      <th>Shane</th>\n",
       "    </tr>\n",
       "  </thead>\n",
       "  <tbody>\n",
       "    <tr>\n",
       "      <th>0</th>\n",
       "      <td>US</td>\n",
       "      <td>35.452</td>\n",
       "      <td>US</td>\n",
       "      <td>36.028</td>\n",
       "    </tr>\n",
       "    <tr>\n",
       "      <th>1</th>\n",
       "      <td>AU</td>\n",
       "      <td>24.775</td>\n",
       "      <td>AU</td>\n",
       "      <td>25.112</td>\n",
       "    </tr>\n",
       "    <tr>\n",
       "      <th>2</th>\n",
       "      <td>UK</td>\n",
       "      <td>39.548</td>\n",
       "      <td>UK</td>\n",
       "      <td>39.990</td>\n",
       "    </tr>\n",
       "    <tr>\n",
       "      <th>3</th>\n",
       "      <td>Germany</td>\n",
       "      <td>45.705</td>\n",
       "      <td>Germany</td>\n",
       "      <td>45.643</td>\n",
       "    </tr>\n",
       "    <tr>\n",
       "      <th>4</th>\n",
       "      <td>France</td>\n",
       "      <td>38.813</td>\n",
       "      <td>France</td>\n",
       "      <td>38.627</td>\n",
       "    </tr>\n",
       "    <tr>\n",
       "      <th>5</th>\n",
       "      <td>Japan</td>\n",
       "      <td>10.038</td>\n",
       "      <td>Japan</td>\n",
       "      <td>9.569</td>\n",
       "    </tr>\n",
       "    <tr>\n",
       "      <th>6</th>\n",
       "      <td>Switzerland</td>\n",
       "      <td>36.538</td>\n",
       "      <td>Switzerland</td>\n",
       "      <td>36.474</td>\n",
       "    </tr>\n",
       "    <tr>\n",
       "      <th>7</th>\n",
       "      <td>India</td>\n",
       "      <td>10.994</td>\n",
       "      <td>India</td>\n",
       "      <td>11.010</td>\n",
       "    </tr>\n",
       "  </tbody>\n",
       "</table>\n",
       "</div>"
      ],
      "text/plain": [
       "       Country  OOS_R_squared      Country   Shane\n",
       "0           US         35.452           US  36.028\n",
       "1           AU         24.775           AU  25.112\n",
       "2           UK         39.548           UK  39.990\n",
       "3      Germany         45.705      Germany  45.643\n",
       "4       France         38.813       France  38.627\n",
       "5        Japan         10.038        Japan   9.569\n",
       "6  Switzerland         36.538  Switzerland  36.474\n",
       "7        India         10.994        India  11.010"
      ]
     },
     "execution_count": 326,
     "metadata": {},
     "output_type": "execute_result"
    }
   ],
   "source": [
    "combined = pd.concat([results_df, results_df2], join = 'inner', axis =1)\n",
    "combined"
   ]
  },
  {
   "attachments": {},
   "cell_type": "markdown",
   "metadata": {},
   "source": [
    "Baseline Model coeffs:"
   ]
  },
  {
   "attachments": {},
   "cell_type": "markdown",
   "metadata": {},
   "source": [
    "![]](https://imgur.com/a/uci5MXi)\n"
   ]
  },
  {
   "cell_type": "code",
   "execution_count": 327,
   "metadata": {},
   "outputs": [
    {
     "data": {
      "text/plain": [
       "<AxesSubplot:xlabel='predicted', ylabel='actual'>"
      ]
     },
     "execution_count": 327,
     "metadata": {},
     "output_type": "execute_result"
    },
    {
     "data": {
      "image/png": "[encoded data removed]",
      "text/plain": [
       "<Figure size 640x480 with 1 Axes>"
      ]
     },
     "metadata": {},
     "output_type": "display_data"
    }
   ],
   "source": [
    "plotter = pd.DataFrame()\n",
    "\n",
    "plotter['predicted'] = predicted_OOS_values['US']\n",
    "plotter['actual'] = outsample_y['US']\n",
    "\n",
    "plotter.plot(kind='scatter', y='actual', x='predicted')"
   ]
  },
  {
   "attachments": {},
   "cell_type": "markdown",
   "metadata": {},
   "source": [
    "## MSE:"
   ]
  },
  {
   "cell_type": "code",
   "execution_count": 328,
   "metadata": {},
   "outputs": [
    {
     "name": "stdout",
     "output_type": "stream",
     "text": [
      "First line = new:  {'US': 0.02137058880320946, 'AU': 0.018514789901890663, 'UK': 0.01808839999107032, 'Germany': 0.03344380396200863, 'France': 0.026937356954313832, 'Japan': 0.04397878642291466, 'Switzerland': 0.020550570407804055, 'India': 0.09264724769598026}\n",
      "\n",
      "\n",
      "Second Line = Shane:  {'US': 0.02217962551764255, 'AU': 0.01925638821431978, 'UK': 0.015279188635381039, 'Germany': 0.030651936352977326, 'France': 0.02582760249335305, 'Japan': 0.043418639914298535, 'Switzerland': 0.020053250567493585, 'India': 0.13004053650724842}\n"
     ]
    }
   ],
   "source": [
    "# Loops through 2 seperate dataframes and matches by 'column_name' to determine which columns to perform the function on\n",
    "\n",
    "mse_df = {country: mean_squared_error(outsample_y[country], predicted_OOS_values[country]) for country in outsample_y}\n",
    "mse_df_shane = {country: mean_squared_error(outsample_y[country], predicted_OOS_values1[country]) for country in outsample_y}\n",
    "\n",
    "print(f'First line = new:  {mse_df}\\n\\n\\nSecond Line = Shane:  {mse_df_shane}')"
   ]
  },
  {
   "attachments": {},
   "cell_type": "markdown",
   "metadata": {},
   "source": [
    "# ML Models - Decision Tree:"
   ]
  },
  {
   "attachments": {},
   "cell_type": "markdown",
   "metadata": {},
   "source": [
    "Multi-Indexing: Here we create only 1 dataframe for each IS and OOS:"
   ]
  },
  {
   "cell_type": "code",
   "execution_count": 329,
   "metadata": {},
   "outputs": [],
   "source": [
    "insample_whole_data = pd.concat([insample_val,insample_mom, insample_y], axis = 1, keys = ['val', 'mom', 'y'])\n",
    "oossample_whole_data = pd.concat([outsample_val,outsample_mom, outsample_y], axis = 1, keys = ['val', 'mom', 'y'])"
   ]
  },
  {
   "attachments": {},
   "cell_type": "markdown",
   "metadata": {},
   "source": [
    "Seperate countries into their own dict's (makes it easier for the looping regressions):"
   ]
  },
  {
   "cell_type": "code",
   "execution_count": 330,
   "metadata": {},
   "outputs": [],
   "source": [
    "country_dfs = {}\n",
    "country_dfs_oos = {}\n",
    "\n",
    "\n",
    "# Loop through each country within the second level (e.g. country names) and use the 'xs' cross-section function to make seperate dictionaries for each country\n",
    "for country in insample_whole_data.columns.levels[1]:\n",
    "    country_dfs[country] = insample_whole_data.xs(country, level=1, axis=1)\n",
    "\n",
    "for country in oossample_whole_data.columns.levels[1]:\n",
    "    country_dfs_oos[country] = oossample_whole_data.xs(country, level=1, axis=1)"
   ]
  },
  {
   "attachments": {},
   "cell_type": "markdown",
   "metadata": {},
   "source": [
    "### Modelling - Iteratively apply the Tree to each dictioniary:"
   ]
  },
  {
   "cell_type": "code",
   "execution_count": 331,
   "metadata": {},
   "outputs": [],
   "source": [
    "def ML_2_factor(country_dfs, country_dfs_oos, model_choice):\n",
    "    \n",
    "    # Fitting the model & predicting values\n",
    "    ####################################################################################################################################\n",
    "    predictions = {}\n",
    "\n",
    "    for country, data in country_dfs.items():\n",
    "\n",
    "        X = data.drop(columns = ['y'])\n",
    "\n",
    "        y = data['y']\n",
    "\n",
    "        model = model_choice\n",
    "\n",
    "        model.fit(X,y)\n",
    "\n",
    "        for country1, data1 in country_dfs_oos.items():\n",
    "\n",
    "            X1 = data1.drop(columns = ['y'])\n",
    "\n",
    "        y_pred = model.predict(X1)\n",
    "\n",
    "        predictions[country] = y_pred\n",
    "\n",
    "\n",
    "    # MSE & R2 OF MODEL\n",
    "    ####################################################################################################################################\n",
    "    mse_of_ml_model = {}\n",
    "    r2_ml = {}\n",
    "\n",
    "    for country in country_dfs.keys():\n",
    "\n",
    "        tree_fa = model_choice.fit(country_dfs[country][['val', 'mom']], \n",
    "                                                                country_dfs[country]['y'])\n",
    "        \n",
    "\n",
    "        # Make predictions using the tree and compute mse\n",
    "        y_pred = tree_fa.predict(country_dfs_oos[country][['val', 'mom']])\n",
    "\n",
    "        mse = mean_squared_error(country_dfs_oos[country]['y'], y_pred)\n",
    "\n",
    "        ml_r2 = compute_r_squared(country_dfs_oos[country]['y'], y_pred)\n",
    "\n",
    "        # Store the mse value for the current country in a dictionary\n",
    "        mse_of_ml_model[country] = mse\n",
    "\n",
    "        # Store R2 value\n",
    "        r2_ml[country] = ml_r2\n",
    "\n",
    "\n",
    "    # Formatting to appending stuff:\n",
    "    ####################################################################################################################################\n",
    "\n",
    "        # Create a dictionary to store the R-squared values\n",
    "        rsq_dict5 = {}\n",
    "\n",
    "        # Loop through each country in the dictionary and compute R-squared value\n",
    "        for country, corr_coeffs in r2_ml.items():\n",
    "            r_squared = corr_coeffs[0,1]*100\n",
    "            rsq_dict5[country] = round(r_squared, 3)\n",
    "\n",
    "        # Convert the dictionary to a dataframe\n",
    "        results_df_ml = pd.DataFrame.from_dict(rsq_dict5, orient='index', columns=['OOS_R_squared'])\n",
    "\n",
    "        # Add a column for country names\n",
    "        results_df_ml.index.name = 'Country'\n",
    "        results_df_ml.reset_index(inplace=True)\n",
    "\n",
    "\n",
    "    return mse_of_ml_model, results_df_ml, predictions               "
   ]
  },
  {
   "attachments": {},
   "cell_type": "markdown",
   "metadata": {},
   "source": [
    "Extract MSE's:"
   ]
  },
  {
   "cell_type": "code",
   "execution_count": 332,
   "metadata": {},
   "outputs": [
    {
     "name": "stdout",
     "output_type": "stream",
     "text": [
      "[23:05:28] WARNING: /Users/runner/work/xgboost/xgboost/python-package/build/temp.macosx-10.9-x86_64-cpython-37/xgboost/src/learner.cc:627: \n",
      "Parameters: { \"min_samples_split\" } might not be used.\n",
      "\n",
      "  This could be a false alarm, with some parameters getting used by language bindings but\n",
      "  then being mistakenly passed down to XGBoost core, or some parameter actually being used\n",
      "  but getting flagged wrongly here. Please open an issue if you find any such cases.\n",
      "\n",
      "\n",
      "[23:05:28] WARNING: /Users/runner/work/xgboost/xgboost/python-package/build/temp.macosx-10.9-x86_64-cpython-37/xgboost/src/learner.cc:627: \n",
      "Parameters: { \"min_samples_split\" } might not be used.\n",
      "\n",
      "  This could be a false alarm, with some parameters getting used by language bindings but\n",
      "  then being mistakenly passed down to XGBoost core, or some parameter actually being used\n",
      "  but getting flagged wrongly here. Please open an issue if you find any such cases.\n",
      "\n",
      "\n",
      "[23:05:28] WARNING: /Users/runner/work/xgboost/xgboost/python-package/build/temp.macosx-10.9-x86_64-cpython-37/xgboost/src/learner.cc:627: \n",
      "Parameters: { \"min_samples_split\" } might not be used.\n",
      "\n",
      "  This could be a false alarm, with some parameters getting used by language bindings but\n",
      "  then being mistakenly passed down to XGBoost core, or some parameter actually being used\n",
      "  but getting flagged wrongly here. Please open an issue if you find any such cases.\n",
      "\n",
      "\n",
      "[23:05:28] WARNING: /Users/runner/work/xgboost/xgboost/python-package/build/temp.macosx-10.9-x86_64-cpython-37/xgboost/src/learner.cc:627: \n",
      "Parameters: { \"min_samples_split\" } might not be used.\n",
      "\n",
      "  This could be a false alarm, with some parameters getting used by language bindings but\n",
      "  then being mistakenly passed down to XGBoost core, or some parameter actually being used\n",
      "  but getting flagged wrongly here. Please open an issue if you find any such cases.\n",
      "\n",
      "\n",
      "[23:05:28] WARNING: /Users/runner/work/xgboost/xgboost/python-package/build/temp.macosx-10.9-x86_64-cpython-37/xgboost/src/learner.cc:627: \n",
      "Parameters: { \"min_samples_split\" } might not be used.\n",
      "\n",
      "  This could be a false alarm, with some parameters getting used by language bindings but\n",
      "  then being mistakenly passed down to XGBoost core, or some parameter actually being used\n",
      "  but getting flagged wrongly here. Please open an issue if you find any such cases.\n",
      "\n",
      "\n",
      "[23:05:28] WARNING: /Users/runner/work/xgboost/xgboost/python-package/build/temp.macosx-10.9-x86_64-cpython-37/xgboost/src/learner.cc:627: \n",
      "Parameters: { \"min_samples_split\" } might not be used.\n",
      "\n",
      "  This could be a false alarm, with some parameters getting used by language bindings but\n",
      "  then being mistakenly passed down to XGBoost core, or some parameter actually being used\n",
      "  but getting flagged wrongly here. Please open an issue if you find any such cases.\n",
      "\n",
      "\n",
      "[23:05:29] WARNING: /Users/runner/work/xgboost/xgboost/python-package/build/temp.macosx-10.9-x86_64-cpython-37/xgboost/src/learner.cc:627: \n",
      "Parameters: { \"min_samples_split\" } might not be used.\n",
      "\n",
      "  This could be a false alarm, with some parameters getting used by language bindings but\n",
      "  then being mistakenly passed down to XGBoost core, or some parameter actually being used\n",
      "  but getting flagged wrongly here. Please open an issue if you find any such cases.\n",
      "\n",
      "\n",
      "[23:05:29] WARNING: /Users/runner/work/xgboost/xgboost/python-package/build/temp.macosx-10.9-x86_64-cpython-37/xgboost/src/learner.cc:627: \n",
      "Parameters: { \"min_samples_split\" } might not be used.\n",
      "\n",
      "  This could be a false alarm, with some parameters getting used by language bindings but\n",
      "  then being mistakenly passed down to XGBoost core, or some parameter actually being used\n",
      "  but getting flagged wrongly here. Please open an issue if you find any such cases.\n",
      "\n",
      "\n",
      "[23:05:29] WARNING: /Users/runner/work/xgboost/xgboost/python-package/build/temp.macosx-10.9-x86_64-cpython-37/xgboost/src/learner.cc:627: \n",
      "Parameters: { \"min_samples_split\" } might not be used.\n",
      "\n",
      "  This could be a false alarm, with some parameters getting used by language bindings but\n",
      "  then being mistakenly passed down to XGBoost core, or some parameter actually being used\n",
      "  but getting flagged wrongly here. Please open an issue if you find any such cases.\n",
      "\n",
      "\n",
      "[23:05:29] WARNING: /Users/runner/work/xgboost/xgboost/python-package/build/temp.macosx-10.9-x86_64-cpython-37/xgboost/src/learner.cc:627: \n",
      "Parameters: { \"min_samples_split\" } might not be used.\n",
      "\n",
      "  This could be a false alarm, with some parameters getting used by language bindings but\n",
      "  then being mistakenly passed down to XGBoost core, or some parameter actually being used\n",
      "  but getting flagged wrongly here. Please open an issue if you find any such cases.\n",
      "\n",
      "\n",
      "[23:05:29] WARNING: /Users/runner/work/xgboost/xgboost/python-package/build/temp.macosx-10.9-x86_64-cpython-37/xgboost/src/learner.cc:627: \n",
      "Parameters: { \"min_samples_split\" } might not be used.\n",
      "\n",
      "  This could be a false alarm, with some parameters getting used by language bindings but\n",
      "  then being mistakenly passed down to XGBoost core, or some parameter actually being used\n",
      "  but getting flagged wrongly here. Please open an issue if you find any such cases.\n",
      "\n",
      "\n",
      "[23:05:29] WARNING: /Users/runner/work/xgboost/xgboost/python-package/build/temp.macosx-10.9-x86_64-cpython-37/xgboost/src/learner.cc:627: \n",
      "Parameters: { \"min_samples_split\" } might not be used.\n",
      "\n",
      "  This could be a false alarm, with some parameters getting used by language bindings but\n",
      "  then being mistakenly passed down to XGBoost core, or some parameter actually being used\n",
      "  but getting flagged wrongly here. Please open an issue if you find any such cases.\n",
      "\n",
      "\n",
      "[23:05:29] WARNING: /Users/runner/work/xgboost/xgboost/python-package/build/temp.macosx-10.9-x86_64-cpython-37/xgboost/src/learner.cc:627: \n",
      "Parameters: { \"min_samples_split\" } might not be used.\n",
      "\n",
      "  This could be a false alarm, with some parameters getting used by language bindings but\n",
      "  then being mistakenly passed down to XGBoost core, or some parameter actually being used\n",
      "  but getting flagged wrongly here. Please open an issue if you find any such cases.\n",
      "\n",
      "\n",
      "[23:05:29] WARNING: /Users/runner/work/xgboost/xgboost/python-package/build/temp.macosx-10.9-x86_64-cpython-37/xgboost/src/learner.cc:627: \n",
      "Parameters: { \"min_samples_split\" } might not be used.\n",
      "\n",
      "  This could be a false alarm, with some parameters getting used by language bindings but\n",
      "  then being mistakenly passed down to XGBoost core, or some parameter actually being used\n",
      "  but getting flagged wrongly here. Please open an issue if you find any such cases.\n",
      "\n",
      "\n",
      "[23:05:29] WARNING: /Users/runner/work/xgboost/xgboost/python-package/build/temp.macosx-10.9-x86_64-cpython-37/xgboost/src/learner.cc:627: \n",
      "Parameters: { \"min_samples_split\" } might not be used.\n",
      "\n",
      "  This could be a false alarm, with some parameters getting used by language bindings but\n",
      "  then being mistakenly passed down to XGBoost core, or some parameter actually being used\n",
      "  but getting flagged wrongly here. Please open an issue if you find any such cases.\n",
      "\n",
      "\n",
      "[23:05:29] WARNING: /Users/runner/work/xgboost/xgboost/python-package/build/temp.macosx-10.9-x86_64-cpython-37/xgboost/src/learner.cc:627: \n",
      "Parameters: { \"min_samples_split\" } might not be used.\n",
      "\n",
      "  This could be a false alarm, with some parameters getting used by language bindings but\n",
      "  then being mistakenly passed down to XGBoost core, or some parameter actually being used\n",
      "  but getting flagged wrongly here. Please open an issue if you find any such cases.\n",
      "\n",
      "\n"
     ]
    }
   ],
   "source": [
    "decision_tree = ML_2_factor(country_dfs, country_dfs_oos, DecisionTreeRegressor(min_samples_split=50, random_state = 1))\n",
    "\n",
    "grad_boost = ML_2_factor(country_dfs, country_dfs_oos, GradientBoostingRegressor(n_estimators=300, learning_rate=0.1, max_depth=10, min_samples_split=50, random_state = 1))\n",
    "\n",
    "xgboost = ML_2_factor(country_dfs, country_dfs_oos, xgb.XGBRegressor(objective ='reg:squarederror', n_estimators=100, learning_rate=0.1, max_depth=10, min_samples_split = 50, random_state = 1))"
   ]
  },
  {
   "attachments": {},
   "cell_type": "markdown",
   "metadata": {},
   "source": [
    "## Compare MSE across OLS, ML:"
   ]
  },
  {
   "cell_type": "code",
   "execution_count": 333,
   "metadata": {},
   "outputs": [
    {
     "data": {},
     "metadata": {},
     "output_type": "display_data"
    },
    {
     "data": {
      "application/vnd.holoviews_exec.v0+json": "",
      "text/html": [
       "<div id='3215'>\n",
       "  <div class=\"bk-root\" id=\"fa733f15-35bf-4598-8f37-2827679597b3\" data-root-id=\"3215\"></div>\n",
       "</div>\n",
       "<script type=\"application/javascript\">(function(root) {\n",
       "  function embed_document(root) {\n",
       "    var docs_json = {\"c23b67c5-1470-4c9c-a599-08e92344d736\":{\"defs\":[{\"extends\":null,\"module\":null,\"name\":\"ReactiveHTML1\",\"overrides\":[],\"properties\":[]},{\"extends\":null,\"module\":null,\"name\":\"FlexBox1\",\"overrides\":[],\"properties\":[{\"default\":\"flex-start\",\"kind\":null,\"name\":\"align_content\"},{\"default\":\"flex-start\",\"kind\":null,\"name\":\"align_items\"},{\"default\":\"row\",\"kind\":null,\"name\":\"flex_direction\"},{\"default\":\"wrap\",\"kind\":null,\"name\":\"flex_wrap\"},{\"default\":\"flex-start\",\"kind\":null,\"name\":\"justify_content\"}]},{\"extends\":null,\"module\":null,\"name\":\"GridStack1\",\"overrides\":[],\"properties\":[{\"default\":\"warn\",\"kind\":null,\"name\":\"mode\"},{\"default\":null,\"kind\":null,\"name\":\"ncols\"},{\"default\":null,\"kind\":null,\"name\":\"nrows\"},{\"default\":true,\"kind\":null,\"name\":\"allow_resize\"},{\"default\":true,\"kind\":null,\"name\":\"allow_drag\"},{\"default\":[],\"kind\":null,\"name\":\"state\"}]},{\"extends\":null,\"module\":null,\"name\":\"click1\",\"overrides\":[],\"properties\":[{\"default\":\"\",\"kind\":null,\"name\":\"terminal_output\"},{\"default\":\"\",\"kind\":null,\"name\":\"debug_name\"},{\"default\":0,\"kind\":null,\"name\":\"clears\"}]},{\"extends\":null,\"module\":null,\"name\":\"NotificationAreaBase1\",\"overrides\":[],\"properties\":[{\"default\":\"bottom-right\",\"kind\":null,\"name\":\"position\"},{\"default\":0,\"kind\":null,\"name\":\"_clear\"}]},{\"extends\":null,\"module\":null,\"name\":\"NotificationArea1\",\"overrides\":[],\"properties\":[{\"default\":[],\"kind\":null,\"name\":\"notifications\"},{\"default\":\"bottom-right\",\"kind\":null,\"name\":\"position\"},{\"default\":0,\"kind\":null,\"name\":\"_clear\"},{\"default\":[{\"background\":\"#ffc107\",\"icon\":{\"className\":\"fas fa-exclamation-triangle\",\"color\":\"white\",\"tagName\":\"i\"},\"type\":\"warning\"},{\"background\":\"#007bff\",\"icon\":{\"className\":\"fas fa-info-circle\",\"color\":\"white\",\"tagName\":\"i\"},\"type\":\"info\"}],\"kind\":null,\"name\":\"types\"}]},{\"extends\":null,\"module\":null,\"name\":\"Notification\",\"overrides\":[],\"properties\":[{\"default\":null,\"kind\":null,\"name\":\"background\"},{\"default\":3000,\"kind\":null,\"name\":\"duration\"},{\"default\":null,\"kind\":null,\"name\":\"icon\"},{\"default\":\"\",\"kind\":null,\"name\":\"message\"},{\"default\":null,\"kind\":null,\"name\":\"notification_type\"},{\"default\":false,\"kind\":null,\"name\":\"_destroyed\"}]},{\"extends\":null,\"module\":null,\"name\":\"TemplateActions1\",\"overrides\":[],\"properties\":[{\"default\":0,\"kind\":null,\"name\":\"open_modal\"},{\"default\":0,\"kind\":null,\"name\":\"close_modal\"}]},{\"extends\":null,\"module\":null,\"name\":\"MaterialTemplateActions1\",\"overrides\":[],\"properties\":[{\"default\":0,\"kind\":null,\"name\":\"open_modal\"},{\"default\":0,\"kind\":null,\"name\":\"close_modal\"}]}],\"roots\":{\"references\":[{\"attributes\":{\"overlay\":{\"id\":\"3241\"}},\"id\":\"3239\",\"type\":\"BoxZoomTool\"},{\"attributes\":{\"below\":[{\"id\":\"3229\"}],\"center\":[{\"id\":\"3231\"},{\"id\":\"3235\"}],\"height\":700,\"left\":[{\"id\":\"3232\"}],\"margin\":[5,5,5,5],\"min_border_bottom\":10,\"min_border_left\":10,\"min_border_right\":10,\"min_border_top\":10,\"renderers\":[{\"id\":\"3256\"}],\"sizing_mode\":\"fixed\",\"title\":{\"id\":\"3221\"},\"toolbar\":{\"id\":\"3242\"},\"width\":900,\"x_range\":{\"id\":\"3217\"},\"x_scale\":{\"id\":\"3225\"},\"y_range\":{\"id\":\"3218\"},\"y_scale\":{\"id\":\"3227\"}},\"id\":\"3220\",\"subtype\":\"Figure\",\"type\":\"Plot\"},{\"attributes\":{\"data\":{\"Variable\":[\"OLS_new\",\"OLS_new\",\"OLS_new\",\"OLS_new\",\"OLS_new\",\"OLS_new\",\"OLS_new\",\"OLS_new\",\"OLS_shane\",\"OLS_shane\",\"OLS_shane\",\"OLS_shane\",\"OLS_shane\",\"OLS_shane\",\"OLS_shane\",\"OLS_shane\",\"Decision_Tree\",\"Decision_Tree\",\"Decision_Tree\",\"Decision_Tree\",\"Decision_Tree\",\"Decision_Tree\",\"Decision_Tree\",\"Decision_Tree\",\"Gradient_Boost\",\"Gradient_Boost\",\"Gradient_Boost\",\"Gradient_Boost\",\"Gradient_Boost\",\"Gradient_Boost\",\"Gradient_Boost\",\"Gradient_Boost\",\"XG_Boost\",\"XG_Boost\",\"XG_Boost\",\"XG_Boost\",\"XG_Boost\",\"XG_Boost\",\"XG_Boost\",\"XG_Boost\"],\"index\":[\"US\",\"AU\",\"UK\",\"Germany\",\"France\",\"Japan\",\"Switzerland\",\"India\",\"US\",\"AU\",\"UK\",\"Germany\",\"France\",\"Japan\",\"Switzerland\",\"India\",\"US\",\"AU\",\"UK\",\"Germany\",\"France\",\"Japan\",\"Switzerland\",\"India\",\"US\",\"AU\",\"UK\",\"Germany\",\"France\",\"Japan\",\"Switzerland\",\"India\",\"US\",\"AU\",\"UK\",\"Germany\",\"France\",\"Japan\",\"Switzerland\",\"India\"],\"value\":{\"__ndarray__\":\"jjEG8CvilT901XuEivWSPzIumPnDhZI/P5SK2IsfoT90SKNsd5WbP6PxzjJjhKY/Xz1DbzULlT9sLOviure3Pwh28XhBtpY/C3R6VvK3kz/IrPz7sUqPPzbLx6A4Y58/hhIsEI1ymj8U++/M9zqmP9Oodt3WiJQ/e/m5FSulwD/0J4kxFdilP7XuvpHnhKw/xg80JwIUsD+Ot3o1LcqoP+mgF1A69qg/Fow+iJmftz/idTNbbfGZP9LjvHZCeMI/IQpUeiFWrT+esAw/I0m5Pytm6yl/ssI/X2iwSCxwqj/LBXHYAHewP6s5obKQx7s/6rbionuhpT8hQluv7rO6Py0vP+u7ZKk/Nyo/bs25tD9h1C95CRvDP6/sopTxDKo/B9yCyLFCqD9K7OLSApS3P0VupzcBFq8/R3LjVnOiuT8=\",\"dtype\":\"float64\",\"order\":\"little\",\"shape\":[40]},\"xoffsets\":[[\"US\",\"OLS_new\"],[\"AU\",\"OLS_new\"],[\"UK\",\"OLS_new\"],[\"Germany\",\"OLS_new\"],[\"France\",\"OLS_new\"],[\"Japan\",\"OLS_new\"],[\"Switzerland\",\"OLS_new\"],[\"India\",\"OLS_new\"],[\"US\",\"OLS_shane\"],[\"AU\",\"OLS_shane\"],[\"UK\",\"OLS_shane\"],[\"Germany\",\"OLS_shane\"],[\"France\",\"OLS_shane\"],[\"Japan\",\"OLS_shane\"],[\"Switzerland\",\"OLS_shane\"],[\"India\",\"OLS_shane\"],[\"US\",\"Decision_Tree\"],[\"AU\",\"Decision_Tree\"],[\"UK\",\"Decision_Tree\"],[\"Germany\",\"Decision_Tree\"],[\"France\",\"Decision_Tree\"],[\"Japan\",\"Decision_Tree\"],[\"Switzerland\",\"Decision_Tree\"],[\"India\",\"Decision_Tree\"],[\"US\",\"Gradient_Boost\"],[\"AU\",\"Gradient_Boost\"],[\"UK\",\"Gradient_Boost\"],[\"Germany\",\"Gradient_Boost\"],[\"France\",\"Gradient_Boost\"],[\"Japan\",\"Gradient_Boost\"],[\"Switzerland\",\"Gradient_Boost\"],[\"India\",\"Gradient_Boost\"],[\"US\",\"XG_Boost\"],[\"AU\",\"XG_Boost\"],[\"UK\",\"XG_Boost\"],[\"Germany\",\"XG_Boost\"],[\"France\",\"XG_Boost\"],[\"Japan\",\"XG_Boost\"],[\"Switzerland\",\"XG_Boost\"],[\"India\",\"XG_Boost\"]]},\"selected\":{\"id\":\"3251\"},\"selection_policy\":{\"id\":\"3272\"}},\"id\":\"3250\",\"type\":\"ColumnDataSource\"},{\"attributes\":{},\"id\":\"3227\",\"type\":\"LinearScale\"},{\"attributes\":{},\"id\":\"3240\",\"type\":\"ResetTool\"},{\"attributes\":{},\"id\":\"3263\",\"type\":\"BasicTickFormatter\"},{\"attributes\":{\"axis\":{\"id\":\"3232\"},\"coordinates\":null,\"dimension\":1,\"grid_line_color\":null,\"group\":null,\"ticker\":null},\"id\":\"3235\",\"type\":\"Grid\"},{\"attributes\":{\"bottom_units\":\"screen\",\"coordinates\":null,\"fill_alpha\":0.5,\"fill_color\":\"lightgrey\",\"group\":null,\"left_units\":\"screen\",\"level\":\"overlay\",\"line_alpha\":1.0,\"line_color\":\"black\",\"line_dash\":[4,4],\"line_width\":2,\"right_units\":\"screen\",\"syncable\":false,\"top_units\":\"screen\"},\"id\":\"3241\",\"type\":\"BoxAnnotation\"},{\"attributes\":{\"children\":[{\"id\":\"3216\"},{\"id\":\"3220\"},{\"id\":\"3275\"}],\"margin\":[0,0,0,0],\"name\":\"Row04442\",\"tags\":[\"embedded\"]},\"id\":\"3215\",\"type\":\"Row\"},{\"attributes\":{\"coordinates\":null,\"group\":null,\"text_color\":\"black\",\"text_font_size\":\"12pt\"},\"id\":\"3221\",\"type\":\"Title\"},{\"attributes\":{},\"id\":\"3261\",\"type\":\"AllLabels\"},{\"attributes\":{},\"id\":\"3230\",\"type\":\"CategoricalTicker\"},{\"attributes\":{\"end\":0.16266094545395998,\"reset_end\":0.16266094545395998,\"reset_start\":0.0,\"tags\":[[[\"value\",\"value\",null]]]},\"id\":\"3218\",\"type\":\"Range1d\"},{\"attributes\":{\"coordinates\":null,\"data_source\":{\"id\":\"3250\"},\"glyph\":{\"id\":\"3253\"},\"group\":null,\"hover_glyph\":null,\"muted_glyph\":{\"id\":\"3255\"},\"nonselection_glyph\":{\"id\":\"3254\"},\"selection_glyph\":{\"id\":\"3258\"},\"view\":{\"id\":\"3257\"}},\"id\":\"3256\",\"type\":\"GlyphRenderer\"},{\"attributes\":{\"axis\":{\"id\":\"3229\"},\"coordinates\":null,\"grid_line_color\":null,\"group\":null,\"ticker\":null},\"id\":\"3231\",\"type\":\"Grid\"},{\"attributes\":{\"factors\":[[\"US\",\"XG_Boost\"],[\"US\",\"Gradient_Boost\"],[\"US\",\"Decision_Tree\"],[\"US\",\"OLS_shane\"],[\"US\",\"OLS_new\"],[\"AU\",\"XG_Boost\"],[\"AU\",\"Gradient_Boost\"],[\"AU\",\"Decision_Tree\"],[\"AU\",\"OLS_shane\"],[\"AU\",\"OLS_new\"],[\"UK\",\"XG_Boost\"],[\"UK\",\"Gradient_Boost\"],[\"UK\",\"Decision_Tree\"],[\"UK\",\"OLS_shane\"],[\"UK\",\"OLS_new\"],[\"Germany\",\"XG_Boost\"],[\"Germany\",\"Gradient_Boost\"],[\"Germany\",\"Decision_Tree\"],[\"Germany\",\"OLS_shane\"],[\"Germany\",\"OLS_new\"],[\"France\",\"XG_Boost\"],[\"France\",\"Gradient_Boost\"],[\"France\",\"Decision_Tree\"],[\"France\",\"OLS_shane\"],[\"France\",\"OLS_new\"],[\"Japan\",\"XG_Boost\"],[\"Japan\",\"Gradient_Boost\"],[\"Japan\",\"Decision_Tree\"],[\"Japan\",\"OLS_shane\"],[\"Japan\",\"OLS_new\"],[\"Switzerland\",\"XG_Boost\"],[\"Switzerland\",\"Gradient_Boost\"],[\"Switzerland\",\"Decision_Tree\"],[\"Switzerland\",\"OLS_shane\"],[\"Switzerland\",\"OLS_new\"],[\"India\",\"XG_Boost\"],[\"India\",\"Gradient_Boost\"],[\"India\",\"Decision_Tree\"],[\"India\",\"OLS_shane\"],[\"India\",\"OLS_new\"]],\"tags\":[[[\"index\",\"index\",null],[\"Variable\",\"Variable\",null]]]},\"id\":\"3217\",\"type\":\"FactorRange\"},{\"attributes\":{},\"id\":\"3225\",\"type\":\"CategoricalScale\"},{\"attributes\":{\"factors\":[\"OLS_new\",\"OLS_shane\",\"Decision_Tree\",\"Gradient_Boost\",\"XG_Boost\"],\"palette\":[\"#30a2da\",\"#fc4f30\",\"#e5ae38\",\"#6d904f\",\"#8b8b8b\"]},\"id\":\"3249\",\"type\":\"CategoricalColorMapper\"},{\"attributes\":{},\"id\":\"3233\",\"type\":\"BasicTicker\"},{\"attributes\":{\"axis_label\":\"\",\"coordinates\":null,\"formatter\":{\"id\":\"3263\"},\"group\":null,\"major_label_policy\":{\"id\":\"3264\"},\"ticker\":{\"id\":\"3233\"}},\"id\":\"3232\",\"type\":\"LinearAxis\"},{\"attributes\":{\"axis_label\":\"\",\"coordinates\":null,\"formatter\":{\"id\":\"3260\"},\"group\":null,\"major_label_orientation\":1.5707963267948966,\"major_label_policy\":{\"id\":\"3261\"},\"ticker\":{\"id\":\"3230\"}},\"id\":\"3229\",\"type\":\"CategoricalAxis\"},{\"attributes\":{\"fill_alpha\":{\"value\":0.2},\"fill_color\":{\"field\":\"Variable\",\"transform\":{\"id\":\"3249\"}},\"hatch_alpha\":{\"value\":0.2},\"hatch_color\":{\"field\":\"Variable\",\"transform\":{\"id\":\"3249\"}},\"line_alpha\":{\"value\":0.2},\"top\":{\"field\":\"value\"},\"width\":{\"value\":0.8},\"x\":{\"field\":\"xoffsets\"}},\"id\":\"3255\",\"type\":\"VBar\"},{\"attributes\":{},\"id\":\"3260\",\"type\":\"CategoricalTickFormatter\"},{\"attributes\":{},\"id\":\"3251\",\"type\":\"Selection\"},{\"attributes\":{\"fill_color\":{\"field\":\"Variable\",\"transform\":{\"id\":\"3249\"}},\"hatch_color\":{\"field\":\"Variable\",\"transform\":{\"id\":\"3249\"}},\"top\":{\"field\":\"value\"},\"width\":{\"value\":0.8},\"x\":{\"field\":\"xoffsets\"}},\"id\":\"3253\",\"type\":\"VBar\"},{\"attributes\":{\"source\":{\"id\":\"3250\"}},\"id\":\"3257\",\"type\":\"CDSView\"},{\"attributes\":{\"fill_alpha\":{\"value\":0.1},\"fill_color\":{\"field\":\"Variable\",\"transform\":{\"id\":\"3249\"}},\"hatch_alpha\":{\"value\":0.1},\"hatch_color\":{\"field\":\"Variable\",\"transform\":{\"id\":\"3249\"}},\"line_alpha\":{\"value\":0.1},\"top\":{\"field\":\"value\"},\"width\":{\"value\":0.8},\"x\":{\"field\":\"xoffsets\"}},\"id\":\"3254\",\"type\":\"VBar\"},{\"attributes\":{\"margin\":[5,5,5,5],\"name\":\"HSpacer04446\",\"sizing_mode\":\"stretch_width\"},\"id\":\"3216\",\"type\":\"Spacer\"},{\"attributes\":{\"margin\":[5,5,5,5],\"name\":\"HSpacer04447\",\"sizing_mode\":\"stretch_width\"},\"id\":\"3275\",\"type\":\"Spacer\"},{\"attributes\":{\"tools\":[{\"id\":\"3219\"},{\"id\":\"3236\"},{\"id\":\"3237\"},{\"id\":\"3238\"},{\"id\":\"3239\"},{\"id\":\"3240\"}]},\"id\":\"3242\",\"type\":\"Toolbar\"},{\"attributes\":{},\"id\":\"3236\",\"type\":\"SaveTool\"},{\"attributes\":{},\"id\":\"3272\",\"type\":\"UnionRenderers\"},{\"attributes\":{},\"id\":\"3237\",\"type\":\"PanTool\"},{\"attributes\":{\"callback\":null,\"renderers\":[{\"id\":\"3256\"}],\"tags\":[\"hv_created\"],\"tooltips\":[[\"index\",\"@{index}\"],[\"Variable\",\"@{Variable}\"],[\"value\",\"@{value}\"]]},\"id\":\"3219\",\"type\":\"HoverTool\"},{\"attributes\":{},\"id\":\"3264\",\"type\":\"AllLabels\"},{\"attributes\":{},\"id\":\"3238\",\"type\":\"WheelZoomTool\"},{\"attributes\":{\"bottom\":{\"value\":0},\"fill_alpha\":{\"value\":1.0},\"fill_color\":{\"field\":\"Variable\",\"transform\":{\"id\":\"3249\"}},\"hatch_alpha\":{\"value\":1.0},\"hatch_color\":{\"field\":\"Variable\",\"transform\":{\"id\":\"3249\"}},\"hatch_scale\":{\"value\":12.0},\"hatch_weight\":{\"value\":1.0},\"line_alpha\":{\"value\":1.0},\"line_cap\":{\"value\":\"butt\"},\"line_color\":{\"value\":\"black\"},\"line_dash\":{\"value\":[]},\"line_dash_offset\":{\"value\":0},\"line_join\":{\"value\":\"bevel\"},\"line_width\":{\"value\":1},\"top\":{\"field\":\"value\"},\"width\":{\"value\":0.8},\"x\":{\"field\":\"xoffsets\"}},\"id\":\"3258\",\"type\":\"VBar\"}],\"root_ids\":[\"3215\"]},\"title\":\"Bokeh Application\",\"version\":\"2.4.3\"}};\n",
       "    var render_items = [{\"docid\":\"c23b67c5-1470-4c9c-a599-08e92344d736\",\"root_ids\":[\"3215\"],\"roots\":{\"3215\":\"fa733f15-35bf-4598-8f37-2827679597b3\"}}];\n",
       "    root.Bokeh.embed.embed_items_notebook(docs_json, render_items);\n",
       "    for (const render_item of render_items) {\n",
       "      for (const root_id of render_item.root_ids) {\n",
       "\tconst id_el = document.getElementById(root_id)\n",
       "\tif (id_el.children.length && (id_el.children[0].className === 'bk-root')) {\n",
       "\t  const root_el = id_el.children[0]\n",
       "\t  root_el.id = root_el.id + '-rendered'\n",
       "\t}\n",
       "      }\n",
       "    }\n",
       "  }\n",
       "  if (root.Bokeh !== undefined && root.Bokeh.Panel !== undefined) {\n",
       "    embed_document(root);\n",
       "  } else {\n",
       "    var attempts = 0;\n",
       "    var timer = setInterval(function(root) {\n",
       "      if (root.Bokeh !== undefined && root.Bokeh.Panel !== undefined) {\n",
       "        clearInterval(timer);\n",
       "        embed_document(root);\n",
       "      } else if (document.readyState == \"complete\") {\n",
       "        attempts++;\n",
       "        if (attempts > 200) {\n",
       "          clearInterval(timer);\n",
       "          console.log(\"Bokeh: ERROR: Unable to run BokehJS code because BokehJS library is missing\");\n",
       "        }\n",
       "      }\n",
       "    }, 25, root)\n",
       "  }\n",
       "})(window);</script>"
      ],
      "text/plain": [
       ":Bars   [index,Variable]   (value)"
      ]
     },
     "execution_count": 333,
     "metadata": {
      "application/vnd.holoviews_exec.v0+json": {
       "id": "3215"
      }
     },
     "output_type": "execute_result"
    }
   ],
   "source": [
    "# create dataframes from dictionaries\n",
    "df1 = pd.DataFrame.from_dict(mse_df, orient='index', columns=['OLS_new'])\n",
    "df2 = pd.DataFrame.from_dict(mse_df_shane, orient='index', columns=['OLS_shane'])\n",
    "df3 = pd.DataFrame.from_dict(decision_tree[0], orient='index', columns=['Decision_Tree'])\n",
    "df4 = pd.DataFrame.from_dict(grad_boost[0], orient='index', columns=['Gradient_Boost'])\n",
    "df5 = pd.DataFrame.from_dict(xgboost[0], orient='index', columns=['XG_Boost'])\n",
    "\n",
    "# concatenate the dataframes along the columns axis\n",
    "mse_comparison = pd.concat([df1, df2, df3, df4, df5], axis=1)\n",
    "\n",
    "\n",
    "mse_comparison.hvplot(kind=\"bar\", rot = 90, width = 900, height = 700)"
   ]
  },
  {
   "attachments": {},
   "cell_type": "markdown",
   "metadata": {},
   "source": [
    "## Compare OOS R2 across countries:"
   ]
  },
  {
   "cell_type": "code",
   "execution_count": 337,
   "metadata": {},
   "outputs": [
    {
     "data": {},
     "metadata": {},
     "output_type": "display_data"
    },
    {
     "data": {
      "application/vnd.holoviews_exec.v0+json": "",
      "text/html": [
       "<div id='3961'>\n",
       "  <div class=\"bk-root\" id=\"6253db16-5b77-460c-9c07-958bf6252acd\" data-root-id=\"3961\"></div>\n",
       "</div>\n",
       "<script type=\"application/javascript\">(function(root) {\n",
       "  function embed_document(root) {\n",
       "    var docs_json = {\"2421ac61-0ac9-43b1-8331-98dabf6fe3c5\":{\"defs\":[{\"extends\":null,\"module\":null,\"name\":\"ReactiveHTML1\",\"overrides\":[],\"properties\":[]},{\"extends\":null,\"module\":null,\"name\":\"FlexBox1\",\"overrides\":[],\"properties\":[{\"default\":\"flex-start\",\"kind\":null,\"name\":\"align_content\"},{\"default\":\"flex-start\",\"kind\":null,\"name\":\"align_items\"},{\"default\":\"row\",\"kind\":null,\"name\":\"flex_direction\"},{\"default\":\"wrap\",\"kind\":null,\"name\":\"flex_wrap\"},{\"default\":\"flex-start\",\"kind\":null,\"name\":\"justify_content\"}]},{\"extends\":null,\"module\":null,\"name\":\"GridStack1\",\"overrides\":[],\"properties\":[{\"default\":\"warn\",\"kind\":null,\"name\":\"mode\"},{\"default\":null,\"kind\":null,\"name\":\"ncols\"},{\"default\":null,\"kind\":null,\"name\":\"nrows\"},{\"default\":true,\"kind\":null,\"name\":\"allow_resize\"},{\"default\":true,\"kind\":null,\"name\":\"allow_drag\"},{\"default\":[],\"kind\":null,\"name\":\"state\"}]},{\"extends\":null,\"module\":null,\"name\":\"click1\",\"overrides\":[],\"properties\":[{\"default\":\"\",\"kind\":null,\"name\":\"terminal_output\"},{\"default\":\"\",\"kind\":null,\"name\":\"debug_name\"},{\"default\":0,\"kind\":null,\"name\":\"clears\"}]},{\"extends\":null,\"module\":null,\"name\":\"NotificationAreaBase1\",\"overrides\":[],\"properties\":[{\"default\":\"bottom-right\",\"kind\":null,\"name\":\"position\"},{\"default\":0,\"kind\":null,\"name\":\"_clear\"}]},{\"extends\":null,\"module\":null,\"name\":\"NotificationArea1\",\"overrides\":[],\"properties\":[{\"default\":[],\"kind\":null,\"name\":\"notifications\"},{\"default\":\"bottom-right\",\"kind\":null,\"name\":\"position\"},{\"default\":0,\"kind\":null,\"name\":\"_clear\"},{\"default\":[{\"background\":\"#ffc107\",\"icon\":{\"className\":\"fas fa-exclamation-triangle\",\"color\":\"white\",\"tagName\":\"i\"},\"type\":\"warning\"},{\"background\":\"#007bff\",\"icon\":{\"className\":\"fas fa-info-circle\",\"color\":\"white\",\"tagName\":\"i\"},\"type\":\"info\"}],\"kind\":null,\"name\":\"types\"}]},{\"extends\":null,\"module\":null,\"name\":\"Notification\",\"overrides\":[],\"properties\":[{\"default\":null,\"kind\":null,\"name\":\"background\"},{\"default\":3000,\"kind\":null,\"name\":\"duration\"},{\"default\":null,\"kind\":null,\"name\":\"icon\"},{\"default\":\"\",\"kind\":null,\"name\":\"message\"},{\"default\":null,\"kind\":null,\"name\":\"notification_type\"},{\"default\":false,\"kind\":null,\"name\":\"_destroyed\"}]},{\"extends\":null,\"module\":null,\"name\":\"TemplateActions1\",\"overrides\":[],\"properties\":[{\"default\":0,\"kind\":null,\"name\":\"open_modal\"},{\"default\":0,\"kind\":null,\"name\":\"close_modal\"}]},{\"extends\":null,\"module\":null,\"name\":\"MaterialTemplateActions1\",\"overrides\":[],\"properties\":[{\"default\":0,\"kind\":null,\"name\":\"open_modal\"},{\"default\":0,\"kind\":null,\"name\":\"close_modal\"}]}],\"roots\":{\"references\":[{\"attributes\":{\"end\":50.274699999999996,\"reset_end\":50.274699999999996,\"reset_start\":0.0,\"tags\":[[[\"value\",\"value\",null]]]},\"id\":\"3964\",\"type\":\"Range1d\"},{\"attributes\":{\"children\":[{\"id\":\"3962\"},{\"id\":\"3966\"},{\"id\":\"4021\"}],\"margin\":[0,0,0,0],\"name\":\"Row05510\",\"tags\":[\"embedded\"]},\"id\":\"3961\",\"type\":\"Row\"},{\"attributes\":{},\"id\":\"3986\",\"type\":\"ResetTool\"},{\"attributes\":{\"axis_label\":\"\",\"coordinates\":null,\"formatter\":{\"id\":\"4006\"},\"group\":null,\"major_label_orientation\":1.5707963267948966,\"major_label_policy\":{\"id\":\"4007\"},\"ticker\":{\"id\":\"3976\"}},\"id\":\"3975\",\"type\":\"CategoricalAxis\"},{\"attributes\":{\"bottom_units\":\"screen\",\"coordinates\":null,\"fill_alpha\":0.5,\"fill_color\":\"lightgrey\",\"group\":null,\"left_units\":\"screen\",\"level\":\"overlay\",\"line_alpha\":1.0,\"line_color\":\"black\",\"line_dash\":[4,4],\"line_width\":2,\"right_units\":\"screen\",\"syncable\":false,\"top_units\":\"screen\"},\"id\":\"3987\",\"type\":\"BoxAnnotation\"},{\"attributes\":{\"axis\":{\"id\":\"3978\"},\"coordinates\":null,\"dimension\":1,\"grid_line_color\":null,\"group\":null,\"ticker\":null},\"id\":\"3981\",\"type\":\"Grid\"},{\"attributes\":{},\"id\":\"3976\",\"type\":\"CategoricalTicker\"},{\"attributes\":{\"data\":{\"Variable\":[\"OLS_base\",\"OLS_base\",\"OLS_base\",\"OLS_base\",\"OLS_base\",\"OLS_base\",\"OLS_base\",\"OLS_base\",\"OLS_Shane\",\"OLS_Shane\",\"OLS_Shane\",\"OLS_Shane\",\"OLS_Shane\",\"OLS_Shane\",\"OLS_Shane\",\"OLS_Shane\",\"Decision Tree\",\"Decision Tree\",\"Decision Tree\",\"Decision Tree\",\"Decision Tree\",\"Decision Tree\",\"Decision Tree\",\"Decision Tree\",\"Grad_boost\",\"Grad_boost\",\"Grad_boost\",\"Grad_boost\",\"Grad_boost\",\"Grad_boost\",\"Grad_boost\",\"Grad_boost\",\"XGBoost\",\"XGBoost\",\"XGBoost\",\"XGBoost\",\"XGBoost\",\"XGBoost\",\"XGBoost\",\"XGBoost\"],\"index\":[\"US\",\"AU\",\"UK\",\"Germany\",\"France\",\"Japan\",\"Switzerland\",\"India\",\"US\",\"AU\",\"UK\",\"Germany\",\"France\",\"Japan\",\"Switzerland\",\"India\",\"US\",\"AU\",\"UK\",\"Germany\",\"France\",\"Japan\",\"Switzerland\",\"India\",\"US\",\"AU\",\"UK\",\"Germany\",\"France\",\"Japan\",\"Switzerland\",\"India\",\"US\",\"AU\",\"UK\",\"Germany\",\"France\",\"Japan\",\"Switzerland\",\"India\"],\"value\":{\"__ndarray__\":\"YOXQItu5QUBmZmZmZsY4QKAaL90kxkNACtejcD3aRkDy0k1iEGhDQPp+arx0EyRAvp8aL91EQkCwcmiR7fwlQN0kBoGVA0JA6SYxCKwcOUAfhetRuP5DQPyp8dJN0kZAx0s3iUFQQ0AX2c73UyMjQOkmMQisPEJAhetRuB4FJkDl0CLb+X4LQKjGSzeJQdg/oBov3SQGG0C0yHa+n1ojQEw3iUFg5QJAf2q8dJMY8D8CK4cW2U41QMuhRbbz/QJAWmQ730+NCkDufD81XroJQE5iEFg5tNg/bxKDwMphJUBMN4lBYOXQP/yp8dJNYvI/lkOLbOd7F0AbL90kBoEJQFyPwvUoXA5AH4XrUbge7T/8qfHSTWKAP5huEoPACihA9ihcj8K1IUD8qfHSTWL8PyuHFtnO97M/2/l+arx0CEA=\",\"dtype\":\"float64\",\"order\":\"little\",\"shape\":[40]},\"xoffsets\":[[\"US\",\"OLS_base\"],[\"AU\",\"OLS_base\"],[\"UK\",\"OLS_base\"],[\"Germany\",\"OLS_base\"],[\"France\",\"OLS_base\"],[\"Japan\",\"OLS_base\"],[\"Switzerland\",\"OLS_base\"],[\"India\",\"OLS_base\"],[\"US\",\"OLS_Shane\"],[\"AU\",\"OLS_Shane\"],[\"UK\",\"OLS_Shane\"],[\"Germany\",\"OLS_Shane\"],[\"France\",\"OLS_Shane\"],[\"Japan\",\"OLS_Shane\"],[\"Switzerland\",\"OLS_Shane\"],[\"India\",\"OLS_Shane\"],[\"US\",\"Decision Tree\"],[\"AU\",\"Decision Tree\"],[\"UK\",\"Decision Tree\"],[\"Germany\",\"Decision Tree\"],[\"France\",\"Decision Tree\"],[\"Japan\",\"Decision Tree\"],[\"Switzerland\",\"Decision Tree\"],[\"India\",\"Decision Tree\"],[\"US\",\"Grad_boost\"],[\"AU\",\"Grad_boost\"],[\"UK\",\"Grad_boost\"],[\"Germany\",\"Grad_boost\"],[\"France\",\"Grad_boost\"],[\"Japan\",\"Grad_boost\"],[\"Switzerland\",\"Grad_boost\"],[\"India\",\"Grad_boost\"],[\"US\",\"XGBoost\"],[\"AU\",\"XGBoost\"],[\"UK\",\"XGBoost\"],[\"Germany\",\"XGBoost\"],[\"France\",\"XGBoost\"],[\"Japan\",\"XGBoost\"],[\"Switzerland\",\"XGBoost\"],[\"India\",\"XGBoost\"]]},\"selected\":{\"id\":\"3997\"},\"selection_policy\":{\"id\":\"4018\"}},\"id\":\"3996\",\"type\":\"ColumnDataSource\"},{\"attributes\":{\"margin\":[5,5,5,5],\"name\":\"HSpacer05515\",\"sizing_mode\":\"stretch_width\"},\"id\":\"4021\",\"type\":\"Spacer\"},{\"attributes\":{\"axis\":{\"id\":\"3975\"},\"coordinates\":null,\"grid_line_color\":null,\"group\":null,\"ticker\":null},\"id\":\"3977\",\"type\":\"Grid\"},{\"attributes\":{\"factors\":[\"OLS_base\",\"OLS_Shane\",\"Decision Tree\",\"Grad_boost\",\"XGBoost\"],\"palette\":[\"#30a2da\",\"#fc4f30\",\"#e5ae38\",\"#6d904f\",\"#8b8b8b\"]},\"id\":\"3995\",\"type\":\"CategoricalColorMapper\"},{\"attributes\":{\"factors\":[[\"US\",\"XGBoost\"],[\"US\",\"Grad_boost\"],[\"US\",\"Decision Tree\"],[\"US\",\"OLS_Shane\"],[\"US\",\"OLS_base\"],[\"AU\",\"XGBoost\"],[\"AU\",\"Grad_boost\"],[\"AU\",\"Decision Tree\"],[\"AU\",\"OLS_Shane\"],[\"AU\",\"OLS_base\"],[\"UK\",\"XGBoost\"],[\"UK\",\"Grad_boost\"],[\"UK\",\"Decision Tree\"],[\"UK\",\"OLS_Shane\"],[\"UK\",\"OLS_base\"],[\"Germany\",\"XGBoost\"],[\"Germany\",\"Grad_boost\"],[\"Germany\",\"Decision Tree\"],[\"Germany\",\"OLS_Shane\"],[\"Germany\",\"OLS_base\"],[\"France\",\"XGBoost\"],[\"France\",\"Grad_boost\"],[\"France\",\"Decision Tree\"],[\"France\",\"OLS_Shane\"],[\"France\",\"OLS_base\"],[\"Japan\",\"XGBoost\"],[\"Japan\",\"Grad_boost\"],[\"Japan\",\"Decision Tree\"],[\"Japan\",\"OLS_Shane\"],[\"Japan\",\"OLS_base\"],[\"Switzerland\",\"XGBoost\"],[\"Switzerland\",\"Grad_boost\"],[\"Switzerland\",\"Decision Tree\"],[\"Switzerland\",\"OLS_Shane\"],[\"Switzerland\",\"OLS_base\"],[\"India\",\"XGBoost\"],[\"India\",\"Grad_boost\"],[\"India\",\"Decision Tree\"],[\"India\",\"OLS_Shane\"],[\"India\",\"OLS_base\"]],\"tags\":[[[\"index\",\"index\",null],[\"Variable\",\"Variable\",null]]]},\"id\":\"3963\",\"type\":\"FactorRange\"},{\"attributes\":{},\"id\":\"3979\",\"type\":\"BasicTicker\"},{\"attributes\":{},\"id\":\"4006\",\"type\":\"CategoricalTickFormatter\"},{\"attributes\":{\"axis_label\":\"\",\"coordinates\":null,\"formatter\":{\"id\":\"4009\"},\"group\":null,\"major_label_policy\":{\"id\":\"4010\"},\"ticker\":{\"id\":\"3979\"}},\"id\":\"3978\",\"type\":\"LinearAxis\"},{\"attributes\":{},\"id\":\"4018\",\"type\":\"UnionRenderers\"},{\"attributes\":{\"fill_alpha\":{\"value\":0.1},\"fill_color\":{\"field\":\"Variable\",\"transform\":{\"id\":\"3995\"}},\"hatch_alpha\":{\"value\":0.1},\"hatch_color\":{\"field\":\"Variable\",\"transform\":{\"id\":\"3995\"}},\"line_alpha\":{\"value\":0.1},\"top\":{\"field\":\"value\"},\"width\":{\"value\":0.8},\"x\":{\"field\":\"xoffsets\"}},\"id\":\"4000\",\"type\":\"VBar\"},{\"attributes\":{},\"id\":\"4007\",\"type\":\"AllLabels\"},{\"attributes\":{\"coordinates\":null,\"data_source\":{\"id\":\"3996\"},\"glyph\":{\"id\":\"3999\"},\"group\":null,\"hover_glyph\":null,\"muted_glyph\":{\"id\":\"4001\"},\"nonselection_glyph\":{\"id\":\"4000\"},\"selection_glyph\":{\"id\":\"4004\"},\"view\":{\"id\":\"4003\"}},\"id\":\"4002\",\"type\":\"GlyphRenderer\"},{\"attributes\":{\"callback\":null,\"renderers\":[{\"id\":\"4002\"}],\"tags\":[\"hv_created\"],\"tooltips\":[[\"index\",\"@{index}\"],[\"Variable\",\"@{Variable}\"],[\"value\",\"@{value}\"]]},\"id\":\"3965\",\"type\":\"HoverTool\"},{\"attributes\":{\"fill_color\":{\"field\":\"Variable\",\"transform\":{\"id\":\"3995\"}},\"hatch_color\":{\"field\":\"Variable\",\"transform\":{\"id\":\"3995\"}},\"top\":{\"field\":\"value\"},\"width\":{\"value\":0.8},\"x\":{\"field\":\"xoffsets\"}},\"id\":\"3999\",\"type\":\"VBar\"},{\"attributes\":{},\"id\":\"4009\",\"type\":\"BasicTickFormatter\"},{\"attributes\":{\"bottom\":{\"value\":0},\"fill_alpha\":{\"value\":1.0},\"fill_color\":{\"field\":\"Variable\",\"transform\":{\"id\":\"3995\"}},\"hatch_alpha\":{\"value\":1.0},\"hatch_color\":{\"field\":\"Variable\",\"transform\":{\"id\":\"3995\"}},\"hatch_scale\":{\"value\":12.0},\"hatch_weight\":{\"value\":1.0},\"line_alpha\":{\"value\":1.0},\"line_cap\":{\"value\":\"butt\"},\"line_color\":{\"value\":\"black\"},\"line_dash\":{\"value\":[]},\"line_dash_offset\":{\"value\":0},\"line_join\":{\"value\":\"bevel\"},\"line_width\":{\"value\":1},\"top\":{\"field\":\"value\"},\"width\":{\"value\":0.8},\"x\":{\"field\":\"xoffsets\"}},\"id\":\"4004\",\"type\":\"VBar\"},{\"attributes\":{\"fill_alpha\":{\"value\":0.2},\"fill_color\":{\"field\":\"Variable\",\"transform\":{\"id\":\"3995\"}},\"hatch_alpha\":{\"value\":0.2},\"hatch_color\":{\"field\":\"Variable\",\"transform\":{\"id\":\"3995\"}},\"line_alpha\":{\"value\":0.2},\"top\":{\"field\":\"value\"},\"width\":{\"value\":0.8},\"x\":{\"field\":\"xoffsets\"}},\"id\":\"4001\",\"type\":\"VBar\"},{\"attributes\":{},\"id\":\"3982\",\"type\":\"SaveTool\"},{\"attributes\":{\"source\":{\"id\":\"3996\"}},\"id\":\"4003\",\"type\":\"CDSView\"},{\"attributes\":{},\"id\":\"3983\",\"type\":\"PanTool\"},{\"attributes\":{},\"id\":\"3997\",\"type\":\"Selection\"},{\"attributes\":{\"below\":[{\"id\":\"3975\"}],\"center\":[{\"id\":\"3977\"},{\"id\":\"3981\"}],\"height\":700,\"left\":[{\"id\":\"3978\"}],\"margin\":[5,5,5,5],\"min_border_bottom\":10,\"min_border_left\":10,\"min_border_right\":10,\"min_border_top\":10,\"renderers\":[{\"id\":\"4002\"}],\"sizing_mode\":\"fixed\",\"title\":{\"id\":\"3967\"},\"toolbar\":{\"id\":\"3988\"},\"width\":900,\"x_range\":{\"id\":\"3963\"},\"x_scale\":{\"id\":\"3971\"},\"y_range\":{\"id\":\"3964\"},\"y_scale\":{\"id\":\"3973\"}},\"id\":\"3966\",\"subtype\":\"Figure\",\"type\":\"Plot\"},{\"attributes\":{},\"id\":\"3984\",\"type\":\"WheelZoomTool\"},{\"attributes\":{\"tools\":[{\"id\":\"3965\"},{\"id\":\"3982\"},{\"id\":\"3983\"},{\"id\":\"3984\"},{\"id\":\"3985\"},{\"id\":\"3986\"}]},\"id\":\"3988\",\"type\":\"Toolbar\"},{\"attributes\":{\"overlay\":{\"id\":\"3987\"}},\"id\":\"3985\",\"type\":\"BoxZoomTool\"},{\"attributes\":{},\"id\":\"3971\",\"type\":\"CategoricalScale\"},{\"attributes\":{},\"id\":\"4010\",\"type\":\"AllLabels\"},{\"attributes\":{\"coordinates\":null,\"group\":null,\"text_color\":\"black\",\"text_font_size\":\"12pt\"},\"id\":\"3967\",\"type\":\"Title\"},{\"attributes\":{\"margin\":[5,5,5,5],\"name\":\"HSpacer05514\",\"sizing_mode\":\"stretch_width\"},\"id\":\"3962\",\"type\":\"Spacer\"},{\"attributes\":{},\"id\":\"3973\",\"type\":\"LinearScale\"}],\"root_ids\":[\"3961\"]},\"title\":\"Bokeh Application\",\"version\":\"2.4.3\"}};\n",
       "    var render_items = [{\"docid\":\"2421ac61-0ac9-43b1-8331-98dabf6fe3c5\",\"root_ids\":[\"3961\"],\"roots\":{\"3961\":\"6253db16-5b77-460c-9c07-958bf6252acd\"}}];\n",
       "    root.Bokeh.embed.embed_items_notebook(docs_json, render_items);\n",
       "    for (const render_item of render_items) {\n",
       "      for (const root_id of render_item.root_ids) {\n",
       "\tconst id_el = document.getElementById(root_id)\n",
       "\tif (id_el.children.length && (id_el.children[0].className === 'bk-root')) {\n",
       "\t  const root_el = id_el.children[0]\n",
       "\t  root_el.id = root_el.id + '-rendered'\n",
       "\t}\n",
       "      }\n",
       "    }\n",
       "  }\n",
       "  if (root.Bokeh !== undefined && root.Bokeh.Panel !== undefined) {\n",
       "    embed_document(root);\n",
       "  } else {\n",
       "    var attempts = 0;\n",
       "    var timer = setInterval(function(root) {\n",
       "      if (root.Bokeh !== undefined && root.Bokeh.Panel !== undefined) {\n",
       "        clearInterval(timer);\n",
       "        embed_document(root);\n",
       "      } else if (document.readyState == \"complete\") {\n",
       "        attempts++;\n",
       "        if (attempts > 200) {\n",
       "          clearInterval(timer);\n",
       "          console.log(\"Bokeh: ERROR: Unable to run BokehJS code because BokehJS library is missing\");\n",
       "        }\n",
       "      }\n",
       "    }, 25, root)\n",
       "  }\n",
       "})(window);</script>"
      ],
      "text/plain": [
       ":Bars   [index,Variable]   (value)"
      ]
     },
     "execution_count": 337,
     "metadata": {
      "application/vnd.holoviews_exec.v0+json": {
       "id": "3961"
      }
     },
     "output_type": "execute_result"
    }
   ],
   "source": [
    "cols = ['OLS_base','OLS_Shane', 'Decision Tree','Grad_boost', 'XGBoost']\n",
    "\n",
    "oos_r2_comparions_init = pd.concat([combined[['OOS_R_squared','Shane']], decision_tree[1], grad_boost[1], xgboost[1]], axis =1)\n",
    "oos_r2_comparions_init1 = oos_r2_comparions_init.drop(columns = ['Country'])\n",
    "oos_r2_comparions_init1.index = outsample_y.columns\n",
    "oos_r2_comparions_init1.columns = cols\n",
    "\n",
    "oos_r2_comparions_init1.hvplot(kind='bar', rot = 90, width = 900, height = 700)"
   ]
  },
  {
   "cell_type": "code",
   "execution_count": null,
   "metadata": {},
   "outputs": [],
   "source": []
  }
 ],
 "metadata": {
  "kernelspec": {
   "display_name": "dev",
   "language": "python",
   "name": "python3"
  },
  "language_info": {
   "codemirror_mode": {
    "name": "ipython",
    "version": 3
   },
   "file_extension": ".py",
   "mimetype": "text/x-python",
   "name": "python",
   "nbconvert_exporter": "python",
   "pygments_lexer": "ipython3",
   "version": "3.7.13"
  },
  "orig_nbformat": 4,
  "vscode": {
   "interpreter": {
    "hash": "4396f389b93e7269692bd3bea4c62813bbe379469bde939b058805f538feec11"
   }
  }
 },
 "nbformat": 4,
 "nbformat_minor": 2
}
