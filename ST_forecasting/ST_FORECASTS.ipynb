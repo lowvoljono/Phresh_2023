{
 "cells": [
  {
   "cell_type": "markdown",
   "id": "02e17f3c-4f92-4903-8d57-f0efccd0f701",
   "metadata": {},
   "source": [
    "# Short-Term Forecast Models:"
   ]
  },
  {
   "cell_type": "code",
   "execution_count": 214,
   "id": "054d2013-083c-4ff4-89f5-64c97813aad1",
   "metadata": {},
   "outputs": [],
   "source": [
    "import numpy as np\n",
    "import pandas as pd\n",
    "import yfinance as yf\n",
    "import fredapi as fa\n",
    "\n",
    "\n",
    "#ML\n",
    "from sklearn.linear_model import LinearRegression, Ridge\n",
    "from sklearn.linear_model import ElasticNet\n",
    "from sklearn.linear_model import Lasso\n",
    "import hvplot.pandas\n",
    "import xgboost as xgb\n",
    "\n",
    "\n",
    "from sklearn.tree import DecisionTreeRegressor, plot_tree\n",
    "from sklearn import tree\n",
    "from sklearn.tree import export_graphviz\n",
    "\n",
    "from sklearn.model_selection import TimeSeriesSplit\n",
    "from sklearn.metrics import mean_squared_error, r2_score\n",
    "from scipy.stats.mstats import winsorize\n",
    "from sklearn.preprocessing import StandardScaler\n",
    "\n",
    "import matplotlib.pyplot as plt\n",
    "from sklearn.ensemble import GradientBoostingRegressor"
   ]
  },
  {
   "cell_type": "markdown",
   "id": "59fa1b6e-708b-48c9-ba6c-78c3c776a2b5",
   "metadata": {},
   "source": [
    "<br>"
   ]
  },
  {
   "cell_type": "markdown",
   "id": "befc70fd-b676-47a1-b4b5-51f9344ecf30",
   "metadata": {},
   "source": [
    "1. Function for manipulating pct_changes:"
   ]
  },
  {
   "cell_type": "code",
   "execution_count": 157,
   "id": "d61d9c1e-f5a7-485e-b7d1-252ac14760ba",
   "metadata": {},
   "outputs": [],
   "source": [
    "def percent_ch(df, how_far_away, divided_by):\n",
    "    x = ( df.shift(how_far_away) / df.shift(divided_by) ) -1\n",
    "    \n",
    "    return x"
   ]
  },
  {
   "cell_type": "markdown",
   "id": "6148f753-410e-4227-afb2-4f40f70e5e09",
   "metadata": {},
   "source": [
    "2) Function for correlation and R2:"
   ]
  },
  {
   "cell_type": "code",
   "execution_count": 158,
   "id": "abe024e6-732b-4604-90aa-a5ed7dd86e0c",
   "metadata": {},
   "outputs": [],
   "source": [
    "def calculate_correlation(df, col1, col2):\n",
    "    \"\"\"\n",
    "    Calculate the correlation coefficient and R2 score between two columns in a DataFrame.\n",
    "    \n",
    "    Args:\n",
    "        df (pandas.DataFrame): The DataFrame containing the columns.\n",
    "        col1 (str): The name of the first column.\n",
    "        col2 (str): The name of the second column.\n",
    "    \n",
    "    Returns:\n",
    "        tuple: A tuple containing the correlation coefficient and R2 score.\n",
    "    \"\"\"\n",
    "    # calculate the correlation coefficient between the two columns\n",
    "    covariance = ((df[col1] - df[col1].mean()) * (df[col2] - df[col2].mean())).sum() / (df.shape[0] - 1)\n",
    "    std_x = df[col1].std(ddof=1)\n",
    "    std_y = df[col2].std(ddof=1)\n",
    "    correlation = covariance / (std_x * std_y)\n",
    "\n",
    "    # calculate the R2 score\n",
    "    r2 = correlation**2\n",
    "\n",
    "    # return the correlation coefficient and R2 score as a tuple\n",
    "    return correlation, r2"
   ]
  },
  {
   "cell_type": "markdown",
   "id": "d4340d65-1d4d-4191-9da5-5dd8b5360d7e",
   "metadata": {},
   "source": [
    "3) Function for Winsorizing:"
   ]
  },
  {
   "cell_type": "code",
   "execution_count": 159,
   "id": "2efe79ba-9209-4e8b-8f6d-d1a57548e1b5",
   "metadata": {},
   "outputs": [],
   "source": [
    "def winsorize_(data, limits):\n",
    "    lower_limit = np.percentile(data, limits[0])\n",
    "    upper_limit = np.percentile(data, 100 - limits[1])\n",
    "    data[data < lower_limit] = lower_limit\n",
    "    data[data > upper_limit] = upper_limit\n",
    "    return data"
   ]
  },
  {
   "cell_type": "markdown",
   "id": "b3497311",
   "metadata": {},
   "source": [
    "<br>"
   ]
  },
  {
   "cell_type": "markdown",
   "id": "e4249db7-d7d8-401b-a441-54595c0c426a",
   "metadata": {},
   "source": [
    "## Data Cleaning:"
   ]
  },
  {
   "cell_type": "code",
   "execution_count": 231,
   "id": "22645d13",
   "metadata": {},
   "outputs": [],
   "source": [
    "#FRED DATA\n",
    "fred = fa.Fred(api_key='467827ab5d3d05c7881f60e1fd180ed8')"
   ]
  },
  {
   "cell_type": "code",
   "execution_count": 234,
   "id": "14532d75-ab6e-447c-b9e5-30402e60bc4c",
   "metadata": {},
   "outputs": [],
   "source": [
    "#IMPORT SP DATA\n",
    "sp = pd.read_csv(\"S&P.csv\", index_col = 0, parse_dates=True, infer_datetime_format=True)\n",
    "\n",
    "# CLEAN SOME DATA\n",
    "new_df = sp.drop(columns=['Index'])\n",
    "newer_df = new_df.reset_index()\n",
    "newer_df1 = newer_df.drop(columns=['index'])\n",
    "\n",
    "#Further cleaning\n",
    "sp_df = newer_df1.set_index('yyyymm')\n",
    "sp_df = sp_df.rename(columns = {'Index.1': 'Index'})\n",
    "\n",
    "# Change the index to a better format (datewise)\n",
    "sp_df.index = pd.to_datetime(sp_df.index.astype(str), format='%Y%m')"
   ]
  },
  {
   "cell_type": "code",
   "execution_count": 237,
   "id": "803a4918-6d65-4bea-b163-7c30730377d3",
   "metadata": {},
   "outputs": [
    {
     "data": {
      "text/html": [
       "<div>\n",
       "<style scoped>\n",
       "    .dataframe tbody tr th:only-of-type {\n",
       "        vertical-align: middle;\n",
       "    }\n",
       "\n",
       "    .dataframe tbody tr th {\n",
       "        vertical-align: top;\n",
       "    }\n",
       "\n",
       "    .dataframe thead th {\n",
       "        text-align: right;\n",
       "    }\n",
       "</style>\n",
       "<table border=\"1\" class=\"dataframe\">\n",
       "  <thead>\n",
       "    <tr style=\"text-align: right;\">\n",
       "      <th></th>\n",
       "      <th>Index</th>\n",
       "      <th>D12</th>\n",
       "    </tr>\n",
       "    <tr>\n",
       "      <th>yyyymm</th>\n",
       "      <th></th>\n",
       "      <th></th>\n",
       "    </tr>\n",
       "  </thead>\n",
       "  <tbody>\n",
       "    <tr>\n",
       "      <th>1871-01-01</th>\n",
       "      <td>4.44</td>\n",
       "      <td>0.26</td>\n",
       "    </tr>\n",
       "    <tr>\n",
       "      <th>1871-02-01</th>\n",
       "      <td>4.50</td>\n",
       "      <td>0.26</td>\n",
       "    </tr>\n",
       "    <tr>\n",
       "      <th>1871-03-01</th>\n",
       "      <td>4.61</td>\n",
       "      <td>0.26</td>\n",
       "    </tr>\n",
       "    <tr>\n",
       "      <th>1871-04-01</th>\n",
       "      <td>4.74</td>\n",
       "      <td>0.26</td>\n",
       "    </tr>\n",
       "    <tr>\n",
       "      <th>1871-05-01</th>\n",
       "      <td>4.86</td>\n",
       "      <td>0.26</td>\n",
       "    </tr>\n",
       "  </tbody>\n",
       "</table>\n",
       "</div>"
      ],
      "text/plain": [
       "            Index   D12\n",
       "yyyymm                 \n",
       "1871-01-01   4.44  0.26\n",
       "1871-02-01   4.50  0.26\n",
       "1871-03-01   4.61  0.26\n",
       "1871-04-01   4.74  0.26\n",
       "1871-05-01   4.86  0.26"
      ]
     },
     "execution_count": 237,
     "metadata": {},
     "output_type": "execute_result"
    }
   ],
   "source": [
    "sp_df.head() #Dates look good now"
   ]
  },
  {
   "cell_type": "markdown",
   "id": "41971410-739f-4850-9a1b-7bfcf568dce1",
   "metadata": {},
   "source": [
    "**RUN TO GET ALL FACTORS RAW:**"
   ]
  },
  {
   "cell_type": "code",
   "execution_count": 164,
   "id": "058e7d93-21c2-4dcb-b2ed-c146cc352518",
   "metadata": {},
   "outputs": [],
   "source": [
    "def establish_factors(sp_df):\n",
    "    \n",
    "    \n",
    "    sp_df['1M_ret'] = sp_df['Index'].pct_change()\n",
    "\n",
    "    sp_df['2M_ret'] = sp_df['Index'].pct_change(periods = 2)\n",
    "    \n",
    "    sp_df['Raw_12_MOM'] = sp_df['Index'].pct_change(periods = 12)\n",
    "    \n",
    "    sp_df['Raw_9_MOM'] = sp_df['Index'].pct_change(periods = 9)\n",
    "    \n",
    "    sp_df['D/P'] = (sp_df['D12'] / sp_df['Index']) \n",
    "    \n",
    "    \n",
    "# Establish Clean dataframe:\n",
    "    \n",
    "    cleaned_data = pd.DataFrame(index = sp_df.index)\n",
    "    \n",
    "    #12_M forward\n",
    "    cleaned_data['12M_forward'] = np.log(sp_df['Index'].shift(-12) / sp_df['Index'] )\n",
    "    \n",
    "    #12m MOM\n",
    "    cleaned_data['12M_Mom'] = sp_df['Raw_12_MOM']\n",
    "    \n",
    "    #9m MOM\n",
    "    cleaned_data['9M_Mom'] = sp_df['Raw_9_MOM']\n",
    "    \n",
    "    #12 - 1\n",
    "    #cleaned_data['12minus1'] = sp_df['Raw_12_MOM'] - sp_df['1M_ret']\n",
    "    \n",
    "    #12 - 2\n",
    "    #cleaned_data['12minus2'] = sp_df['Raw_12_MOM'] - sp_df['2M_ret']\n",
    "    \n",
    "    #Dividend / Price (Div Yield)\n",
    "    cleaned_data['%_ch_D/P'] = sp_df['D/P'].pct_change(periods = 1)  # CHANGING TO 6 ADDS MORE R-2 but it PERHAPS CORRELATED TO MOMENTUM\n",
    "    \n",
    "    # Valuation\n",
    "    cleaned_data['5Y_val'] = sp_df['Index'].pct_change(periods = 60)\n",
    "    \n",
    "\n",
    "    \n",
    "    return cleaned_data"
   ]
  },
  {
   "cell_type": "markdown",
   "id": "d8635c8a-4ec3-4be8-b0c7-6785a5c9037a",
   "metadata": {},
   "source": [
    "Establish Cleaner dataset:"
   ]
  },
  {
   "cell_type": "code",
   "execution_count": 248,
   "id": "3082607d-8d19-495c-ae63-b9807c04db43",
   "metadata": {},
   "outputs": [
    {
     "data": {
      "text/html": [
       "<div>\n",
       "<style scoped>\n",
       "    .dataframe tbody tr th:only-of-type {\n",
       "        vertical-align: middle;\n",
       "    }\n",
       "\n",
       "    .dataframe tbody tr th {\n",
       "        vertical-align: top;\n",
       "    }\n",
       "\n",
       "    .dataframe thead th {\n",
       "        text-align: right;\n",
       "    }\n",
       "</style>\n",
       "<table border=\"1\" class=\"dataframe\">\n",
       "  <thead>\n",
       "    <tr style=\"text-align: right;\">\n",
       "      <th></th>\n",
       "      <th>12M_forward</th>\n",
       "      <th>12M_Mom</th>\n",
       "      <th>9M_Mom</th>\n",
       "      <th>%_ch_D/P</th>\n",
       "      <th>5Y_val</th>\n",
       "    </tr>\n",
       "    <tr>\n",
       "      <th>yyyymm</th>\n",
       "      <th></th>\n",
       "      <th></th>\n",
       "      <th></th>\n",
       "      <th></th>\n",
       "      <th></th>\n",
       "    </tr>\n",
       "  </thead>\n",
       "  <tbody>\n",
       "    <tr>\n",
       "      <th>1937-05-01</th>\n",
       "      <td>-0.561925</td>\n",
       "      <td>0.129167</td>\n",
       "      <td>0.016886</td>\n",
       "      <td>0.049319</td>\n",
       "      <td>2.637584</td>\n",
       "    </tr>\n",
       "    <tr>\n",
       "      <th>1937-06-01</th>\n",
       "      <td>-0.286817</td>\n",
       "      <td>0.037736</td>\n",
       "      <td>-0.038101</td>\n",
       "      <td>0.094949</td>\n",
       "      <td>2.476298</td>\n",
       "    </tr>\n",
       "    <tr>\n",
       "      <th>1937-07-01</th>\n",
       "      <td>-0.314340</td>\n",
       "      <td>0.071293</td>\n",
       "      <td>-0.013364</td>\n",
       "      <td>-0.118208</td>\n",
       "      <td>1.783607</td>\n",
       "    </tr>\n",
       "    <tr>\n",
       "      <th>1937-08-01</th>\n",
       "      <td>-0.285191</td>\n",
       "      <td>0.003127</td>\n",
       "      <td>-0.071759</td>\n",
       "      <td>0.028272</td>\n",
       "      <td>0.911800</td>\n",
       "    </tr>\n",
       "    <tr>\n",
       "      <th>1937-09-01</th>\n",
       "      <td>-0.117057</td>\n",
       "      <td>-0.140537</td>\n",
       "      <td>-0.199069</td>\n",
       "      <td>0.131460</td>\n",
       "      <td>0.702970</td>\n",
       "    </tr>\n",
       "    <tr>\n",
       "      <th>...</th>\n",
       "      <td>...</td>\n",
       "      <td>...</td>\n",
       "      <td>...</td>\n",
       "      <td>...</td>\n",
       "      <td>...</td>\n",
       "    </tr>\n",
       "    <tr>\n",
       "      <th>2020-08-01</th>\n",
       "      <td>0.256253</td>\n",
       "      <td>0.196090</td>\n",
       "      <td>0.114401</td>\n",
       "      <td>-0.069841</td>\n",
       "      <td>0.774843</td>\n",
       "    </tr>\n",
       "    <tr>\n",
       "      <th>2020-09-01</th>\n",
       "      <td>0.247534</td>\n",
       "      <td>0.129759</td>\n",
       "      <td>0.040925</td>\n",
       "      <td>0.035947</td>\n",
       "      <td>0.751535</td>\n",
       "    </tr>\n",
       "    <tr>\n",
       "      <th>2020-10-01</th>\n",
       "      <td>0.342447</td>\n",
       "      <td>0.076509</td>\n",
       "      <td>0.013778</td>\n",
       "      <td>0.025119</td>\n",
       "      <td>0.572580</td>\n",
       "    </tr>\n",
       "    <tr>\n",
       "      <th>2020-11-01</th>\n",
       "      <td>0.231932</td>\n",
       "      <td>0.153025</td>\n",
       "      <td>0.225918</td>\n",
       "      <td>-0.100039</td>\n",
       "      <td>0.740825</td>\n",
       "    </tr>\n",
       "    <tr>\n",
       "      <th>2020-12-01</th>\n",
       "      <td>0.238172</td>\n",
       "      <td>0.162589</td>\n",
       "      <td>0.453256</td>\n",
       "      <td>-0.038939</td>\n",
       "      <td>0.837662</td>\n",
       "    </tr>\n",
       "  </tbody>\n",
       "</table>\n",
       "<p>1004 rows × 5 columns</p>\n",
       "</div>"
      ],
      "text/plain": [
       "            12M_forward   12M_Mom    9M_Mom  %_ch_D/P    5Y_val\n",
       "yyyymm                                                         \n",
       "1937-05-01    -0.561925  0.129167  0.016886  0.049319  2.637584\n",
       "1937-06-01    -0.286817  0.037736 -0.038101  0.094949  2.476298\n",
       "1937-07-01    -0.314340  0.071293 -0.013364 -0.118208  1.783607\n",
       "1937-08-01    -0.285191  0.003127 -0.071759  0.028272  0.911800\n",
       "1937-09-01    -0.117057 -0.140537 -0.199069  0.131460  0.702970\n",
       "...                 ...       ...       ...       ...       ...\n",
       "2020-08-01     0.256253  0.196090  0.114401 -0.069841  0.774843\n",
       "2020-09-01     0.247534  0.129759  0.040925  0.035947  0.751535\n",
       "2020-10-01     0.342447  0.076509  0.013778  0.025119  0.572580\n",
       "2020-11-01     0.231932  0.153025  0.225918 -0.100039  0.740825\n",
       "2020-12-01     0.238172  0.162589  0.453256 -0.038939  0.837662\n",
       "\n",
       "[1004 rows x 5 columns]"
      ]
     },
     "execution_count": 248,
     "metadata": {},
     "output_type": "execute_result"
    }
   ],
   "source": [
    "clean_data = establish_factors(sp_df)\n",
    "clean = clean_data.dropna(axis=0)\n",
    "clean = clean.loc['1937-05-01':]\n",
    "clean"
   ]
  },
  {
   "attachments": {},
   "cell_type": "markdown",
   "id": "aeef78d7",
   "metadata": {},
   "source": [
    "Establish risk-free rate:"
   ]
  },
  {
   "cell_type": "code",
   "execution_count": 251,
   "id": "bddac087",
   "metadata": {},
   "outputs": [
    {
     "data": {
      "text/plain": [
       "yyyymm\n",
       "1937-05-01    0.0006\n",
       "1937-06-01    0.0003\n",
       "1937-07-01    0.0003\n",
       "1937-08-01    0.0002\n",
       "1937-09-01    0.0004\n",
       "Name: Rfree, dtype: float64"
      ]
     },
     "execution_count": 251,
     "metadata": {},
     "output_type": "execute_result"
    }
   ],
   "source": [
    "#IMPORT RF_RATE data\n",
    "rf_rate = pd.read_csv(\"data.csv\", index_col = 0, parse_dates=True, infer_datetime_format=True)\n",
    "rf_rate = rf_rate['Rfree']\n",
    "rf_rate.index = clean.index\n",
    "rf_rate.head()"
   ]
  },
  {
   "cell_type": "markdown",
   "id": "2bf32cf6-c4ec-4cf3-8c58-b18f3cf780a8",
   "metadata": {},
   "source": [
    "### *Cleaning the Explanatory Variables further:*"
   ]
  },
  {
   "cell_type": "code",
   "execution_count": 252,
   "id": "0d91f8c7-7314-4337-88a1-c804ad39682a",
   "metadata": {
    "tags": []
   },
   "outputs": [],
   "source": [
    "explan_variables = clean.copy()\n",
    "explan_variables = explan_variables.drop('12M_forward', axis=1)"
   ]
  },
  {
   "cell_type": "markdown",
   "id": "a0dd7653-e72c-49b8-a44b-25fa32806e41",
   "metadata": {},
   "source": [
    "Winsorize:"
   ]
  },
  {
   "cell_type": "code",
   "execution_count": 253,
   "id": "31294d38-af5e-4520-85dd-78d59275e0e9",
   "metadata": {},
   "outputs": [],
   "source": [
    "# clean_X = winsorize_(explan_variables, (0.1, 0.1))\n",
    "# clean_X.plot()"
   ]
  },
  {
   "cell_type": "markdown",
   "id": "144b7998-6140-405b-afe9-448d9bf3fc82",
   "metadata": {},
   "source": [
    "Z-score:"
   ]
  },
  {
   "cell_type": "code",
   "execution_count": 254,
   "id": "7de00287-8509-4feb-b0f6-a3bcac554e16",
   "metadata": {},
   "outputs": [],
   "source": [
    "# super_clean_X = StandardScaler().fit_transform(winsorized_x)\n",
    "# clean_X = pd.DataFrame(super_clean_X, index = winsorized_x.index, columns = winsorized_x.columns)\n",
    "# clean_X.plot()"
   ]
  },
  {
   "cell_type": "markdown",
   "id": "725bdafc-06bf-4ade-8d75-fef64034fe9a",
   "metadata": {},
   "source": [
    "## Modelling:"
   ]
  },
  {
   "cell_type": "code",
   "execution_count": 255,
   "id": "ad1de6d6-1aa8-4695-9f61-3bbcbf9484cd",
   "metadata": {},
   "outputs": [
    {
     "data": {
      "text/plain": [
       "Index(['12M_Mom', '9M_Mom', '%_ch_D/P', '5Y_val'], dtype='object')"
      ]
     },
     "execution_count": 255,
     "metadata": {},
     "output_type": "execute_result"
    }
   ],
   "source": [
    "explan_variables.columns #Select the Factors you want"
   ]
  },
  {
   "cell_type": "markdown",
   "id": "5d3b51d9-694a-4ee4-9681-04bcfdf21826",
   "metadata": {},
   "source": [
    "<br>"
   ]
  },
  {
   "cell_type": "markdown",
   "id": "be8c820a-8247-46fb-84ee-9fd550a519dc",
   "metadata": {
    "tags": []
   },
   "source": [
    "#### *Split data into training and testing datasets for OOS:*"
   ]
  },
  {
   "cell_type": "code",
   "execution_count": 260,
   "id": "379563b0-28cd-4276-afd7-56f11a3fdd57",
   "metadata": {},
   "outputs": [],
   "source": [
    "# Set Model\n",
    "\n",
    "y = clean['12M_forward'] - rf_rate\n",
    "\n",
    "X = explan_variables[['5Y_val', '12M_Mom']] # Change this to change X_variables ['5Y_val', '9M_Mom', '%_ch_D/P']\n",
    "\n",
    "\n",
    "\n",
    "\n",
    "train_proportion = 0.7 # Train dataset proportion\n",
    "\n",
    "split_index = int(len(X) * train_proportion) # Simply splitting the whole (972) length of the X variable into 70% for the training data-set\n",
    "\n",
    "# Split the data into training and testing sets based on the split index\n",
    "X_train, X_test = X[:split_index], X[split_index:]\n",
    "y_train, y_test = y[:split_index], y[split_index:]"
   ]
  },
  {
   "cell_type": "markdown",
   "id": "18164a60-8fa1-41c5-b795-7104a1668aec",
   "metadata": {},
   "source": [
    "<br>"
   ]
  },
  {
   "cell_type": "markdown",
   "id": "1880fbfd-db04-4d9f-a22d-ee8e5a384363",
   "metadata": {},
   "source": [
    "<span style=\"color:blue\">Linear Regression:</span>"
   ]
  },
  {
   "cell_type": "code",
   "execution_count": 261,
   "id": "70478b0d-5835-42a3-9d6c-85f5d7fdfb57",
   "metadata": {},
   "outputs": [
    {
     "name": "stdout",
     "output_type": "stream",
     "text": [
      "In-Sample Coefficients: [-0.02237109 -0.11206546],         In-Sample Intercept: 0.08237,            In-Sample R-squared: 0.0250601\n"
     ]
    }
   ],
   "source": [
    "model = LinearRegression().fit(X_train, y_train)\n",
    "print(f'In-Sample Coefficients: {model.coef_},         In-Sample Intercept: {model.intercept_:.5f},            In-Sample R-squared: {model.score(X_train, y_train):.7f}')"
   ]
  },
  {
   "cell_type": "markdown",
   "id": "ac0b23b4-8f1d-4046-86bc-5df1fa3c928f",
   "metadata": {
    "tags": []
   },
   "source": [
    "<br>"
   ]
  },
  {
   "cell_type": "code",
   "execution_count": 262,
   "id": "b50b049c-9587-48eb-bb01-2b26b9159151",
   "metadata": {
    "tags": []
   },
   "outputs": [
    {
     "data": {},
     "metadata": {},
     "output_type": "display_data"
    },
    {
     "data": {
      "application/vnd.holoviews_exec.v0+json": "",
      "text/html": [
       "<div id='2794'>\n",
       "  <div class=\"bk-root\" id=\"d99a9419-b5db-4c3c-b324-b2c5c0ecd3a9\" data-root-id=\"2794\"></div>\n",
       "</div>\n",
       "<script type=\"application/javascript\">(function(root) {\n",
       "  function embed_document(root) {\n",
       "    var docs_json = {\"9c2c670a-10f7-4353-b63f-2178465d6c46\":{\"defs\":[{\"extends\":null,\"module\":null,\"name\":\"ReactiveHTML1\",\"overrides\":[],\"properties\":[]},{\"extends\":null,\"module\":null,\"name\":\"FlexBox1\",\"overrides\":[],\"properties\":[{\"default\":\"flex-start\",\"kind\":null,\"name\":\"align_content\"},{\"default\":\"flex-start\",\"kind\":null,\"name\":\"align_items\"},{\"default\":\"row\",\"kind\":null,\"name\":\"flex_direction\"},{\"default\":\"wrap\",\"kind\":null,\"name\":\"flex_wrap\"},{\"default\":\"flex-start\",\"kind\":null,\"name\":\"justify_content\"}]},{\"extends\":null,\"module\":null,\"name\":\"GridStack1\",\"overrides\":[],\"properties\":[{\"default\":\"warn\",\"kind\":null,\"name\":\"mode\"},{\"default\":null,\"kind\":null,\"name\":\"ncols\"},{\"default\":null,\"kind\":null,\"name\":\"nrows\"},{\"default\":true,\"kind\":null,\"name\":\"allow_resize\"},{\"default\":true,\"kind\":null,\"name\":\"allow_drag\"},{\"default\":[],\"kind\":null,\"name\":\"state\"}]},{\"extends\":null,\"module\":null,\"name\":\"click1\",\"overrides\":[],\"properties\":[{\"default\":\"\",\"kind\":null,\"name\":\"terminal_output\"},{\"default\":\"\",\"kind\":null,\"name\":\"debug_name\"},{\"default\":0,\"kind\":null,\"name\":\"clears\"}]},{\"extends\":null,\"module\":null,\"name\":\"NotificationAreaBase1\",\"overrides\":[],\"properties\":[{\"default\":\"bottom-right\",\"kind\":null,\"name\":\"position\"},{\"default\":0,\"kind\":null,\"name\":\"_clear\"}]},{\"extends\":null,\"module\":null,\"name\":\"NotificationArea1\",\"overrides\":[],\"properties\":[{\"default\":[],\"kind\":null,\"name\":\"notifications\"},{\"default\":\"bottom-right\",\"kind\":null,\"name\":\"position\"},{\"default\":0,\"kind\":null,\"name\":\"_clear\"},{\"default\":[{\"background\":\"#ffc107\",\"icon\":{\"className\":\"fas fa-exclamation-triangle\",\"color\":\"white\",\"tagName\":\"i\"},\"type\":\"warning\"},{\"background\":\"#007bff\",\"icon\":{\"className\":\"fas fa-info-circle\",\"color\":\"white\",\"tagName\":\"i\"},\"type\":\"info\"}],\"kind\":null,\"name\":\"types\"}]},{\"extends\":null,\"module\":null,\"name\":\"Notification\",\"overrides\":[],\"properties\":[{\"default\":null,\"kind\":null,\"name\":\"background\"},{\"default\":3000,\"kind\":null,\"name\":\"duration\"},{\"default\":null,\"kind\":null,\"name\":\"icon\"},{\"default\":\"\",\"kind\":null,\"name\":\"message\"},{\"default\":null,\"kind\":null,\"name\":\"notification_type\"},{\"default\":false,\"kind\":null,\"name\":\"_destroyed\"}]},{\"extends\":null,\"module\":null,\"name\":\"TemplateActions1\",\"overrides\":[],\"properties\":[{\"default\":0,\"kind\":null,\"name\":\"open_modal\"},{\"default\":0,\"kind\":null,\"name\":\"close_modal\"}]},{\"extends\":null,\"module\":null,\"name\":\"MaterialTemplateActions1\",\"overrides\":[],\"properties\":[{\"default\":0,\"kind\":null,\"name\":\"open_modal\"},{\"default\":0,\"kind\":null,\"name\":\"close_modal\"}]}],\"roots\":{\"references\":[{\"attributes\":{\"coordinates\":null,\"data_source\":{\"id\":\"2829\"},\"glyph\":{\"id\":\"2832\"},\"group\":null,\"hover_glyph\":null,\"muted_glyph\":{\"id\":\"2834\"},\"nonselection_glyph\":{\"id\":\"2833\"},\"selection_glyph\":{\"id\":\"2837\"},\"view\":{\"id\":\"2836\"}},\"id\":\"2835\",\"type\":\"GlyphRenderer\"},{\"attributes\":{},\"id\":\"2813\",\"type\":\"BasicTicker\"},{\"attributes\":{\"end\":0.14659412325104637,\"reset_end\":0.14659412325104637,\"reset_start\":-0.006896820064728604,\"start\":-0.006896820064728604,\"tags\":[[[\"prediction\",\"prediction\",null]]]},\"id\":\"2796\",\"type\":\"Range1d\"},{\"attributes\":{\"axis\":{\"id\":\"2812\"},\"coordinates\":null,\"dimension\":1,\"grid_line_color\":null,\"group\":null,\"ticker\":null},\"id\":\"2815\",\"type\":\"Grid\"},{\"attributes\":{},\"id\":\"2820\",\"type\":\"ResetTool\"},{\"attributes\":{\"margin\":[5,5,5,5],\"name\":\"HSpacer02560\",\"sizing_mode\":\"stretch_width\"},\"id\":\"2854\",\"type\":\"Spacer\"},{\"attributes\":{\"tools\":[{\"id\":\"2798\"},{\"id\":\"2816\"},{\"id\":\"2817\"},{\"id\":\"2818\"},{\"id\":\"2819\"},{\"id\":\"2820\"}]},\"id\":\"2822\",\"type\":\"Toolbar\"},{\"attributes\":{\"angle\":{\"value\":0.0},\"fill_alpha\":{\"value\":1.0},\"fill_color\":{\"value\":\"#30a2da\"},\"hatch_alpha\":{\"value\":1.0},\"hatch_color\":{\"value\":\"#30a2da\"},\"hatch_scale\":{\"value\":12.0},\"hatch_weight\":{\"value\":1.0},\"line_alpha\":{\"value\":1.0},\"line_cap\":{\"value\":\"butt\"},\"line_color\":{\"value\":\"#30a2da\"},\"line_dash\":{\"value\":[]},\"line_dash_offset\":{\"value\":0},\"line_join\":{\"value\":\"bevel\"},\"line_width\":{\"value\":1},\"marker\":{\"value\":\"circle\"},\"size\":{\"value\":5.477225575051661},\"x\":{\"field\":\"prediction\"},\"y\":{\"field\":\"actual\"}},\"id\":\"2837\",\"type\":\"Scatter\"},{\"attributes\":{\"fill_alpha\":{\"value\":0.1},\"fill_color\":{\"value\":\"#30a2da\"},\"hatch_alpha\":{\"value\":0.1},\"hatch_color\":{\"value\":\"#30a2da\"},\"line_alpha\":{\"value\":0.1},\"line_color\":{\"value\":\"#30a2da\"},\"size\":{\"value\":5.477225575051661},\"x\":{\"field\":\"prediction\"},\"y\":{\"field\":\"actual\"}},\"id\":\"2833\",\"type\":\"Scatter\"},{\"attributes\":{\"source\":{\"id\":\"2829\"}},\"id\":\"2836\",\"type\":\"CDSView\"},{\"attributes\":{\"callback\":null,\"renderers\":[{\"id\":\"2835\"}],\"tags\":[\"hv_created\"],\"tooltips\":[[\"prediction\",\"@{prediction}\"],[\"actual\",\"@{actual}\"]]},\"id\":\"2798\",\"type\":\"HoverTool\"},{\"attributes\":{\"axis_label\":\"actual\",\"coordinates\":null,\"formatter\":{\"id\":\"2842\"},\"group\":null,\"major_label_policy\":{\"id\":\"2843\"},\"ticker\":{\"id\":\"2813\"}},\"id\":\"2812\",\"type\":\"LinearAxis\"},{\"attributes\":{},\"id\":\"2842\",\"type\":\"BasicTickFormatter\"},{\"attributes\":{\"axis_label\":\"prediction\",\"coordinates\":null,\"formatter\":{\"id\":\"2839\"},\"group\":null,\"major_label_policy\":{\"id\":\"2840\"},\"ticker\":{\"id\":\"2809\"}},\"id\":\"2808\",\"type\":\"LinearAxis\"},{\"attributes\":{\"axis\":{\"id\":\"2808\"},\"coordinates\":null,\"grid_line_color\":null,\"group\":null,\"ticker\":null},\"id\":\"2811\",\"type\":\"Grid\"},{\"attributes\":{},\"id\":\"2809\",\"type\":\"BasicTicker\"},{\"attributes\":{},\"id\":\"2839\",\"type\":\"BasicTickFormatter\"},{\"attributes\":{},\"id\":\"2818\",\"type\":\"WheelZoomTool\"},{\"attributes\":{\"below\":[{\"id\":\"2808\"}],\"center\":[{\"id\":\"2811\"},{\"id\":\"2815\"}],\"height\":300,\"left\":[{\"id\":\"2812\"}],\"margin\":[5,5,5,5],\"min_border_bottom\":10,\"min_border_left\":10,\"min_border_right\":10,\"min_border_top\":10,\"renderers\":[{\"id\":\"2835\"}],\"sizing_mode\":\"fixed\",\"title\":{\"id\":\"2800\"},\"toolbar\":{\"id\":\"2822\"},\"width\":700,\"x_range\":{\"id\":\"2796\"},\"x_scale\":{\"id\":\"2804\"},\"y_range\":{\"id\":\"2797\"},\"y_scale\":{\"id\":\"2806\"}},\"id\":\"2799\",\"subtype\":\"Figure\",\"type\":\"Plot\"},{\"attributes\":{\"fill_alpha\":{\"value\":0.2},\"fill_color\":{\"value\":\"#30a2da\"},\"hatch_alpha\":{\"value\":0.2},\"hatch_color\":{\"value\":\"#30a2da\"},\"line_alpha\":{\"value\":0.2},\"line_color\":{\"value\":\"#30a2da\"},\"size\":{\"value\":5.477225575051661},\"x\":{\"field\":\"prediction\"},\"y\":{\"field\":\"actual\"}},\"id\":\"2834\",\"type\":\"Scatter\"},{\"attributes\":{\"bottom_units\":\"screen\",\"coordinates\":null,\"fill_alpha\":0.5,\"fill_color\":\"lightgrey\",\"group\":null,\"left_units\":\"screen\",\"level\":\"overlay\",\"line_alpha\":1.0,\"line_color\":\"black\",\"line_dash\":[4,4],\"line_width\":2,\"right_units\":\"screen\",\"syncable\":false,\"top_units\":\"screen\"},\"id\":\"2821\",\"type\":\"BoxAnnotation\"},{\"attributes\":{},\"id\":\"2840\",\"type\":\"AllLabels\"},{\"attributes\":{\"fill_color\":{\"value\":\"#30a2da\"},\"hatch_color\":{\"value\":\"#30a2da\"},\"line_color\":{\"value\":\"#30a2da\"},\"size\":{\"value\":5.477225575051661},\"x\":{\"field\":\"prediction\"},\"y\":{\"field\":\"actual\"}},\"id\":\"2832\",\"type\":\"Scatter\"},{\"attributes\":{\"overlay\":{\"id\":\"2821\"}},\"id\":\"2819\",\"type\":\"BoxZoomTool\"},{\"attributes\":{},\"id\":\"2851\",\"type\":\"UnionRenderers\"},{\"attributes\":{\"coordinates\":null,\"group\":null,\"text_color\":\"black\",\"text_font_size\":\"12pt\"},\"id\":\"2800\",\"type\":\"Title\"},{\"attributes\":{\"margin\":[5,5,5,5],\"name\":\"HSpacer02559\",\"sizing_mode\":\"stretch_width\"},\"id\":\"2795\",\"type\":\"Spacer\"},{\"attributes\":{},\"id\":\"2817\",\"type\":\"PanTool\"},{\"attributes\":{\"children\":[{\"id\":\"2795\"},{\"id\":\"2799\"},{\"id\":\"2854\"}],\"margin\":[0,0,0,0],\"name\":\"Row02555\",\"tags\":[\"embedded\"]},\"id\":\"2794\",\"type\":\"Row\"},{\"attributes\":{},\"id\":\"2830\",\"type\":\"Selection\"},{\"attributes\":{\"data\":{\"actual\":{\"__ndarray__\":\"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\",\"dtype\":\"float64\",\"order\":\"little\",\"shape\":[302]},\"prediction\":{\"__ndarray__\":\"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\",\"dtype\":\"float64\",\"order\":\"little\",\"shape\":[302]}},\"selected\":{\"id\":\"2830\"},\"selection_policy\":{\"id\":\"2851\"}},\"id\":\"2829\",\"type\":\"ColumnDataSource\"},{\"attributes\":{\"end\":0.5310710769427773,\"reset_end\":0.5310710769427773,\"reset_start\":-0.6970590279881193,\"start\":-0.6970590279881193,\"tags\":[[[\"actual\",\"actual\",null]]]},\"id\":\"2797\",\"type\":\"Range1d\"},{\"attributes\":{},\"id\":\"2804\",\"type\":\"LinearScale\"},{\"attributes\":{},\"id\":\"2816\",\"type\":\"SaveTool\"},{\"attributes\":{},\"id\":\"2806\",\"type\":\"LinearScale\"},{\"attributes\":{},\"id\":\"2843\",\"type\":\"AllLabels\"}],\"root_ids\":[\"2794\"]},\"title\":\"Bokeh Application\",\"version\":\"2.4.3\"}};\n",
       "    var render_items = [{\"docid\":\"9c2c670a-10f7-4353-b63f-2178465d6c46\",\"root_ids\":[\"2794\"],\"roots\":{\"2794\":\"d99a9419-b5db-4c3c-b324-b2c5c0ecd3a9\"}}];\n",
       "    root.Bokeh.embed.embed_items_notebook(docs_json, render_items);\n",
       "    for (const render_item of render_items) {\n",
       "      for (const root_id of render_item.root_ids) {\n",
       "\tconst id_el = document.getElementById(root_id)\n",
       "\tif (id_el.children.length && (id_el.children[0].className === 'bk-root')) {\n",
       "\t  const root_el = id_el.children[0]\n",
       "\t  root_el.id = root_el.id + '-rendered'\n",
       "\t}\n",
       "      }\n",
       "    }\n",
       "  }\n",
       "  if (root.Bokeh !== undefined && root.Bokeh.Panel !== undefined) {\n",
       "    embed_document(root);\n",
       "  } else {\n",
       "    var attempts = 0;\n",
       "    var timer = setInterval(function(root) {\n",
       "      if (root.Bokeh !== undefined && root.Bokeh.Panel !== undefined) {\n",
       "        clearInterval(timer);\n",
       "        embed_document(root);\n",
       "      } else if (document.readyState == \"complete\") {\n",
       "        attempts++;\n",
       "        if (attempts > 200) {\n",
       "          clearInterval(timer);\n",
       "          console.log(\"Bokeh: ERROR: Unable to run BokehJS code because BokehJS library is missing\");\n",
       "        }\n",
       "      }\n",
       "    }, 25, root)\n",
       "  }\n",
       "})(window);</script>"
      ],
      "text/plain": [
       ":Scatter   [prediction]   (actual)"
      ]
     },
     "execution_count": 262,
     "metadata": {
      "application/vnd.holoviews_exec.v0+json": {
       "id": "2794"
      }
     },
     "output_type": "execute_result"
    }
   ],
   "source": [
    "#Predict Values OOS with in-sample coefficients\n",
    "linear_prediction = model.predict(X_test)\n",
    "\n",
    "#Collate to DataFrame\n",
    "OOS = pd.DataFrame(linear_prediction, index = y_test.index, columns = ['prediction'])\n",
    "\n",
    "# Add The 12M Return\n",
    "OOS['actual'] = y_test\n",
    "\n",
    "OOS.hvplot(kind=\"scatter\", x = 'prediction', y='actual')"
   ]
  },
  {
   "cell_type": "code",
   "execution_count": 263,
   "id": "4957ab8d-585e-4cd1-afda-eb283fd14882",
   "metadata": {},
   "outputs": [
    {
     "name": "stdout",
     "output_type": "stream",
     "text": [
      " Out of Sample Corr, R^2 and MSE = ((-0.031057450147423667, 0.0009645652096597064), 0.030228)\n"
     ]
    }
   ],
   "source": [
    "oos_r2 = calculate_correlation(OOS, 'actual', 'prediction')\n",
    "oos_mse = mean_squared_error(OOS['actual'], OOS['prediction'])\n",
    "\n",
    "print(f' Out of Sample Corr, R^2 and MSE = {oos_r2, round(oos_mse, 6)}')"
   ]
  },
  {
   "cell_type": "markdown",
   "id": "f5506624-00cb-4cf5-9a72-92fca33cf4a5",
   "metadata": {},
   "source": [
    "<br>"
   ]
  },
  {
   "cell_type": "markdown",
   "id": "6eb8c56b-c832-4544-ad4d-b308be730ff3",
   "metadata": {},
   "source": [
    "<span style=\"color:blue\">Ridge:</span>"
   ]
  },
  {
   "cell_type": "code",
   "execution_count": 264,
   "id": "212850f0-89c6-44ed-9b41-b6c1c162862d",
   "metadata": {},
   "outputs": [
    {
     "name": "stdout",
     "output_type": "stream",
     "text": [
      "In-Sample Coefficients: [-0.02266208 -0.11000423],         In-Sample Intercept: 0.08235,            In-Sample R-squared: 0.0250559\n"
     ]
    }
   ],
   "source": [
    "model3 = Ridge(alpha = 0.3).fit(X_train, y_train)\n",
    "print(f'In-Sample Coefficients: {model3.coef_},         In-Sample Intercept: {model3.intercept_:.5f},            In-Sample R-squared: {model3.score(X_train, y_train):.7f}')"
   ]
  },
  {
   "cell_type": "code",
   "execution_count": 265,
   "id": "b044c57d-c643-43b3-85c3-2951f743109b",
   "metadata": {},
   "outputs": [
    {
     "data": {},
     "metadata": {},
     "output_type": "display_data"
    },
    {
     "data": {
      "application/vnd.holoviews_exec.v0+json": "",
      "text/html": [
       "<div id='2906'>\n",
       "  <div class=\"bk-root\" id=\"23e1ad3f-8c44-48e1-ba9e-9552e23b7d5c\" data-root-id=\"2906\"></div>\n",
       "</div>\n",
       "<script type=\"application/javascript\">(function(root) {\n",
       "  function embed_document(root) {\n",
       "    var docs_json = {\"446fd610-6476-4b33-9fc8-8ae6322803d8\":{\"defs\":[{\"extends\":null,\"module\":null,\"name\":\"ReactiveHTML1\",\"overrides\":[],\"properties\":[]},{\"extends\":null,\"module\":null,\"name\":\"FlexBox1\",\"overrides\":[],\"properties\":[{\"default\":\"flex-start\",\"kind\":null,\"name\":\"align_content\"},{\"default\":\"flex-start\",\"kind\":null,\"name\":\"align_items\"},{\"default\":\"row\",\"kind\":null,\"name\":\"flex_direction\"},{\"default\":\"wrap\",\"kind\":null,\"name\":\"flex_wrap\"},{\"default\":\"flex-start\",\"kind\":null,\"name\":\"justify_content\"}]},{\"extends\":null,\"module\":null,\"name\":\"GridStack1\",\"overrides\":[],\"properties\":[{\"default\":\"warn\",\"kind\":null,\"name\":\"mode\"},{\"default\":null,\"kind\":null,\"name\":\"ncols\"},{\"default\":null,\"kind\":null,\"name\":\"nrows\"},{\"default\":true,\"kind\":null,\"name\":\"allow_resize\"},{\"default\":true,\"kind\":null,\"name\":\"allow_drag\"},{\"default\":[],\"kind\":null,\"name\":\"state\"}]},{\"extends\":null,\"module\":null,\"name\":\"click1\",\"overrides\":[],\"properties\":[{\"default\":\"\",\"kind\":null,\"name\":\"terminal_output\"},{\"default\":\"\",\"kind\":null,\"name\":\"debug_name\"},{\"default\":0,\"kind\":null,\"name\":\"clears\"}]},{\"extends\":null,\"module\":null,\"name\":\"NotificationAreaBase1\",\"overrides\":[],\"properties\":[{\"default\":\"bottom-right\",\"kind\":null,\"name\":\"position\"},{\"default\":0,\"kind\":null,\"name\":\"_clear\"}]},{\"extends\":null,\"module\":null,\"name\":\"NotificationArea1\",\"overrides\":[],\"properties\":[{\"default\":[],\"kind\":null,\"name\":\"notifications\"},{\"default\":\"bottom-right\",\"kind\":null,\"name\":\"position\"},{\"default\":0,\"kind\":null,\"name\":\"_clear\"},{\"default\":[{\"background\":\"#ffc107\",\"icon\":{\"className\":\"fas fa-exclamation-triangle\",\"color\":\"white\",\"tagName\":\"i\"},\"type\":\"warning\"},{\"background\":\"#007bff\",\"icon\":{\"className\":\"fas fa-info-circle\",\"color\":\"white\",\"tagName\":\"i\"},\"type\":\"info\"}],\"kind\":null,\"name\":\"types\"}]},{\"extends\":null,\"module\":null,\"name\":\"Notification\",\"overrides\":[],\"properties\":[{\"default\":null,\"kind\":null,\"name\":\"background\"},{\"default\":3000,\"kind\":null,\"name\":\"duration\"},{\"default\":null,\"kind\":null,\"name\":\"icon\"},{\"default\":\"\",\"kind\":null,\"name\":\"message\"},{\"default\":null,\"kind\":null,\"name\":\"notification_type\"},{\"default\":false,\"kind\":null,\"name\":\"_destroyed\"}]},{\"extends\":null,\"module\":null,\"name\":\"TemplateActions1\",\"overrides\":[],\"properties\":[{\"default\":0,\"kind\":null,\"name\":\"open_modal\"},{\"default\":0,\"kind\":null,\"name\":\"close_modal\"}]},{\"extends\":null,\"module\":null,\"name\":\"MaterialTemplateActions1\",\"overrides\":[],\"properties\":[{\"default\":0,\"kind\":null,\"name\":\"open_modal\"},{\"default\":0,\"kind\":null,\"name\":\"close_modal\"}]}],\"roots\":{\"references\":[{\"attributes\":{\"axis_label\":\"actual\",\"coordinates\":null,\"formatter\":{\"id\":\"2954\"},\"group\":null,\"major_label_policy\":{\"id\":\"2955\"},\"ticker\":{\"id\":\"2925\"}},\"id\":\"2924\",\"type\":\"LinearAxis\"},{\"attributes\":{},\"id\":\"2930\",\"type\":\"WheelZoomTool\"},{\"attributes\":{\"source\":{\"id\":\"2941\"}},\"id\":\"2948\",\"type\":\"CDSView\"},{\"attributes\":{},\"id\":\"2918\",\"type\":\"LinearScale\"},{\"attributes\":{\"coordinates\":null,\"data_source\":{\"id\":\"2941\"},\"glyph\":{\"id\":\"2944\"},\"group\":null,\"hover_glyph\":null,\"muted_glyph\":{\"id\":\"2946\"},\"nonselection_glyph\":{\"id\":\"2945\"},\"selection_glyph\":{\"id\":\"2949\"},\"view\":{\"id\":\"2948\"}},\"id\":\"2947\",\"type\":\"GlyphRenderer\"},{\"attributes\":{\"margin\":[5,5,5,5],\"name\":\"HSpacer02664\",\"sizing_mode\":\"stretch_width\"},\"id\":\"2907\",\"type\":\"Spacer\"},{\"attributes\":{},\"id\":\"2921\",\"type\":\"BasicTicker\"},{\"attributes\":{\"coordinates\":null,\"group\":null,\"text_color\":\"black\",\"text_font_size\":\"12pt\"},\"id\":\"2912\",\"type\":\"Title\"},{\"attributes\":{\"fill_alpha\":{\"value\":0.1},\"fill_color\":{\"value\":\"#30a2da\"},\"hatch_alpha\":{\"value\":0.1},\"hatch_color\":{\"value\":\"#30a2da\"},\"line_alpha\":{\"value\":0.1},\"line_color\":{\"value\":\"#30a2da\"},\"size\":{\"value\":5.477225575051661},\"x\":{\"field\":\"prediction\"},\"y\":{\"field\":\"actual\"}},\"id\":\"2945\",\"type\":\"Scatter\"},{\"attributes\":{},\"id\":\"2955\",\"type\":\"AllLabels\"},{\"attributes\":{\"below\":[{\"id\":\"2920\"}],\"center\":[{\"id\":\"2923\"},{\"id\":\"2927\"}],\"height\":300,\"left\":[{\"id\":\"2924\"}],\"margin\":[5,5,5,5],\"min_border_bottom\":10,\"min_border_left\":10,\"min_border_right\":10,\"min_border_top\":10,\"renderers\":[{\"id\":\"2947\"}],\"sizing_mode\":\"fixed\",\"title\":{\"id\":\"2912\"},\"toolbar\":{\"id\":\"2934\"},\"width\":700,\"x_range\":{\"id\":\"2908\"},\"x_scale\":{\"id\":\"2916\"},\"y_range\":{\"id\":\"2909\"},\"y_scale\":{\"id\":\"2918\"}},\"id\":\"2911\",\"subtype\":\"Figure\",\"type\":\"Plot\"},{\"attributes\":{},\"id\":\"2932\",\"type\":\"ResetTool\"},{\"attributes\":{\"margin\":[5,5,5,5],\"name\":\"HSpacer02665\",\"sizing_mode\":\"stretch_width\"},\"id\":\"2966\",\"type\":\"Spacer\"},{\"attributes\":{},\"id\":\"2954\",\"type\":\"BasicTickFormatter\"},{\"attributes\":{\"end\":0.5310710769427773,\"reset_end\":0.5310710769427773,\"reset_start\":-0.6970590279881193,\"start\":-0.6970590279881193,\"tags\":[[[\"actual\",\"actual\",null]]]},\"id\":\"2909\",\"type\":\"Range1d\"},{\"attributes\":{\"axis\":{\"id\":\"2924\"},\"coordinates\":null,\"dimension\":1,\"grid_line_color\":null,\"group\":null,\"ticker\":null},\"id\":\"2927\",\"type\":\"Grid\"},{\"attributes\":{},\"id\":\"2951\",\"type\":\"BasicTickFormatter\"},{\"attributes\":{\"axis_label\":\"prediction\",\"coordinates\":null,\"formatter\":{\"id\":\"2951\"},\"group\":null,\"major_label_policy\":{\"id\":\"2952\"},\"ticker\":{\"id\":\"2921\"}},\"id\":\"2920\",\"type\":\"LinearAxis\"},{\"attributes\":{},\"id\":\"2916\",\"type\":\"LinearScale\"},{\"attributes\":{},\"id\":\"2928\",\"type\":\"SaveTool\"},{\"attributes\":{\"children\":[{\"id\":\"2907\"},{\"id\":\"2911\"},{\"id\":\"2966\"}],\"margin\":[0,0,0,0],\"name\":\"Row02660\",\"tags\":[\"embedded\"]},\"id\":\"2906\",\"type\":\"Row\"},{\"attributes\":{\"bottom_units\":\"screen\",\"coordinates\":null,\"fill_alpha\":0.5,\"fill_color\":\"lightgrey\",\"group\":null,\"left_units\":\"screen\",\"level\":\"overlay\",\"line_alpha\":1.0,\"line_color\":\"black\",\"line_dash\":[4,4],\"line_width\":2,\"right_units\":\"screen\",\"syncable\":false,\"top_units\":\"screen\"},\"id\":\"2933\",\"type\":\"BoxAnnotation\"},{\"attributes\":{\"tools\":[{\"id\":\"2910\"},{\"id\":\"2928\"},{\"id\":\"2929\"},{\"id\":\"2930\"},{\"id\":\"2931\"},{\"id\":\"2932\"}]},\"id\":\"2934\",\"type\":\"Toolbar\"},{\"attributes\":{\"axis\":{\"id\":\"2920\"},\"coordinates\":null,\"grid_line_color\":null,\"group\":null,\"ticker\":null},\"id\":\"2923\",\"type\":\"Grid\"},{\"attributes\":{\"data\":{\"actual\":{\"__ndarray__\":\"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\",\"dtype\":\"float64\",\"order\":\"little\",\"shape\":[302]},\"prediction\":{\"__ndarray__\":\"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\",\"dtype\":\"float64\",\"order\":\"little\",\"shape\":[302]}},\"selected\":{\"id\":\"2942\"},\"selection_policy\":{\"id\":\"2963\"}},\"id\":\"2941\",\"type\":\"ColumnDataSource\"},{\"attributes\":{\"callback\":null,\"renderers\":[{\"id\":\"2947\"}],\"tags\":[\"hv_created\"],\"tooltips\":[[\"prediction\",\"@{prediction}\"],[\"actual\",\"@{actual}\"]]},\"id\":\"2910\",\"type\":\"HoverTool\"},{\"attributes\":{\"fill_alpha\":{\"value\":0.2},\"fill_color\":{\"value\":\"#30a2da\"},\"hatch_alpha\":{\"value\":0.2},\"hatch_color\":{\"value\":\"#30a2da\"},\"line_alpha\":{\"value\":0.2},\"line_color\":{\"value\":\"#30a2da\"},\"size\":{\"value\":5.477225575051661},\"x\":{\"field\":\"prediction\"},\"y\":{\"field\":\"actual\"}},\"id\":\"2946\",\"type\":\"Scatter\"},{\"attributes\":{},\"id\":\"2942\",\"type\":\"Selection\"},{\"attributes\":{\"fill_color\":{\"value\":\"#30a2da\"},\"hatch_color\":{\"value\":\"#30a2da\"},\"line_color\":{\"value\":\"#30a2da\"},\"size\":{\"value\":5.477225575051661},\"x\":{\"field\":\"prediction\"},\"y\":{\"field\":\"actual\"}},\"id\":\"2944\",\"type\":\"Scatter\"},{\"attributes\":{\"angle\":{\"value\":0.0},\"fill_alpha\":{\"value\":1.0},\"fill_color\":{\"value\":\"#30a2da\"},\"hatch_alpha\":{\"value\":1.0},\"hatch_color\":{\"value\":\"#30a2da\"},\"hatch_scale\":{\"value\":12.0},\"hatch_weight\":{\"value\":1.0},\"line_alpha\":{\"value\":1.0},\"line_cap\":{\"value\":\"butt\"},\"line_color\":{\"value\":\"#30a2da\"},\"line_dash\":{\"value\":[]},\"line_dash_offset\":{\"value\":0},\"line_join\":{\"value\":\"bevel\"},\"line_width\":{\"value\":1},\"marker\":{\"value\":\"circle\"},\"size\":{\"value\":5.477225575051661},\"x\":{\"field\":\"prediction\"},\"y\":{\"field\":\"actual\"}},\"id\":\"2949\",\"type\":\"Scatter\"},{\"attributes\":{\"overlay\":{\"id\":\"2933\"}},\"id\":\"2931\",\"type\":\"BoxZoomTool\"},{\"attributes\":{\"end\":0.14569346574850808,\"reset_end\":0.14569346574850808,\"reset_start\":-0.006345025765085424,\"start\":-0.006345025765085424,\"tags\":[[[\"prediction\",\"prediction\",null]]]},\"id\":\"2908\",\"type\":\"Range1d\"},{\"attributes\":{},\"id\":\"2929\",\"type\":\"PanTool\"},{\"attributes\":{},\"id\":\"2952\",\"type\":\"AllLabels\"},{\"attributes\":{},\"id\":\"2963\",\"type\":\"UnionRenderers\"},{\"attributes\":{},\"id\":\"2925\",\"type\":\"BasicTicker\"}],\"root_ids\":[\"2906\"]},\"title\":\"Bokeh Application\",\"version\":\"2.4.3\"}};\n",
       "    var render_items = [{\"docid\":\"446fd610-6476-4b33-9fc8-8ae6322803d8\",\"root_ids\":[\"2906\"],\"roots\":{\"2906\":\"23e1ad3f-8c44-48e1-ba9e-9552e23b7d5c\"}}];\n",
       "    root.Bokeh.embed.embed_items_notebook(docs_json, render_items);\n",
       "    for (const render_item of render_items) {\n",
       "      for (const root_id of render_item.root_ids) {\n",
       "\tconst id_el = document.getElementById(root_id)\n",
       "\tif (id_el.children.length && (id_el.children[0].className === 'bk-root')) {\n",
       "\t  const root_el = id_el.children[0]\n",
       "\t  root_el.id = root_el.id + '-rendered'\n",
       "\t}\n",
       "      }\n",
       "    }\n",
       "  }\n",
       "  if (root.Bokeh !== undefined && root.Bokeh.Panel !== undefined) {\n",
       "    embed_document(root);\n",
       "  } else {\n",
       "    var attempts = 0;\n",
       "    var timer = setInterval(function(root) {\n",
       "      if (root.Bokeh !== undefined && root.Bokeh.Panel !== undefined) {\n",
       "        clearInterval(timer);\n",
       "        embed_document(root);\n",
       "      } else if (document.readyState == \"complete\") {\n",
       "        attempts++;\n",
       "        if (attempts > 200) {\n",
       "          clearInterval(timer);\n",
       "          console.log(\"Bokeh: ERROR: Unable to run BokehJS code because BokehJS library is missing\");\n",
       "        }\n",
       "      }\n",
       "    }, 25, root)\n",
       "  }\n",
       "})(window);</script>"
      ],
      "text/plain": [
       ":Scatter   [prediction]   (actual)"
      ]
     },
     "execution_count": 265,
     "metadata": {
      "application/vnd.holoviews_exec.v0+json": {
       "id": "2906"
      }
     },
     "output_type": "execute_result"
    }
   ],
   "source": [
    "#Predict Values OOS with in-sample coefficients\n",
    "ridge_pred = model3.predict(X_test)\n",
    "\n",
    "#Collate to DataFrame\n",
    "OOS1 = pd.DataFrame(ridge_pred, index = y_test.index, columns = ['prediction'])\n",
    "\n",
    "# Add The 12M Return\n",
    "OOS1['actual'] = y_test\n",
    "OOS1.hvplot(kind=\"scatter\", x = 'prediction', y='actual')"
   ]
  },
  {
   "cell_type": "code",
   "execution_count": 266,
   "id": "34895521-0505-4b35-bdb2-883da385ea0d",
   "metadata": {},
   "outputs": [
    {
     "name": "stdout",
     "output_type": "stream",
     "text": [
      " Out of Sample Corr, R^2 and MSE = ((-0.027837012059967785, 0.000774899240426792), 0.030189)\n"
     ]
    }
   ],
   "source": [
    "oos_r2_ = calculate_correlation(OOS1, 'actual', 'prediction')\n",
    "oos_mse1 = mean_squared_error(OOS1['actual'], OOS1['prediction'])\n",
    "\n",
    "print(f' Out of Sample Corr, R^2 and MSE = {oos_r2_, round(oos_mse1, 6)}')"
   ]
  },
  {
   "cell_type": "markdown",
   "id": "ac09d029-a0d4-4da1-a2da-4d210d2347c2",
   "metadata": {},
   "source": [
    "<br>"
   ]
  },
  {
   "cell_type": "markdown",
   "id": "3178d6aa-2d9f-477a-a932-3a2a4e825959",
   "metadata": {
    "tags": []
   },
   "source": [
    "<span style=\"color:blue\">Decision Tree:</span>"
   ]
  },
  {
   "cell_type": "code",
   "execution_count": 267,
   "id": "8fc512dd-89e3-47a1-81d6-be4880801433",
   "metadata": {},
   "outputs": [],
   "source": [
    "from sklearn.tree import plot_tree"
   ]
  },
  {
   "cell_type": "code",
   "execution_count": 268,
   "id": "d2c5dfff-459f-4f84-b02f-0cf6e61e31ce",
   "metadata": {},
   "outputs": [],
   "source": [
    "tree1 = tree.DecisionTreeRegressor(min_samples_split = 50).fit(X_train, y_train)\n",
    "y_pred = tree1.predict(X_test)"
   ]
  },
  {
   "cell_type": "code",
   "execution_count": 269,
   "id": "a3cf3a04-6bcd-4246-86f4-8d36dce53f8a",
   "metadata": {},
   "outputs": [
    {
     "name": "stdout",
     "output_type": "stream",
     "text": [
      "Mean Squared Error: 0.038792317330728285\n"
     ]
    }
   ],
   "source": [
    "mse_DT = mean_squared_error(y_test, y_pred)\n",
    "print('Mean Squared Error:', mse_DT)"
   ]
  },
  {
   "cell_type": "code",
   "execution_count": 270,
   "id": "a0439011-e8dd-4bff-89ce-02547c978e2b",
   "metadata": {},
   "outputs": [
    {
     "data": {
      "image/png": "[encoded data removed]",
      "text/plain": [
       "<Figure size 2000x1000 with 1 Axes>"
      ]
     },
     "metadata": {},
     "output_type": "display_data"
    }
   ],
   "source": [
    "plt.figure(figsize=(20,10))\n",
    "plot_tree(tree1)\n",
    "plt.show()"
   ]
  },
  {
   "cell_type": "markdown",
   "id": "d2fb0ff3-befc-40e8-8f01-4df7f2e1b2b8",
   "metadata": {},
   "source": [
    "<br>"
   ]
  },
  {
   "cell_type": "markdown",
   "id": "b6f660e4-020b-4099-940d-9b26d8bdf1a4",
   "metadata": {
    "jp-MarkdownHeadingCollapsed": true,
    "tags": []
   },
   "source": [
    "<span style=\"color:blue\">Gradient Boost:</span>"
   ]
  },
  {
   "cell_type": "code",
   "execution_count": 271,
   "id": "748f1573-5e15-4fca-a596-6e90ca9a9f10",
   "metadata": {},
   "outputs": [],
   "source": [
    "# create gradient boosting regression model\n",
    "gb_model = GradientBoostingRegressor(n_estimators=300, learning_rate=0.1, max_depth=10, min_samples_split = 50).fit(X_train, y_train)\n",
    "y_pred1 = gb_model.predict(X_test)"
   ]
  },
  {
   "cell_type": "code",
   "execution_count": 272,
   "id": "579fa791-4fa5-4348-bfe5-aef24f104fb2",
   "metadata": {},
   "outputs": [
    {
     "name": "stdout",
     "output_type": "stream",
     "text": [
      "Mean Squared Error: 0.03774208103224582\n"
     ]
    }
   ],
   "source": [
    "mse_GB = mean_squared_error(y_test, y_pred1)\n",
    "print('Mean Squared Error:', mse_GB)"
   ]
  },
  {
   "cell_type": "code",
   "execution_count": 273,
   "id": "f51c565f-6abb-4d1b-8467-f0324809ff96",
   "metadata": {},
   "outputs": [
    {
     "data": {},
     "metadata": {},
     "output_type": "display_data"
    },
    {
     "data": {
      "application/vnd.holoviews_exec.v0+json": "",
      "text/html": [
       "<div id='3018'>\n",
       "  <div class=\"bk-root\" id=\"f1ba77b2-d234-460a-b272-3bd7184fc6e5\" data-root-id=\"3018\"></div>\n",
       "</div>\n",
       "<script type=\"application/javascript\">(function(root) {\n",
       "  function embed_document(root) {\n",
       "    var docs_json = {\"ecc134e7-dd2a-441a-954c-8f10f7a83767\":{\"defs\":[{\"extends\":null,\"module\":null,\"name\":\"ReactiveHTML1\",\"overrides\":[],\"properties\":[]},{\"extends\":null,\"module\":null,\"name\":\"FlexBox1\",\"overrides\":[],\"properties\":[{\"default\":\"flex-start\",\"kind\":null,\"name\":\"align_content\"},{\"default\":\"flex-start\",\"kind\":null,\"name\":\"align_items\"},{\"default\":\"row\",\"kind\":null,\"name\":\"flex_direction\"},{\"default\":\"wrap\",\"kind\":null,\"name\":\"flex_wrap\"},{\"default\":\"flex-start\",\"kind\":null,\"name\":\"justify_content\"}]},{\"extends\":null,\"module\":null,\"name\":\"GridStack1\",\"overrides\":[],\"properties\":[{\"default\":\"warn\",\"kind\":null,\"name\":\"mode\"},{\"default\":null,\"kind\":null,\"name\":\"ncols\"},{\"default\":null,\"kind\":null,\"name\":\"nrows\"},{\"default\":true,\"kind\":null,\"name\":\"allow_resize\"},{\"default\":true,\"kind\":null,\"name\":\"allow_drag\"},{\"default\":[],\"kind\":null,\"name\":\"state\"}]},{\"extends\":null,\"module\":null,\"name\":\"click1\",\"overrides\":[],\"properties\":[{\"default\":\"\",\"kind\":null,\"name\":\"terminal_output\"},{\"default\":\"\",\"kind\":null,\"name\":\"debug_name\"},{\"default\":0,\"kind\":null,\"name\":\"clears\"}]},{\"extends\":null,\"module\":null,\"name\":\"NotificationAreaBase1\",\"overrides\":[],\"properties\":[{\"default\":\"bottom-right\",\"kind\":null,\"name\":\"position\"},{\"default\":0,\"kind\":null,\"name\":\"_clear\"}]},{\"extends\":null,\"module\":null,\"name\":\"NotificationArea1\",\"overrides\":[],\"properties\":[{\"default\":[],\"kind\":null,\"name\":\"notifications\"},{\"default\":\"bottom-right\",\"kind\":null,\"name\":\"position\"},{\"default\":0,\"kind\":null,\"name\":\"_clear\"},{\"default\":[{\"background\":\"#ffc107\",\"icon\":{\"className\":\"fas fa-exclamation-triangle\",\"color\":\"white\",\"tagName\":\"i\"},\"type\":\"warning\"},{\"background\":\"#007bff\",\"icon\":{\"className\":\"fas fa-info-circle\",\"color\":\"white\",\"tagName\":\"i\"},\"type\":\"info\"}],\"kind\":null,\"name\":\"types\"}]},{\"extends\":null,\"module\":null,\"name\":\"Notification\",\"overrides\":[],\"properties\":[{\"default\":null,\"kind\":null,\"name\":\"background\"},{\"default\":3000,\"kind\":null,\"name\":\"duration\"},{\"default\":null,\"kind\":null,\"name\":\"icon\"},{\"default\":\"\",\"kind\":null,\"name\":\"message\"},{\"default\":null,\"kind\":null,\"name\":\"notification_type\"},{\"default\":false,\"kind\":null,\"name\":\"_destroyed\"}]},{\"extends\":null,\"module\":null,\"name\":\"TemplateActions1\",\"overrides\":[],\"properties\":[{\"default\":0,\"kind\":null,\"name\":\"open_modal\"},{\"default\":0,\"kind\":null,\"name\":\"close_modal\"}]},{\"extends\":null,\"module\":null,\"name\":\"MaterialTemplateActions1\",\"overrides\":[],\"properties\":[{\"default\":0,\"kind\":null,\"name\":\"open_modal\"},{\"default\":0,\"kind\":null,\"name\":\"close_modal\"}]}],\"roots\":{\"references\":[{\"attributes\":{\"axis_label\":\"prediction\",\"coordinates\":null,\"formatter\":{\"id\":\"3063\"},\"group\":null,\"major_label_policy\":{\"id\":\"3064\"},\"ticker\":{\"id\":\"3033\"}},\"id\":\"3032\",\"type\":\"LinearAxis\"},{\"attributes\":{\"bottom_units\":\"screen\",\"coordinates\":null,\"fill_alpha\":0.5,\"fill_color\":\"lightgrey\",\"group\":null,\"left_units\":\"screen\",\"level\":\"overlay\",\"line_alpha\":1.0,\"line_color\":\"black\",\"line_dash\":[4,4],\"line_width\":2,\"right_units\":\"screen\",\"syncable\":false,\"top_units\":\"screen\"},\"id\":\"3045\",\"type\":\"BoxAnnotation\"},{\"attributes\":{},\"id\":\"3040\",\"type\":\"SaveTool\"},{\"attributes\":{\"fill_alpha\":{\"value\":0.2},\"fill_color\":{\"value\":\"#30a2da\"},\"hatch_alpha\":{\"value\":0.2},\"hatch_color\":{\"value\":\"#30a2da\"},\"line_alpha\":{\"value\":0.2},\"line_color\":{\"value\":\"#30a2da\"},\"size\":{\"value\":5.477225575051661},\"x\":{\"field\":\"prediction\"},\"y\":{\"field\":\"actual\"}},\"id\":\"3058\",\"type\":\"Scatter\"},{\"attributes\":{\"margin\":[5,5,5,5],\"name\":\"HSpacer02770\",\"sizing_mode\":\"stretch_width\"},\"id\":\"3078\",\"type\":\"Spacer\"},{\"attributes\":{\"end\":0.5310710769427773,\"reset_end\":0.5310710769427773,\"reset_start\":-0.6970590279881193,\"start\":-0.6970590279881193,\"tags\":[[[\"actual\",\"actual\",null]]]},\"id\":\"3021\",\"type\":\"Range1d\"},{\"attributes\":{\"below\":[{\"id\":\"3032\"}],\"center\":[{\"id\":\"3035\"},{\"id\":\"3039\"}],\"height\":300,\"left\":[{\"id\":\"3036\"}],\"margin\":[5,5,5,5],\"min_border_bottom\":10,\"min_border_left\":10,\"min_border_right\":10,\"min_border_top\":10,\"renderers\":[{\"id\":\"3059\"}],\"sizing_mode\":\"fixed\",\"title\":{\"id\":\"3024\"},\"toolbar\":{\"id\":\"3046\"},\"width\":700,\"x_range\":{\"id\":\"3020\"},\"x_scale\":{\"id\":\"3028\"},\"y_range\":{\"id\":\"3021\"},\"y_scale\":{\"id\":\"3030\"}},\"id\":\"3023\",\"subtype\":\"Figure\",\"type\":\"Plot\"},{\"attributes\":{},\"id\":\"3042\",\"type\":\"WheelZoomTool\"},{\"attributes\":{\"coordinates\":null,\"data_source\":{\"id\":\"3053\"},\"glyph\":{\"id\":\"3056\"},\"group\":null,\"hover_glyph\":null,\"muted_glyph\":{\"id\":\"3058\"},\"nonselection_glyph\":{\"id\":\"3057\"},\"selection_glyph\":{\"id\":\"3061\"},\"view\":{\"id\":\"3060\"}},\"id\":\"3059\",\"type\":\"GlyphRenderer\"},{\"attributes\":{},\"id\":\"3033\",\"type\":\"BasicTicker\"},{\"attributes\":{},\"id\":\"3028\",\"type\":\"LinearScale\"},{\"attributes\":{\"fill_color\":{\"value\":\"#30a2da\"},\"hatch_color\":{\"value\":\"#30a2da\"},\"line_color\":{\"value\":\"#30a2da\"},\"size\":{\"value\":5.477225575051661},\"x\":{\"field\":\"prediction\"},\"y\":{\"field\":\"actual\"}},\"id\":\"3056\",\"type\":\"Scatter\"},{\"attributes\":{\"source\":{\"id\":\"3053\"}},\"id\":\"3060\",\"type\":\"CDSView\"},{\"attributes\":{},\"id\":\"3041\",\"type\":\"PanTool\"},{\"attributes\":{},\"id\":\"3044\",\"type\":\"ResetTool\"},{\"attributes\":{\"axis\":{\"id\":\"3032\"},\"coordinates\":null,\"grid_line_color\":null,\"group\":null,\"ticker\":null},\"id\":\"3035\",\"type\":\"Grid\"},{\"attributes\":{\"overlay\":{\"id\":\"3045\"}},\"id\":\"3043\",\"type\":\"BoxZoomTool\"},{\"attributes\":{},\"id\":\"3075\",\"type\":\"UnionRenderers\"},{\"attributes\":{},\"id\":\"3037\",\"type\":\"BasicTicker\"},{\"attributes\":{\"angle\":{\"value\":0.0},\"fill_alpha\":{\"value\":1.0},\"fill_color\":{\"value\":\"#30a2da\"},\"hatch_alpha\":{\"value\":1.0},\"hatch_color\":{\"value\":\"#30a2da\"},\"hatch_scale\":{\"value\":12.0},\"hatch_weight\":{\"value\":1.0},\"line_alpha\":{\"value\":1.0},\"line_cap\":{\"value\":\"butt\"},\"line_color\":{\"value\":\"#30a2da\"},\"line_dash\":{\"value\":[]},\"line_dash_offset\":{\"value\":0},\"line_join\":{\"value\":\"bevel\"},\"line_width\":{\"value\":1},\"marker\":{\"value\":\"circle\"},\"size\":{\"value\":5.477225575051661},\"x\":{\"field\":\"prediction\"},\"y\":{\"field\":\"actual\"}},\"id\":\"3061\",\"type\":\"Scatter\"},{\"attributes\":{},\"id\":\"3063\",\"type\":\"BasicTickFormatter\"},{\"attributes\":{},\"id\":\"3030\",\"type\":\"LinearScale\"},{\"attributes\":{},\"id\":\"3054\",\"type\":\"Selection\"},{\"attributes\":{\"tools\":[{\"id\":\"3022\"},{\"id\":\"3040\"},{\"id\":\"3041\"},{\"id\":\"3042\"},{\"id\":\"3043\"},{\"id\":\"3044\"}]},\"id\":\"3046\",\"type\":\"Toolbar\"},{\"attributes\":{\"axis\":{\"id\":\"3036\"},\"coordinates\":null,\"dimension\":1,\"grid_line_color\":null,\"group\":null,\"ticker\":null},\"id\":\"3039\",\"type\":\"Grid\"},{\"attributes\":{\"children\":[{\"id\":\"3019\"},{\"id\":\"3023\"},{\"id\":\"3078\"}],\"margin\":[0,0,0,0],\"name\":\"Row02765\",\"tags\":[\"embedded\"]},\"id\":\"3018\",\"type\":\"Row\"},{\"attributes\":{\"callback\":null,\"renderers\":[{\"id\":\"3059\"}],\"tags\":[\"hv_created\"],\"tooltips\":[[\"prediction\",\"@{prediction}\"],[\"actual\",\"@{actual}\"]]},\"id\":\"3022\",\"type\":\"HoverTool\"},{\"attributes\":{},\"id\":\"3066\",\"type\":\"BasicTickFormatter\"},{\"attributes\":{\"data\":{\"actual\":{\"__ndarray__\":\"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\",\"dtype\":\"float64\",\"order\":\"little\",\"shape\":[302]},\"prediction\":{\"__ndarray__\":\"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\",\"dtype\":\"float64\",\"order\":\"little\",\"shape\":[302]}},\"selected\":{\"id\":\"3054\"},\"selection_policy\":{\"id\":\"3075\"}},\"id\":\"3053\",\"type\":\"ColumnDataSource\"},{\"attributes\":{\"end\":0.4457440562991422,\"reset_end\":0.4457440562991422,\"reset_start\":-0.40737172407276045,\"start\":-0.40737172407276045,\"tags\":[[[\"prediction\",\"prediction\",null]]]},\"id\":\"3020\",\"type\":\"Range1d\"},{\"attributes\":{\"margin\":[5,5,5,5],\"name\":\"HSpacer02769\",\"sizing_mode\":\"stretch_width\"},\"id\":\"3019\",\"type\":\"Spacer\"},{\"attributes\":{\"coordinates\":null,\"group\":null,\"text_color\":\"black\",\"text_font_size\":\"12pt\"},\"id\":\"3024\",\"type\":\"Title\"},{\"attributes\":{},\"id\":\"3064\",\"type\":\"AllLabels\"},{\"attributes\":{\"axis_label\":\"actual\",\"coordinates\":null,\"formatter\":{\"id\":\"3066\"},\"group\":null,\"major_label_policy\":{\"id\":\"3067\"},\"ticker\":{\"id\":\"3037\"}},\"id\":\"3036\",\"type\":\"LinearAxis\"},{\"attributes\":{},\"id\":\"3067\",\"type\":\"AllLabels\"},{\"attributes\":{\"fill_alpha\":{\"value\":0.1},\"fill_color\":{\"value\":\"#30a2da\"},\"hatch_alpha\":{\"value\":0.1},\"hatch_color\":{\"value\":\"#30a2da\"},\"line_alpha\":{\"value\":0.1},\"line_color\":{\"value\":\"#30a2da\"},\"size\":{\"value\":5.477225575051661},\"x\":{\"field\":\"prediction\"},\"y\":{\"field\":\"actual\"}},\"id\":\"3057\",\"type\":\"Scatter\"}],\"root_ids\":[\"3018\"]},\"title\":\"Bokeh Application\",\"version\":\"2.4.3\"}};\n",
       "    var render_items = [{\"docid\":\"ecc134e7-dd2a-441a-954c-8f10f7a83767\",\"root_ids\":[\"3018\"],\"roots\":{\"3018\":\"f1ba77b2-d234-460a-b272-3bd7184fc6e5\"}}];\n",
       "    root.Bokeh.embed.embed_items_notebook(docs_json, render_items);\n",
       "    for (const render_item of render_items) {\n",
       "      for (const root_id of render_item.root_ids) {\n",
       "\tconst id_el = document.getElementById(root_id)\n",
       "\tif (id_el.children.length && (id_el.children[0].className === 'bk-root')) {\n",
       "\t  const root_el = id_el.children[0]\n",
       "\t  root_el.id = root_el.id + '-rendered'\n",
       "\t}\n",
       "      }\n",
       "    }\n",
       "  }\n",
       "  if (root.Bokeh !== undefined && root.Bokeh.Panel !== undefined) {\n",
       "    embed_document(root);\n",
       "  } else {\n",
       "    var attempts = 0;\n",
       "    var timer = setInterval(function(root) {\n",
       "      if (root.Bokeh !== undefined && root.Bokeh.Panel !== undefined) {\n",
       "        clearInterval(timer);\n",
       "        embed_document(root);\n",
       "      } else if (document.readyState == \"complete\") {\n",
       "        attempts++;\n",
       "        if (attempts > 200) {\n",
       "          clearInterval(timer);\n",
       "          console.log(\"Bokeh: ERROR: Unable to run BokehJS code because BokehJS library is missing\");\n",
       "        }\n",
       "      }\n",
       "    }, 25, root)\n",
       "  }\n",
       "})(window);</script>"
      ],
      "text/plain": [
       ":Scatter   [prediction]   (actual)"
      ]
     },
     "execution_count": 273,
     "metadata": {
      "application/vnd.holoviews_exec.v0+json": {
       "id": "3018"
      }
     },
     "output_type": "execute_result"
    }
   ],
   "source": [
    "#Collate to DataFrame\n",
    "OOS2 = pd.DataFrame(y_pred1, index = y_test.index, columns = ['prediction'])\n",
    "\n",
    "# Add The 12M Return\n",
    "OOS2['actual'] = y_test\n",
    "OOS2.hvplot(kind=\"scatter\", x = 'prediction', y='actual')"
   ]
  },
  {
   "cell_type": "code",
   "execution_count": 274,
   "id": "d1621d4c-eb7f-4fa2-9c20-4d8445dd3fb3",
   "metadata": {},
   "outputs": [
    {
     "data": {
      "text/plain": [
       "(0.13994831282647338, 0.019585530262976453)"
      ]
     },
     "execution_count": 274,
     "metadata": {},
     "output_type": "execute_result"
    }
   ],
   "source": [
    "oos_r2_grad_boost = calculate_correlation(OOS2, 'actual', 'prediction')\n",
    "oos_r2_grad_boost"
   ]
  },
  {
   "cell_type": "markdown",
   "id": "70fecf07-535f-4a6c-afab-c5ba1e7a820b",
   "metadata": {},
   "source": [
    "<br>"
   ]
  },
  {
   "cell_type": "markdown",
   "id": "fc273f0a-63a2-4d3b-becc-b315d23d23d8",
   "metadata": {},
   "source": [
    "<span style=\"color:blue\">XGBoost:</span>"
   ]
  },
  {
   "cell_type": "code",
   "execution_count": 275,
   "id": "70ed8b30-8367-46c4-be68-93fb2235e89c",
   "metadata": {},
   "outputs": [
    {
     "name": "stdout",
     "output_type": "stream",
     "text": [
      "[13:46:49] WARNING: /Users/runner/work/xgboost/xgboost/python-package/build/temp.macosx-10.9-x86_64-cpython-37/xgboost/src/learner.cc:627: \n",
      "Parameters: { \"min_samples_split\" } might not be used.\n",
      "\n",
      "  This could be a false alarm, with some parameters getting used by language bindings but\n",
      "  then being mistakenly passed down to XGBoost core, or some parameter actually being used\n",
      "  but getting flagged wrongly here. Please open an issue if you find any such cases.\n",
      "\n",
      "\n"
     ]
    }
   ],
   "source": [
    "xg_reg = xgb.XGBRegressor(objective ='reg:squarederror', n_estimators=100, learning_rate=0.1, max_depth=10, min_samples_split = 50).fit(X_train, y_train)\n",
    "\n",
    "preds = xg_reg.predict(X_test)"
   ]
  },
  {
   "cell_type": "code",
   "execution_count": 276,
   "id": "909fe915",
   "metadata": {},
   "outputs": [
    {
     "data": {
      "text/plain": [
       "(0.06982497379768694, 0.004875526965847668)"
      ]
     },
     "execution_count": 276,
     "metadata": {},
     "output_type": "execute_result"
    }
   ],
   "source": [
    "#Collate to DataFrame\n",
    "OOS5 = pd.DataFrame(preds, index = y_test.index, columns = ['prediction'])\n",
    "\n",
    "# Add The 12M Return\n",
    "OOS5['actual'] = y_test\n",
    "\n",
    "oos_r2_xgboost = calculate_correlation(OOS5, 'actual', 'prediction')\n",
    "oos_r2_xgboost"
   ]
  },
  {
   "cell_type": "code",
   "execution_count": 277,
   "id": "38305754-7bab-4338-9450-c4bf45571ec5",
   "metadata": {},
   "outputs": [
    {
     "name": "stdout",
     "output_type": "stream",
     "text": [
      "Mean Squared Error: 0.03817497199497399\n"
     ]
    }
   ],
   "source": [
    "mse2 = mean_squared_error(y_test, preds)\n",
    "print('Mean Squared Error:', mse2)"
   ]
  },
  {
   "cell_type": "code",
   "execution_count": 278,
   "id": "8ec9cb62-b7e6-4992-a176-3bc8a67ac8af",
   "metadata": {},
   "outputs": [
    {
     "data": {
      "text/html": [
       "<div>\n",
       "<style scoped>\n",
       "    .dataframe tbody tr th:only-of-type {\n",
       "        vertical-align: middle;\n",
       "    }\n",
       "\n",
       "    .dataframe tbody tr th {\n",
       "        vertical-align: top;\n",
       "    }\n",
       "\n",
       "    .dataframe thead th {\n",
       "        text-align: right;\n",
       "    }\n",
       "</style>\n",
       "<table border=\"1\" class=\"dataframe\">\n",
       "  <thead>\n",
       "    <tr style=\"text-align: right;\">\n",
       "      <th></th>\n",
       "      <th>xg_boost</th>\n",
       "      <th>dec_tree</th>\n",
       "      <th>grad_boost</th>\n",
       "      <th>Ridge</th>\n",
       "      <th>OLS</th>\n",
       "      <th>actual</th>\n",
       "      <th>split_OLS_grad_boost</th>\n",
       "    </tr>\n",
       "    <tr>\n",
       "      <th>yyyymm</th>\n",
       "      <th></th>\n",
       "      <th></th>\n",
       "      <th></th>\n",
       "      <th></th>\n",
       "      <th></th>\n",
       "      <th></th>\n",
       "      <th></th>\n",
       "    </tr>\n",
       "  </thead>\n",
       "  <tbody>\n",
       "    <tr>\n",
       "      <th>1995-11-01</th>\n",
       "      <td>-0.089997</td>\n",
       "      <td>-0.076932</td>\n",
       "      <td>-0.032783</td>\n",
       "      <td>0.025654</td>\n",
       "      <td>0.025246</td>\n",
       "      <td>0.219350</td>\n",
       "      <td>-0.003769</td>\n",
       "    </tr>\n",
       "    <tr>\n",
       "      <th>1995-12-01</th>\n",
       "      <td>-0.032492</td>\n",
       "      <td>-0.076932</td>\n",
       "      <td>0.077829</td>\n",
       "      <td>0.025215</td>\n",
       "      <td>0.024789</td>\n",
       "      <td>0.179616</td>\n",
       "      <td>0.051309</td>\n",
       "    </tr>\n",
       "    <tr>\n",
       "      <th>1996-01-01</th>\n",
       "      <td>-0.093226</td>\n",
       "      <td>-0.076932</td>\n",
       "      <td>-0.040422</td>\n",
       "      <td>0.024375</td>\n",
       "      <td>0.023922</td>\n",
       "      <td>0.207630</td>\n",
       "      <td>-0.008250</td>\n",
       "    </tr>\n",
       "    <tr>\n",
       "      <th>1996-02-01</th>\n",
       "      <td>0.173557</td>\n",
       "      <td>0.079441</td>\n",
       "      <td>0.114162</td>\n",
       "      <td>0.030928</td>\n",
       "      <td>0.030523</td>\n",
       "      <td>0.207031</td>\n",
       "      <td>0.072342</td>\n",
       "    </tr>\n",
       "    <tr>\n",
       "      <th>1996-03-01</th>\n",
       "      <td>0.041209</td>\n",
       "      <td>0.079441</td>\n",
       "      <td>0.158144</td>\n",
       "      <td>0.034212</td>\n",
       "      <td>0.033851</td>\n",
       "      <td>0.155597</td>\n",
       "      <td>0.095997</td>\n",
       "    </tr>\n",
       "  </tbody>\n",
       "</table>\n",
       "</div>"
      ],
      "text/plain": [
       "            xg_boost  dec_tree  grad_boost     Ridge       OLS    actual  \\\n",
       "yyyymm                                                                     \n",
       "1995-11-01 -0.089997 -0.076932   -0.032783  0.025654  0.025246  0.219350   \n",
       "1995-12-01 -0.032492 -0.076932    0.077829  0.025215  0.024789  0.179616   \n",
       "1996-01-01 -0.093226 -0.076932   -0.040422  0.024375  0.023922  0.207630   \n",
       "1996-02-01  0.173557  0.079441    0.114162  0.030928  0.030523  0.207031   \n",
       "1996-03-01  0.041209  0.079441    0.158144  0.034212  0.033851  0.155597   \n",
       "\n",
       "            split_OLS_grad_boost  \n",
       "yyyymm                            \n",
       "1995-11-01             -0.003769  \n",
       "1995-12-01              0.051309  \n",
       "1996-01-01             -0.008250  \n",
       "1996-02-01              0.072342  \n",
       "1996-03-01              0.095997  "
      ]
     },
     "execution_count": 278,
     "metadata": {},
     "output_type": "execute_result"
    }
   ],
   "source": [
    "results = pd.DataFrame({'xg_boost':preds, 'dec_tree': y_pred, 'grad_boost': y_pred1, 'Ridge': ridge_pred, 'OLS': linear_prediction, 'actual':y_test}, index = y_test.index)\n",
    "results['split_OLS_grad_boost'] = (results['grad_boost'] + results['OLS'] ) / 2\n",
    "results.head()"
   ]
  },
  {
   "cell_type": "code",
   "execution_count": 279,
   "id": "ef43f7eb-82da-4c91-8f90-c316bf9816cb",
   "metadata": {},
   "outputs": [
    {
     "data": {},
     "metadata": {},
     "output_type": "display_data"
    },
    {
     "data": {
      "application/vnd.holoviews_exec.v0+json": "",
      "text/html": [
       "<div id='3130'>\n",
       "  <div class=\"bk-root\" id=\"6d064aca-66ea-4141-a3ea-0b9a49e4ca8e\" data-root-id=\"3130\"></div>\n",
       "</div>\n",
       "<script type=\"application/javascript\">(function(root) {\n",
       "  function embed_document(root) {\n",
       "    var docs_json = {\"b695ab5a-11a9-4b97-9997-8125866c438d\":{\"defs\":[{\"extends\":null,\"module\":null,\"name\":\"ReactiveHTML1\",\"overrides\":[],\"properties\":[]},{\"extends\":null,\"module\":null,\"name\":\"FlexBox1\",\"overrides\":[],\"properties\":[{\"default\":\"flex-start\",\"kind\":null,\"name\":\"align_content\"},{\"default\":\"flex-start\",\"kind\":null,\"name\":\"align_items\"},{\"default\":\"row\",\"kind\":null,\"name\":\"flex_direction\"},{\"default\":\"wrap\",\"kind\":null,\"name\":\"flex_wrap\"},{\"default\":\"flex-start\",\"kind\":null,\"name\":\"justify_content\"}]},{\"extends\":null,\"module\":null,\"name\":\"GridStack1\",\"overrides\":[],\"properties\":[{\"default\":\"warn\",\"kind\":null,\"name\":\"mode\"},{\"default\":null,\"kind\":null,\"name\":\"ncols\"},{\"default\":null,\"kind\":null,\"name\":\"nrows\"},{\"default\":true,\"kind\":null,\"name\":\"allow_resize\"},{\"default\":true,\"kind\":null,\"name\":\"allow_drag\"},{\"default\":[],\"kind\":null,\"name\":\"state\"}]},{\"extends\":null,\"module\":null,\"name\":\"click1\",\"overrides\":[],\"properties\":[{\"default\":\"\",\"kind\":null,\"name\":\"terminal_output\"},{\"default\":\"\",\"kind\":null,\"name\":\"debug_name\"},{\"default\":0,\"kind\":null,\"name\":\"clears\"}]},{\"extends\":null,\"module\":null,\"name\":\"NotificationAreaBase1\",\"overrides\":[],\"properties\":[{\"default\":\"bottom-right\",\"kind\":null,\"name\":\"position\"},{\"default\":0,\"kind\":null,\"name\":\"_clear\"}]},{\"extends\":null,\"module\":null,\"name\":\"NotificationArea1\",\"overrides\":[],\"properties\":[{\"default\":[],\"kind\":null,\"name\":\"notifications\"},{\"default\":\"bottom-right\",\"kind\":null,\"name\":\"position\"},{\"default\":0,\"kind\":null,\"name\":\"_clear\"},{\"default\":[{\"background\":\"#ffc107\",\"icon\":{\"className\":\"fas fa-exclamation-triangle\",\"color\":\"white\",\"tagName\":\"i\"},\"type\":\"warning\"},{\"background\":\"#007bff\",\"icon\":{\"className\":\"fas fa-info-circle\",\"color\":\"white\",\"tagName\":\"i\"},\"type\":\"info\"}],\"kind\":null,\"name\":\"types\"}]},{\"extends\":null,\"module\":null,\"name\":\"Notification\",\"overrides\":[],\"properties\":[{\"default\":null,\"kind\":null,\"name\":\"background\"},{\"default\":3000,\"kind\":null,\"name\":\"duration\"},{\"default\":null,\"kind\":null,\"name\":\"icon\"},{\"default\":\"\",\"kind\":null,\"name\":\"message\"},{\"default\":null,\"kind\":null,\"name\":\"notification_type\"},{\"default\":false,\"kind\":null,\"name\":\"_destroyed\"}]},{\"extends\":null,\"module\":null,\"name\":\"TemplateActions1\",\"overrides\":[],\"properties\":[{\"default\":0,\"kind\":null,\"name\":\"open_modal\"},{\"default\":0,\"kind\":null,\"name\":\"close_modal\"}]},{\"extends\":null,\"module\":null,\"name\":\"MaterialTemplateActions1\",\"overrides\":[],\"properties\":[{\"default\":0,\"kind\":null,\"name\":\"open_modal\"},{\"default\":0,\"kind\":null,\"name\":\"close_modal\"}]}],\"roots\":{\"references\":[{\"attributes\":{\"coordinates\":null,\"group\":null,\"text_color\":\"black\",\"text_font_size\":\"12pt\"},\"id\":\"3136\",\"type\":\"Title\"},{\"attributes\":{},\"id\":\"3156\",\"type\":\"ResetTool\"},{\"attributes\":{\"bottom_units\":\"screen\",\"coordinates\":null,\"fill_alpha\":0.5,\"fill_color\":\"lightgrey\",\"group\":null,\"left_units\":\"screen\",\"level\":\"overlay\",\"line_alpha\":1.0,\"line_color\":\"black\",\"line_dash\":[4,4],\"line_width\":2,\"right_units\":\"screen\",\"syncable\":false,\"top_units\":\"screen\"},\"id\":\"3157\",\"type\":\"BoxAnnotation\"},{\"attributes\":{\"axis_label\":\"grad_boost\",\"coordinates\":null,\"formatter\":{\"id\":\"3175\"},\"group\":null,\"major_label_policy\":{\"id\":\"3176\"},\"ticker\":{\"id\":\"3145\"}},\"id\":\"3144\",\"type\":\"LinearAxis\"},{\"attributes\":{\"data\":{\"actual\":{\"__ndarray__\":\"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\",\"dtype\":\"float64\",\"order\":\"little\",\"shape\":[302]},\"grad_boost\":{\"__ndarray__\":\"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\",\"dtype\":\"float64\",\"order\":\"little\",\"shape\":[302]}},\"selected\":{\"id\":\"3166\"},\"selection_policy\":{\"id\":\"3187\"}},\"id\":\"3165\",\"type\":\"ColumnDataSource\"},{\"attributes\":{\"axis\":{\"id\":\"3148\"},\"coordinates\":null,\"dimension\":1,\"grid_line_color\":null,\"group\":null,\"ticker\":null},\"id\":\"3151\",\"type\":\"Grid\"},{\"attributes\":{},\"id\":\"3145\",\"type\":\"BasicTicker\"},{\"attributes\":{\"end\":0.4457440562991422,\"reset_end\":0.4457440562991422,\"reset_start\":-0.40737172407276045,\"start\":-0.40737172407276045,\"tags\":[[[\"grad_boost\",\"grad_boost\",null]]]},\"id\":\"3132\",\"type\":\"Range1d\"},{\"attributes\":{},\"id\":\"3179\",\"type\":\"AllLabels\"},{\"attributes\":{\"axis\":{\"id\":\"3144\"},\"coordinates\":null,\"grid_line_color\":null,\"group\":null,\"ticker\":null},\"id\":\"3147\",\"type\":\"Grid\"},{\"attributes\":{},\"id\":\"3142\",\"type\":\"LinearScale\"},{\"attributes\":{\"angle\":{\"value\":0.0},\"fill_alpha\":{\"value\":1.0},\"fill_color\":{\"value\":\"#30a2da\"},\"hatch_alpha\":{\"value\":1.0},\"hatch_color\":{\"value\":\"#30a2da\"},\"hatch_scale\":{\"value\":12.0},\"hatch_weight\":{\"value\":1.0},\"line_alpha\":{\"value\":1.0},\"line_cap\":{\"value\":\"butt\"},\"line_color\":{\"value\":\"#30a2da\"},\"line_dash\":{\"value\":[]},\"line_dash_offset\":{\"value\":0},\"line_join\":{\"value\":\"bevel\"},\"line_width\":{\"value\":1},\"marker\":{\"value\":\"circle\"},\"size\":{\"value\":5.477225575051661},\"x\":{\"field\":\"grad_boost\"},\"y\":{\"field\":\"actual\"}},\"id\":\"3173\",\"type\":\"Scatter\"},{\"attributes\":{},\"id\":\"3149\",\"type\":\"BasicTicker\"},{\"attributes\":{\"axis_label\":\"actual\",\"coordinates\":null,\"formatter\":{\"id\":\"3178\"},\"group\":null,\"major_label_policy\":{\"id\":\"3179\"},\"ticker\":{\"id\":\"3149\"}},\"id\":\"3148\",\"type\":\"LinearAxis\"},{\"attributes\":{\"end\":0.5310710769427773,\"reset_end\":0.5310710769427773,\"reset_start\":-0.6970590279881193,\"start\":-0.6970590279881193,\"tags\":[[[\"actual\",\"actual\",null]]]},\"id\":\"3133\",\"type\":\"Range1d\"},{\"attributes\":{},\"id\":\"3187\",\"type\":\"UnionRenderers\"},{\"attributes\":{},\"id\":\"3178\",\"type\":\"BasicTickFormatter\"},{\"attributes\":{\"fill_color\":{\"value\":\"#30a2da\"},\"hatch_color\":{\"value\":\"#30a2da\"},\"line_color\":{\"value\":\"#30a2da\"},\"size\":{\"value\":5.477225575051661},\"x\":{\"field\":\"grad_boost\"},\"y\":{\"field\":\"actual\"}},\"id\":\"3168\",\"type\":\"Scatter\"},{\"attributes\":{\"fill_alpha\":{\"value\":0.2},\"fill_color\":{\"value\":\"#30a2da\"},\"hatch_alpha\":{\"value\":0.2},\"hatch_color\":{\"value\":\"#30a2da\"},\"line_alpha\":{\"value\":0.2},\"line_color\":{\"value\":\"#30a2da\"},\"size\":{\"value\":5.477225575051661},\"x\":{\"field\":\"grad_boost\"},\"y\":{\"field\":\"actual\"}},\"id\":\"3170\",\"type\":\"Scatter\"},{\"attributes\":{\"fill_alpha\":{\"value\":0.1},\"fill_color\":{\"value\":\"#30a2da\"},\"hatch_alpha\":{\"value\":0.1},\"hatch_color\":{\"value\":\"#30a2da\"},\"line_alpha\":{\"value\":0.1},\"line_color\":{\"value\":\"#30a2da\"},\"size\":{\"value\":5.477225575051661},\"x\":{\"field\":\"grad_boost\"},\"y\":{\"field\":\"actual\"}},\"id\":\"3169\",\"type\":\"Scatter\"},{\"attributes\":{\"children\":[{\"id\":\"3131\"},{\"id\":\"3135\"},{\"id\":\"3190\"}],\"margin\":[0,0,0,0],\"name\":\"Row02875\",\"tags\":[\"embedded\"]},\"id\":\"3130\",\"type\":\"Row\"},{\"attributes\":{},\"id\":\"3176\",\"type\":\"AllLabels\"},{\"attributes\":{\"callback\":null,\"renderers\":[{\"id\":\"3171\"}],\"tags\":[\"hv_created\"],\"tooltips\":[[\"grad_boost\",\"@{grad_boost}\"],[\"actual\",\"@{actual}\"]]},\"id\":\"3134\",\"type\":\"HoverTool\"},{\"attributes\":{\"source\":{\"id\":\"3165\"}},\"id\":\"3172\",\"type\":\"CDSView\"},{\"attributes\":{},\"id\":\"3152\",\"type\":\"SaveTool\"},{\"attributes\":{},\"id\":\"3166\",\"type\":\"Selection\"},{\"attributes\":{},\"id\":\"3153\",\"type\":\"PanTool\"},{\"attributes\":{},\"id\":\"3175\",\"type\":\"BasicTickFormatter\"},{\"attributes\":{\"below\":[{\"id\":\"3144\"}],\"center\":[{\"id\":\"3147\"},{\"id\":\"3151\"}],\"height\":300,\"left\":[{\"id\":\"3148\"}],\"margin\":[5,5,5,5],\"min_border_bottom\":10,\"min_border_left\":10,\"min_border_right\":10,\"min_border_top\":10,\"renderers\":[{\"id\":\"3171\"}],\"sizing_mode\":\"fixed\",\"title\":{\"id\":\"3136\"},\"toolbar\":{\"id\":\"3158\"},\"width\":700,\"x_range\":{\"id\":\"3132\"},\"x_scale\":{\"id\":\"3140\"},\"y_range\":{\"id\":\"3133\"},\"y_scale\":{\"id\":\"3142\"}},\"id\":\"3135\",\"subtype\":\"Figure\",\"type\":\"Plot\"},{\"attributes\":{},\"id\":\"3154\",\"type\":\"WheelZoomTool\"},{\"attributes\":{\"tools\":[{\"id\":\"3134\"},{\"id\":\"3152\"},{\"id\":\"3153\"},{\"id\":\"3154\"},{\"id\":\"3155\"},{\"id\":\"3156\"}]},\"id\":\"3158\",\"type\":\"Toolbar\"},{\"attributes\":{\"margin\":[5,5,5,5],\"name\":\"HSpacer02880\",\"sizing_mode\":\"stretch_width\"},\"id\":\"3190\",\"type\":\"Spacer\"},{\"attributes\":{\"margin\":[5,5,5,5],\"name\":\"HSpacer02879\",\"sizing_mode\":\"stretch_width\"},\"id\":\"3131\",\"type\":\"Spacer\"},{\"attributes\":{\"overlay\":{\"id\":\"3157\"}},\"id\":\"3155\",\"type\":\"BoxZoomTool\"},{\"attributes\":{},\"id\":\"3140\",\"type\":\"LinearScale\"},{\"attributes\":{\"coordinates\":null,\"data_source\":{\"id\":\"3165\"},\"glyph\":{\"id\":\"3168\"},\"group\":null,\"hover_glyph\":null,\"muted_glyph\":{\"id\":\"3170\"},\"nonselection_glyph\":{\"id\":\"3169\"},\"selection_glyph\":{\"id\":\"3173\"},\"view\":{\"id\":\"3172\"}},\"id\":\"3171\",\"type\":\"GlyphRenderer\"}],\"root_ids\":[\"3130\"]},\"title\":\"Bokeh Application\",\"version\":\"2.4.3\"}};\n",
       "    var render_items = [{\"docid\":\"b695ab5a-11a9-4b97-9997-8125866c438d\",\"root_ids\":[\"3130\"],\"roots\":{\"3130\":\"6d064aca-66ea-4141-a3ea-0b9a49e4ca8e\"}}];\n",
       "    root.Bokeh.embed.embed_items_notebook(docs_json, render_items);\n",
       "    for (const render_item of render_items) {\n",
       "      for (const root_id of render_item.root_ids) {\n",
       "\tconst id_el = document.getElementById(root_id)\n",
       "\tif (id_el.children.length && (id_el.children[0].className === 'bk-root')) {\n",
       "\t  const root_el = id_el.children[0]\n",
       "\t  root_el.id = root_el.id + '-rendered'\n",
       "\t}\n",
       "      }\n",
       "    }\n",
       "  }\n",
       "  if (root.Bokeh !== undefined && root.Bokeh.Panel !== undefined) {\n",
       "    embed_document(root);\n",
       "  } else {\n",
       "    var attempts = 0;\n",
       "    var timer = setInterval(function(root) {\n",
       "      if (root.Bokeh !== undefined && root.Bokeh.Panel !== undefined) {\n",
       "        clearInterval(timer);\n",
       "        embed_document(root);\n",
       "      } else if (document.readyState == \"complete\") {\n",
       "        attempts++;\n",
       "        if (attempts > 200) {\n",
       "          clearInterval(timer);\n",
       "          console.log(\"Bokeh: ERROR: Unable to run BokehJS code because BokehJS library is missing\");\n",
       "        }\n",
       "      }\n",
       "    }, 25, root)\n",
       "  }\n",
       "})(window);</script>"
      ],
      "text/plain": [
       ":Scatter   [grad_boost]   (actual)"
      ]
     },
     "execution_count": 279,
     "metadata": {
      "application/vnd.holoviews_exec.v0+json": {
       "id": "3130"
      }
     },
     "output_type": "execute_result"
    }
   ],
   "source": [
    "results.hvplot(kind=\"scatter\", y='actual', x='grad_boost')"
   ]
  },
  {
   "cell_type": "code",
   "execution_count": 280,
   "id": "706afa5b",
   "metadata": {},
   "outputs": [
    {
     "data": {
      "text/html": [
       "<div>\n",
       "<style scoped>\n",
       "    .dataframe tbody tr th:only-of-type {\n",
       "        vertical-align: middle;\n",
       "    }\n",
       "\n",
       "    .dataframe tbody tr th {\n",
       "        vertical-align: top;\n",
       "    }\n",
       "\n",
       "    .dataframe thead th {\n",
       "        text-align: right;\n",
       "    }\n",
       "</style>\n",
       "<table border=\"1\" class=\"dataframe\">\n",
       "  <thead>\n",
       "    <tr style=\"text-align: right;\">\n",
       "      <th></th>\n",
       "      <th>OOS_R2</th>\n",
       "      <th>OOS_MSE</th>\n",
       "    </tr>\n",
       "  </thead>\n",
       "  <tbody>\n",
       "    <tr>\n",
       "      <th>OLS</th>\n",
       "      <td>0.096457</td>\n",
       "      <td>3.022837</td>\n",
       "    </tr>\n",
       "    <tr>\n",
       "      <th>RIDGE</th>\n",
       "      <td>0.07749</td>\n",
       "      <td>3.018866</td>\n",
       "    </tr>\n",
       "    <tr>\n",
       "      <th>GRAD_BOOST</th>\n",
       "      <td>1.958553</td>\n",
       "      <td>3.774208</td>\n",
       "    </tr>\n",
       "    <tr>\n",
       "      <th>XGBOOST</th>\n",
       "      <td>0.487553</td>\n",
       "      <td>3.817497</td>\n",
       "    </tr>\n",
       "    <tr>\n",
       "      <th>DECISION_TREE</th>\n",
       "      <td>NA</td>\n",
       "      <td>3.879232</td>\n",
       "    </tr>\n",
       "  </tbody>\n",
       "</table>\n",
       "</div>"
      ],
      "text/plain": [
       "                 OOS_R2   OOS_MSE\n",
       "OLS            0.096457  3.022837\n",
       "RIDGE           0.07749  3.018866\n",
       "GRAD_BOOST     1.958553  3.774208\n",
       "XGBOOST        0.487553  3.817497\n",
       "DECISION_TREE        NA  3.879232"
      ]
     },
     "execution_count": 280,
     "metadata": {},
     "output_type": "execute_result"
    }
   ],
   "source": [
    "o_o_s = pd.DataFrame({'OOS_R2': [oos_r2[1], oos_r2_[1], oos_r2_grad_boost[1], oos_r2_xgboost[1], 'NA'], 'OOS_MSE': [oos_mse, oos_mse1, mse_GB, mse2, mse_DT]}, index = ['OLS', 'RIDGE', 'GRAD_BOOST', 'XGBOOST', 'DECISION_TREE'])\n",
    "o_o_s = o_o_s*100\n",
    "\n",
    "o_o_s.iloc[4,0] = 'NA'\n",
    "\n",
    "\n",
    "o_o_s"
   ]
  },
  {
   "cell_type": "code",
   "execution_count": 281,
   "id": "44ca8da9-3c3b-480e-a70b-207ef5abad51",
   "metadata": {},
   "outputs": [
    {
     "data": {
      "text/plain": [
       "(-0.031057450147423667, 0.0009645652096597064)"
      ]
     },
     "execution_count": 281,
     "metadata": {},
     "output_type": "execute_result"
    }
   ],
   "source": [
    "final1 = calculate_correlation(results, 'actual','OLS')\n",
    "final1"
   ]
  },
  {
   "cell_type": "code",
   "execution_count": 195,
   "id": "051cedd8-abf0-4808-8614-f6f1c7f20aff",
   "metadata": {},
   "outputs": [
    {
     "data": {
      "text/plain": [
       "(0.14584781254251827, 0.021271584423437552)"
      ]
     },
     "execution_count": 195,
     "metadata": {},
     "output_type": "execute_result"
    }
   ],
   "source": [
    "final2 = calculate_correlation(results, 'actual','split_OLS_grad_boost')\n",
    "final2"
   ]
  },
  {
   "cell_type": "code",
   "execution_count": 196,
   "id": "6a8ad603-244b-4b9e-adc6-eac0d56f0361",
   "metadata": {},
   "outputs": [
    {
     "data": {
      "text/plain": [
       "(0.14727239742931747, 0.021689159044578833)"
      ]
     },
     "execution_count": 196,
     "metadata": {},
     "output_type": "execute_result"
    }
   ],
   "source": [
    "final3 = calculate_correlation(results, 'actual','grad_boost')\n",
    "final3"
   ]
  },
  {
   "cell_type": "markdown",
   "id": "df60db99",
   "metadata": {},
   "source": [
    "<br>"
   ]
  },
  {
   "attachments": {},
   "cell_type": "markdown",
   "id": "37a15b49",
   "metadata": {},
   "source": [
    "# Shrink Across other equity_country_indices"
   ]
  },
  {
   "attachments": {},
   "cell_type": "markdown",
   "id": "a00c7a40",
   "metadata": {},
   "source": [
    "### Clean data into proper length's and define:"
   ]
  },
  {
   "cell_type": "code",
   "execution_count": 364,
   "id": "a91acc4d",
   "metadata": {},
   "outputs": [],
   "source": [
    "dataframe = pd.read_csv('equity_country_indices.csv', index_col = 0)\n",
    "\n",
    "data_dict = {\n",
    "    'y_dict' : {},\n",
    "    'val_dict' : {},\n",
    "    'mom_dict' : {}\n",
    "}\n",
    "\n",
    "for i in dataframe.columns:\n",
    "    \n",
    "    data_dict['y_dict'][i] = (np.log(dataframe[i].shift(-12) / dataframe[i])) #12_M forward\n",
    "\n",
    "    data_dict['val_dict'][i] = (dataframe[i].pct_change(periods = 60)) # VAL\n",
    "\n",
    "    data_dict['mom_dict'][i] = (dataframe[i].pct_change(periods = 12)) # MOM\n",
    "\n",
    "# Set as DF's\n",
    "y_df = pd.DataFrame(data_dict['y_dict']).dropna(axis=0)\n",
    "val_df = pd.DataFrame(data_dict['val_dict']).dropna(axis=0)\n",
    "mom_df = pd.DataFrame(data_dict['mom_dict']).dropna(axis=0)\n",
    "\n",
    "# Align Dates (full sample)\n",
    "mom_df = mom_df.loc['1/01/1965':'1/12/2020']\n",
    "y_df = y_df.loc['1/01/1965':]\n",
    "val_df = val_df.loc[:'1/12/2020']"
   ]
  },
  {
   "cell_type": "code",
   "execution_count": 369,
   "id": "0c380185",
   "metadata": {},
   "outputs": [],
   "source": [
    "# SET THE INSAMPLE PERIOD THROUGH THE LOC:\n",
    "insample_y, insample_val, insample_mom = [df.loc['1/01/1965':'1/12/2003'] for df in [y_df, val_df, mom_df]]"
   ]
  },
  {
   "attachments": {},
   "cell_type": "markdown",
   "id": "154387d0",
   "metadata": {},
   "source": [
    "### Closed_Form_OLS Function:"
   ]
  },
  {
   "cell_type": "code",
   "execution_count": 370,
   "id": "4d7aa65f",
   "metadata": {},
   "outputs": [],
   "source": [
    "def closed_form_OLS(y_df, x1_df, x2_df):\n",
    "    reg_results = pd.DataFrame(columns=['country', 'intercept', 'Valuation_beta', 'Momentum_beta'])\n",
    "\n",
    "    # perform the regression by looping over each country\n",
    "    for country in y_df.columns:\n",
    "\n",
    "        #Slicing data for current country\n",
    "        y = y_df[country]\n",
    "        x1 = x1_df[country]\n",
    "        x2 = x2_df[country]\n",
    "\n",
    "        #Create a design Matrix X & insert '1s' in a column:\n",
    "        X_matrix = np.column_stack((np.ones(len(x1)), x1, x2)) # inserting the looped country values \n",
    "\n",
    "        #Caclulate the regression coefficients through the closed form solution:\n",
    "        beta_hat = np.linalg.inv(X_matrix.T @ X_matrix) @ X_matrix.T @ y\n",
    "\n",
    "\n",
    "        # append the results to the output dataframe\n",
    "        reg_results = reg_results.append({\n",
    "            'country': country,\n",
    "            'intercept': beta_hat[0],\n",
    "            'Valuation_beta': beta_hat[1],\n",
    "            'Momentum_beta': beta_hat[2]\n",
    "        }, ignore_index=True)\n",
    "\n",
    "    return reg_results"
   ]
  },
  {
   "attachments": {},
   "cell_type": "markdown",
   "id": "d5115c81",
   "metadata": {},
   "source": [
    "Using the function on our in-sample-data:"
   ]
  },
  {
   "cell_type": "code",
   "execution_count": 371,
   "id": "bd72e18c",
   "metadata": {},
   "outputs": [
    {
     "data": {
      "text/html": [
       "<div>\n",
       "<style scoped>\n",
       "    .dataframe tbody tr th:only-of-type {\n",
       "        vertical-align: middle;\n",
       "    }\n",
       "\n",
       "    .dataframe tbody tr th {\n",
       "        vertical-align: top;\n",
       "    }\n",
       "\n",
       "    .dataframe thead th {\n",
       "        text-align: right;\n",
       "    }\n",
       "</style>\n",
       "<table border=\"1\" class=\"dataframe\">\n",
       "  <thead>\n",
       "    <tr style=\"text-align: right;\">\n",
       "      <th></th>\n",
       "      <th>country</th>\n",
       "      <th>intercept</th>\n",
       "      <th>Valuation_beta</th>\n",
       "      <th>Momentum_beta</th>\n",
       "    </tr>\n",
       "  </thead>\n",
       "  <tbody>\n",
       "    <tr>\n",
       "      <th>0</th>\n",
       "      <td>US</td>\n",
       "      <td>0.076434</td>\n",
       "      <td>-0.013267</td>\n",
       "      <td>-0.050372</td>\n",
       "    </tr>\n",
       "    <tr>\n",
       "      <th>1</th>\n",
       "      <td>AU</td>\n",
       "      <td>0.109862</td>\n",
       "      <td>-0.077045</td>\n",
       "      <td>0.002993</td>\n",
       "    </tr>\n",
       "    <tr>\n",
       "      <th>2</th>\n",
       "      <td>UK</td>\n",
       "      <td>0.090436</td>\n",
       "      <td>-0.008035</td>\n",
       "      <td>-0.065767</td>\n",
       "    </tr>\n",
       "    <tr>\n",
       "      <th>3</th>\n",
       "      <td>Germany</td>\n",
       "      <td>0.071798</td>\n",
       "      <td>-0.101960</td>\n",
       "      <td>0.153369</td>\n",
       "    </tr>\n",
       "    <tr>\n",
       "      <th>4</th>\n",
       "      <td>France</td>\n",
       "      <td>0.090893</td>\n",
       "      <td>-0.047329</td>\n",
       "      <td>0.054206</td>\n",
       "    </tr>\n",
       "    <tr>\n",
       "      <th>5</th>\n",
       "      <td>Japan</td>\n",
       "      <td>0.061444</td>\n",
       "      <td>-0.002355</td>\n",
       "      <td>0.047599</td>\n",
       "    </tr>\n",
       "    <tr>\n",
       "      <th>6</th>\n",
       "      <td>Switzerland</td>\n",
       "      <td>0.079346</td>\n",
       "      <td>-0.071548</td>\n",
       "      <td>0.179201</td>\n",
       "    </tr>\n",
       "    <tr>\n",
       "      <th>7</th>\n",
       "      <td>India</td>\n",
       "      <td>0.093364</td>\n",
       "      <td>0.016583</td>\n",
       "      <td>-0.112181</td>\n",
       "    </tr>\n",
       "  </tbody>\n",
       "</table>\n",
       "</div>"
      ],
      "text/plain": [
       "       country  intercept  Valuation_beta  Momentum_beta\n",
       "0           US   0.076434       -0.013267      -0.050372\n",
       "1           AU   0.109862       -0.077045       0.002993\n",
       "2           UK   0.090436       -0.008035      -0.065767\n",
       "3      Germany   0.071798       -0.101960       0.153369\n",
       "4       France   0.090893       -0.047329       0.054206\n",
       "5        Japan   0.061444       -0.002355       0.047599\n",
       "6  Switzerland   0.079346       -0.071548       0.179201\n",
       "7        India   0.093364        0.016583      -0.112181"
      ]
     },
     "execution_count": 371,
     "metadata": {},
     "output_type": "execute_result"
    }
   ],
   "source": [
    "output_insample = closed_form_OLS(insample_y, insample_val, insample_mom)\n",
    "output_insample"
   ]
  },
  {
   "attachments": {},
   "cell_type": "markdown",
   "id": "d0967899",
   "metadata": {},
   "source": [
    "### IN sample paramaters:"
   ]
  },
  {
   "cell_type": "code",
   "execution_count": 376,
   "id": "64617811",
   "metadata": {},
   "outputs": [
    {
     "name": "stderr",
     "output_type": "stream",
     "text": [
      "/opt/anaconda3/envs/dev/lib/python3.7/site-packages/ipykernel_launcher.py:1: FutureWarning: Dropping of nuisance columns in DataFrame reductions (with 'numeric_only=None') is deprecated; in a future version this will raise TypeError.  Select only valid columns before calling the reduction.\n",
      "  \"\"\"Entry point for launching an IPython kernel.\n"
     ]
    },
    {
     "data": {
      "text/plain": [
       "intercept         0.086292\n",
       "Valuation_beta   -0.061264\n",
       "Momentum_beta     0.037090\n",
       "dtype: float64"
      ]
     },
     "execution_count": 376,
     "metadata": {},
     "output_type": "execute_result"
    }
   ],
   "source": [
    "shrunk_parameters_in_sample = reg_results.mean()\n",
    "shrunk_parameters_in_sample"
   ]
  },
  {
   "attachments": {},
   "cell_type": "markdown",
   "id": "fa2b842a",
   "metadata": {},
   "source": [
    "### Out of sample testing:"
   ]
  },
  {
   "cell_type": "code",
   "execution_count": 378,
   "id": "a281e5e0",
   "metadata": {},
   "outputs": [],
   "source": [
    "# SET THE O_O_SAMPLE PERIOD THROUGH THE LOC:\n",
    "outsample_y, outsample_val, outsample_mom = [df.loc['1/01/2003':'1/12/2020'] for df in [y_df, val_df, mom_df]]"
   ]
  },
  {
   "cell_type": "code",
   "execution_count": 410,
   "id": "5440f42b",
   "metadata": {},
   "outputs": [
    {
     "data": {
      "text/html": [
       "<div>\n",
       "<style scoped>\n",
       "    .dataframe tbody tr th:only-of-type {\n",
       "        vertical-align: middle;\n",
       "    }\n",
       "\n",
       "    .dataframe tbody tr th {\n",
       "        vertical-align: top;\n",
       "    }\n",
       "\n",
       "    .dataframe thead th {\n",
       "        text-align: right;\n",
       "    }\n",
       "</style>\n",
       "<table border=\"1\" class=\"dataframe\">\n",
       "  <thead>\n",
       "    <tr style=\"text-align: right;\">\n",
       "      <th></th>\n",
       "      <th>US</th>\n",
       "      <th>AU</th>\n",
       "      <th>UK</th>\n",
       "      <th>Germany</th>\n",
       "      <th>France</th>\n",
       "      <th>Japan</th>\n",
       "      <th>Switzerland</th>\n",
       "      <th>India</th>\n",
       "    </tr>\n",
       "  </thead>\n",
       "  <tbody>\n",
       "    <tr>\n",
       "      <th>1/01/2003</th>\n",
       "      <td>0.082840</td>\n",
       "      <td>0.070998</td>\n",
       "      <td>0.093231</td>\n",
       "      <td>0.094054</td>\n",
       "      <td>0.072298</td>\n",
       "      <td>0.098954</td>\n",
       "      <td>0.091296</td>\n",
       "      <td>0.088570</td>\n",
       "    </tr>\n",
       "    <tr>\n",
       "      <th>1/02/2003</th>\n",
       "      <td>0.088055</td>\n",
       "      <td>0.073914</td>\n",
       "      <td>0.097358</td>\n",
       "      <td>0.098527</td>\n",
       "      <td>0.080114</td>\n",
       "      <td>0.102058</td>\n",
       "      <td>0.096810</td>\n",
       "      <td>0.085908</td>\n",
       "    </tr>\n",
       "    <tr>\n",
       "      <th>1/03/2003</th>\n",
       "      <td>0.089233</td>\n",
       "      <td>0.076380</td>\n",
       "      <td>0.098129</td>\n",
       "      <td>0.099849</td>\n",
       "      <td>0.085262</td>\n",
       "      <td>0.099034</td>\n",
       "      <td>0.098377</td>\n",
       "      <td>0.092740</td>\n",
       "    </tr>\n",
       "    <tr>\n",
       "      <th>1/04/2003</th>\n",
       "      <td>0.090285</td>\n",
       "      <td>0.077331</td>\n",
       "      <td>0.098351</td>\n",
       "      <td>0.101017</td>\n",
       "      <td>0.086927</td>\n",
       "      <td>0.097893</td>\n",
       "      <td>0.097803</td>\n",
       "      <td>0.097998</td>\n",
       "    </tr>\n",
       "    <tr>\n",
       "      <th>1/05/2003</th>\n",
       "      <td>0.089414</td>\n",
       "      <td>0.075688</td>\n",
       "      <td>0.097931</td>\n",
       "      <td>0.102267</td>\n",
       "      <td>0.088798</td>\n",
       "      <td>0.096640</td>\n",
       "      <td>0.098338</td>\n",
       "      <td>0.097023</td>\n",
       "    </tr>\n",
       "  </tbody>\n",
       "</table>\n",
       "</div>"
      ],
      "text/plain": [
       "                 US        AU        UK   Germany    France     Japan  \\\n",
       "1/01/2003  0.082840  0.070998  0.093231  0.094054  0.072298  0.098954   \n",
       "1/02/2003  0.088055  0.073914  0.097358  0.098527  0.080114  0.102058   \n",
       "1/03/2003  0.089233  0.076380  0.098129  0.099849  0.085262  0.099034   \n",
       "1/04/2003  0.090285  0.077331  0.098351  0.101017  0.086927  0.097893   \n",
       "1/05/2003  0.089414  0.075688  0.097931  0.102267  0.088798  0.096640   \n",
       "\n",
       "           Switzerland     India  \n",
       "1/01/2003     0.091296  0.088570  \n",
       "1/02/2003     0.096810  0.085908  \n",
       "1/03/2003     0.098377  0.092740  \n",
       "1/04/2003     0.097803  0.097998  \n",
       "1/05/2003     0.098338  0.097023  "
      ]
     },
     "execution_count": 410,
     "metadata": {},
     "output_type": "execute_result"
    }
   ],
   "source": [
    "#predicted_OOS_values = Shrunk_Intercept + Shrunk_Val_beta * 5Y_val + Shrunk_Mom_beta * MOM    ~~~ For each country\n",
    "\n",
    "predicted_OOS_values = pd.DataFrame(columns = y_df.columns, index = outsample_y.index)\n",
    "\n",
    "for i in y_df.columns:\n",
    "    value = shrunk_parameters_in_sample[0] + shrunk_parameters_in_sample[1] * outsample_val[i] + shrunk_parameters_in_sample[2] * outsample_mom[i]\n",
    "\n",
    "    predicted_OOS_values[i] = value\n",
    "\n",
    "\n",
    "predicted_OOS_values.head()"
   ]
  },
  {
   "attachments": {},
   "cell_type": "markdown",
   "id": "715abe28",
   "metadata": {},
   "source": [
    "Closed form R-squared calc:"
   ]
  },
  {
   "cell_type": "code",
   "execution_count": 430,
   "id": "661912c3",
   "metadata": {},
   "outputs": [],
   "source": [
    "r2_dict={}\n",
    "# Loop through each country\n",
    "for country in predicted_OOS_values.columns:\n",
    "\n",
    "# Change into Arrays\n",
    "    y_actual = outsample_y[country].values \n",
    "    y_predicted = predicted_OOS_values[country].values\n",
    "    y_mean = y_actual.mean()\n",
    "    \n",
    "# Calculate sum of squares and residuals\n",
    "    ss_total = ((y_actual - y_mean)**2).sum()\n",
    "    ss_res = ((y_actual - y_predicted)**2).sum()\n",
    "    \n",
    "# Calculate R-squared value\n",
    "    r_squared = 1 - (ss_res / ss_total)\n",
    "    \n",
    "# Attach the R-sqaured to the dictioniary object\n",
    "    r2_dict[country] = r_squared\n",
    "\n",
    "\n",
    "r2_df = pd.DataFrame.from_dict(r2_dict, orient='index', columns=['R-squared'])\n",
    "r2_df = round(r2_df*100, 3) # clean a tad"
   ]
  },
  {
   "cell_type": "code",
   "execution_count": 433,
   "id": "0c1c1968",
   "metadata": {},
   "outputs": [
    {
     "data": {
      "text/html": [
       "<div>\n",
       "<style scoped>\n",
       "    .dataframe tbody tr th:only-of-type {\n",
       "        vertical-align: middle;\n",
       "    }\n",
       "\n",
       "    .dataframe tbody tr th {\n",
       "        vertical-align: top;\n",
       "    }\n",
       "\n",
       "    .dataframe thead th {\n",
       "        text-align: right;\n",
       "    }\n",
       "</style>\n",
       "<table border=\"1\" class=\"dataframe\">\n",
       "  <thead>\n",
       "    <tr style=\"text-align: right;\">\n",
       "      <th></th>\n",
       "      <th>R-squared</th>\n",
       "    </tr>\n",
       "  </thead>\n",
       "  <tbody>\n",
       "    <tr>\n",
       "      <th>US</th>\n",
       "      <td>11.312</td>\n",
       "    </tr>\n",
       "    <tr>\n",
       "      <th>AU</th>\n",
       "      <td>6.559</td>\n",
       "    </tr>\n",
       "    <tr>\n",
       "      <th>UK</th>\n",
       "      <td>-2.150</td>\n",
       "    </tr>\n",
       "    <tr>\n",
       "      <th>Germany</th>\n",
       "      <td>15.670</td>\n",
       "    </tr>\n",
       "    <tr>\n",
       "      <th>France</th>\n",
       "      <td>8.318</td>\n",
       "    </tr>\n",
       "    <tr>\n",
       "      <th>Japan</th>\n",
       "      <td>6.980</td>\n",
       "    </tr>\n",
       "    <tr>\n",
       "      <th>Switzerland</th>\n",
       "      <td>11.506</td>\n",
       "    </tr>\n",
       "    <tr>\n",
       "      <th>India</th>\n",
       "      <td>-7.211</td>\n",
       "    </tr>\n",
       "  </tbody>\n",
       "</table>\n",
       "</div>"
      ],
      "text/plain": [
       "             R-squared\n",
       "US              11.312\n",
       "AU               6.559\n",
       "UK              -2.150\n",
       "Germany         15.670\n",
       "France           8.318\n",
       "Japan            6.980\n",
       "Switzerland     11.506\n",
       "India           -7.211"
      ]
     },
     "execution_count": 433,
     "metadata": {},
     "output_type": "execute_result"
    }
   ],
   "source": [
    "r2_df"
   ]
  },
  {
   "attachments": {},
   "cell_type": "markdown",
   "id": "7ed74d19",
   "metadata": {},
   "source": [
    "Plot:"
   ]
  },
  {
   "cell_type": "code",
   "execution_count": 435,
   "id": "8574e4fb",
   "metadata": {},
   "outputs": [
    {
     "data": {},
     "metadata": {},
     "output_type": "display_data"
    },
    {
     "data": {
      "application/vnd.holoviews_exec.v0+json": "",
      "text/html": [
       "<div id='4033'>\n",
       "  <div class=\"bk-root\" id=\"425bdb64-1751-42e2-ab9c-71518529fbaf\" data-root-id=\"4033\"></div>\n",
       "</div>\n",
       "<script type=\"application/javascript\">(function(root) {\n",
       "  function embed_document(root) {\n",
       "    var docs_json = {\"8ceb4564-90f0-457f-81f8-44012a88add5\":{\"defs\":[{\"extends\":null,\"module\":null,\"name\":\"ReactiveHTML1\",\"overrides\":[],\"properties\":[]},{\"extends\":null,\"module\":null,\"name\":\"FlexBox1\",\"overrides\":[],\"properties\":[{\"default\":\"flex-start\",\"kind\":null,\"name\":\"align_content\"},{\"default\":\"flex-start\",\"kind\":null,\"name\":\"align_items\"},{\"default\":\"row\",\"kind\":null,\"name\":\"flex_direction\"},{\"default\":\"wrap\",\"kind\":null,\"name\":\"flex_wrap\"},{\"default\":\"flex-start\",\"kind\":null,\"name\":\"justify_content\"}]},{\"extends\":null,\"module\":null,\"name\":\"GridStack1\",\"overrides\":[],\"properties\":[{\"default\":\"warn\",\"kind\":null,\"name\":\"mode\"},{\"default\":null,\"kind\":null,\"name\":\"ncols\"},{\"default\":null,\"kind\":null,\"name\":\"nrows\"},{\"default\":true,\"kind\":null,\"name\":\"allow_resize\"},{\"default\":true,\"kind\":null,\"name\":\"allow_drag\"},{\"default\":[],\"kind\":null,\"name\":\"state\"}]},{\"extends\":null,\"module\":null,\"name\":\"click1\",\"overrides\":[],\"properties\":[{\"default\":\"\",\"kind\":null,\"name\":\"terminal_output\"},{\"default\":\"\",\"kind\":null,\"name\":\"debug_name\"},{\"default\":0,\"kind\":null,\"name\":\"clears\"}]},{\"extends\":null,\"module\":null,\"name\":\"NotificationAreaBase1\",\"overrides\":[],\"properties\":[{\"default\":\"bottom-right\",\"kind\":null,\"name\":\"position\"},{\"default\":0,\"kind\":null,\"name\":\"_clear\"}]},{\"extends\":null,\"module\":null,\"name\":\"NotificationArea1\",\"overrides\":[],\"properties\":[{\"default\":[],\"kind\":null,\"name\":\"notifications\"},{\"default\":\"bottom-right\",\"kind\":null,\"name\":\"position\"},{\"default\":0,\"kind\":null,\"name\":\"_clear\"},{\"default\":[{\"background\":\"#ffc107\",\"icon\":{\"className\":\"fas fa-exclamation-triangle\",\"color\":\"white\",\"tagName\":\"i\"},\"type\":\"warning\"},{\"background\":\"#007bff\",\"icon\":{\"className\":\"fas fa-info-circle\",\"color\":\"white\",\"tagName\":\"i\"},\"type\":\"info\"}],\"kind\":null,\"name\":\"types\"}]},{\"extends\":null,\"module\":null,\"name\":\"Notification\",\"overrides\":[],\"properties\":[{\"default\":null,\"kind\":null,\"name\":\"background\"},{\"default\":3000,\"kind\":null,\"name\":\"duration\"},{\"default\":null,\"kind\":null,\"name\":\"icon\"},{\"default\":\"\",\"kind\":null,\"name\":\"message\"},{\"default\":null,\"kind\":null,\"name\":\"notification_type\"},{\"default\":false,\"kind\":null,\"name\":\"_destroyed\"}]},{\"extends\":null,\"module\":null,\"name\":\"TemplateActions1\",\"overrides\":[],\"properties\":[{\"default\":0,\"kind\":null,\"name\":\"open_modal\"},{\"default\":0,\"kind\":null,\"name\":\"close_modal\"}]},{\"extends\":null,\"module\":null,\"name\":\"MaterialTemplateActions1\",\"overrides\":[],\"properties\":[{\"default\":0,\"kind\":null,\"name\":\"open_modal\"},{\"default\":0,\"kind\":null,\"name\":\"close_modal\"}]}],\"roots\":{\"references\":[{\"attributes\":{},\"id\":\"4043\",\"type\":\"CategoricalScale\"},{\"attributes\":{\"tools\":[{\"id\":\"4037\"},{\"id\":\"4054\"},{\"id\":\"4055\"},{\"id\":\"4056\"},{\"id\":\"4057\"},{\"id\":\"4058\"}]},\"id\":\"4060\",\"type\":\"Toolbar\"},{\"attributes\":{\"below\":[{\"id\":\"4047\"}],\"center\":[{\"id\":\"4049\"},{\"id\":\"4053\"}],\"height\":500,\"left\":[{\"id\":\"4050\"}],\"margin\":[5,5,5,5],\"min_border_bottom\":10,\"min_border_left\":10,\"min_border_right\":10,\"min_border_top\":10,\"renderers\":[{\"id\":\"4073\"}],\"sizing_mode\":\"fixed\",\"title\":{\"id\":\"4039\"},\"toolbar\":{\"id\":\"4060\"},\"width\":700,\"x_range\":{\"id\":\"4035\"},\"x_scale\":{\"id\":\"4043\"},\"y_range\":{\"id\":\"4036\"},\"y_scale\":{\"id\":\"4045\"}},\"id\":\"4038\",\"subtype\":\"Figure\",\"type\":\"Plot\"},{\"attributes\":{},\"id\":\"4058\",\"type\":\"ResetTool\"},{\"attributes\":{\"bottom_units\":\"screen\",\"coordinates\":null,\"fill_alpha\":0.5,\"fill_color\":\"lightgrey\",\"group\":null,\"left_units\":\"screen\",\"level\":\"overlay\",\"line_alpha\":1.0,\"line_color\":\"black\",\"line_dash\":[4,4],\"line_width\":2,\"right_units\":\"screen\",\"syncable\":false,\"top_units\":\"screen\"},\"id\":\"4059\",\"type\":\"BoxAnnotation\"},{\"attributes\":{\"coordinates\":null,\"data_source\":{\"id\":\"4067\"},\"glyph\":{\"id\":\"4070\"},\"group\":null,\"hover_glyph\":null,\"muted_glyph\":{\"id\":\"4072\"},\"nonselection_glyph\":{\"id\":\"4071\"},\"selection_glyph\":{\"id\":\"4075\"},\"view\":{\"id\":\"4074\"}},\"id\":\"4073\",\"type\":\"GlyphRenderer\"},{\"attributes\":{},\"id\":\"4080\",\"type\":\"BasicTickFormatter\"},{\"attributes\":{\"axis\":{\"id\":\"4050\"},\"coordinates\":null,\"dimension\":1,\"group\":null,\"ticker\":{\"id\":\"4051\"}},\"id\":\"4053\",\"type\":\"Grid\"},{\"attributes\":{\"data\":{\"R_hyphen_minus_squared\":{\"__ndarray__\":\"ObTIdr6fJkAj2/l+ajwaQDMzMzMzMwHA16NwPQpXL0CJQWDl0KIgQOxRuB6F6xtAUI2XbhIDJ0Dy0k1iENgcwA==\",\"dtype\":\"float64\",\"order\":\"little\",\"shape\":[8]},\"index\":[\"US\",\"AU\",\"UK\",\"Germany\",\"France\",\"Japan\",\"Switzerland\",\"India\"]},\"selected\":{\"id\":\"4068\"},\"selection_policy\":{\"id\":\"4091\"}},\"id\":\"4067\",\"type\":\"ColumnDataSource\"},{\"attributes\":{},\"id\":\"4045\",\"type\":\"LinearScale\"},{\"attributes\":{\"margin\":[5,5,5,5],\"name\":\"HSpacer03870\",\"sizing_mode\":\"stretch_width\"},\"id\":\"4094\",\"type\":\"Spacer\"},{\"attributes\":{\"fill_color\":{\"value\":\"#30a2da\"},\"hatch_color\":{\"value\":\"#30a2da\"},\"top\":{\"field\":\"R_hyphen_minus_squared\"},\"width\":{\"value\":0.8},\"x\":{\"field\":\"index\"}},\"id\":\"4070\",\"type\":\"VBar\"},{\"attributes\":{\"axis_label\":\"Country\",\"coordinates\":null,\"formatter\":{\"id\":\"4077\"},\"group\":null,\"major_label_orientation\":0.6981317007977318,\"major_label_policy\":{\"id\":\"4078\"},\"ticker\":{\"id\":\"4048\"}},\"id\":\"4047\",\"type\":\"CategoricalAxis\"},{\"attributes\":{},\"id\":\"4048\",\"type\":\"CategoricalTicker\"},{\"attributes\":{\"axis\":{\"id\":\"4047\"},\"coordinates\":null,\"group\":null,\"ticker\":{\"id\":\"4048\"}},\"id\":\"4049\",\"type\":\"Grid\"},{\"attributes\":{},\"id\":\"4078\",\"type\":\"AllLabels\"},{\"attributes\":{\"end\":17.9581,\"reset_end\":17.9581,\"reset_start\":-9.4991,\"start\":-9.4991,\"tags\":[[[\"R-squared\",\"R-squared\",null]]]},\"id\":\"4036\",\"type\":\"Range1d\"},{\"attributes\":{\"margin\":[5,5,5,5],\"name\":\"HSpacer03869\",\"sizing_mode\":\"stretch_width\"},\"id\":\"4034\",\"type\":\"Spacer\"},{\"attributes\":{},\"id\":\"4051\",\"type\":\"BasicTicker\"},{\"attributes\":{},\"id\":\"4077\",\"type\":\"CategoricalTickFormatter\"},{\"attributes\":{\"axis_label\":\"R-squared %\",\"coordinates\":null,\"formatter\":{\"id\":\"4080\"},\"group\":null,\"major_label_policy\":{\"id\":\"4081\"},\"ticker\":{\"id\":\"4051\"}},\"id\":\"4050\",\"type\":\"LinearAxis\"},{\"attributes\":{\"coordinates\":null,\"group\":null,\"text\":\"Out of sample R-squared\",\"text_color\":\"black\",\"text_font_size\":\"12pt\"},\"id\":\"4039\",\"type\":\"Title\"},{\"attributes\":{\"fill_alpha\":{\"value\":0.2},\"fill_color\":{\"value\":\"#30a2da\"},\"hatch_alpha\":{\"value\":0.2},\"hatch_color\":{\"value\":\"#30a2da\"},\"line_alpha\":{\"value\":0.2},\"top\":{\"field\":\"R_hyphen_minus_squared\"},\"width\":{\"value\":0.8},\"x\":{\"field\":\"index\"}},\"id\":\"4072\",\"type\":\"VBar\"},{\"attributes\":{\"source\":{\"id\":\"4067\"}},\"id\":\"4074\",\"type\":\"CDSView\"},{\"attributes\":{},\"id\":\"4081\",\"type\":\"AllLabels\"},{\"attributes\":{\"bottom\":{\"value\":0},\"fill_alpha\":{\"value\":1.0},\"fill_color\":{\"value\":\"#30a2da\"},\"hatch_alpha\":{\"value\":1.0},\"hatch_color\":{\"value\":\"#30a2da\"},\"hatch_scale\":{\"value\":12.0},\"hatch_weight\":{\"value\":1.0},\"line_alpha\":{\"value\":1.0},\"line_cap\":{\"value\":\"butt\"},\"line_color\":{\"value\":\"black\"},\"line_dash\":{\"value\":[]},\"line_dash_offset\":{\"value\":0},\"line_join\":{\"value\":\"bevel\"},\"line_width\":{\"value\":1},\"top\":{\"field\":\"R_hyphen_minus_squared\"},\"width\":{\"value\":0.8},\"x\":{\"field\":\"index\"}},\"id\":\"4075\",\"type\":\"VBar\"},{\"attributes\":{},\"id\":\"4091\",\"type\":\"UnionRenderers\"},{\"attributes\":{},\"id\":\"4054\",\"type\":\"SaveTool\"},{\"attributes\":{},\"id\":\"4055\",\"type\":\"PanTool\"},{\"attributes\":{\"factors\":[\"US\",\"AU\",\"UK\",\"Germany\",\"France\",\"Japan\",\"Switzerland\",\"India\"],\"tags\":[[[\"index\",\"index\",null]]]},\"id\":\"4035\",\"type\":\"FactorRange\"},{\"attributes\":{},\"id\":\"4068\",\"type\":\"Selection\"},{\"attributes\":{\"children\":[{\"id\":\"4034\"},{\"id\":\"4038\"},{\"id\":\"4094\"}],\"margin\":[0,0,0,0],\"name\":\"Row03865\",\"tags\":[\"embedded\"]},\"id\":\"4033\",\"type\":\"Row\"},{\"attributes\":{\"callback\":null,\"renderers\":[{\"id\":\"4073\"}],\"tags\":[\"hv_created\"],\"tooltips\":[[\"index\",\"@{index}\"],[\"R-squared\",\"@{R_hyphen_minus_squared}\"]]},\"id\":\"4037\",\"type\":\"HoverTool\"},{\"attributes\":{},\"id\":\"4056\",\"type\":\"WheelZoomTool\"},{\"attributes\":{\"overlay\":{\"id\":\"4059\"}},\"id\":\"4057\",\"type\":\"BoxZoomTool\"},{\"attributes\":{\"fill_alpha\":{\"value\":0.1},\"fill_color\":{\"value\":\"#30a2da\"},\"hatch_alpha\":{\"value\":0.1},\"hatch_color\":{\"value\":\"#30a2da\"},\"line_alpha\":{\"value\":0.1},\"top\":{\"field\":\"R_hyphen_minus_squared\"},\"width\":{\"value\":0.8},\"x\":{\"field\":\"index\"}},\"id\":\"4071\",\"type\":\"VBar\"}],\"root_ids\":[\"4033\"]},\"title\":\"Bokeh Application\",\"version\":\"2.4.3\"}};\n",
       "    var render_items = [{\"docid\":\"8ceb4564-90f0-457f-81f8-44012a88add5\",\"root_ids\":[\"4033\"],\"roots\":{\"4033\":\"425bdb64-1751-42e2-ab9c-71518529fbaf\"}}];\n",
       "    root.Bokeh.embed.embed_items_notebook(docs_json, render_items);\n",
       "    for (const render_item of render_items) {\n",
       "      for (const root_id of render_item.root_ids) {\n",
       "\tconst id_el = document.getElementById(root_id)\n",
       "\tif (id_el.children.length && (id_el.children[0].className === 'bk-root')) {\n",
       "\t  const root_el = id_el.children[0]\n",
       "\t  root_el.id = root_el.id + '-rendered'\n",
       "\t}\n",
       "      }\n",
       "    }\n",
       "  }\n",
       "  if (root.Bokeh !== undefined && root.Bokeh.Panel !== undefined) {\n",
       "    embed_document(root);\n",
       "  } else {\n",
       "    var attempts = 0;\n",
       "    var timer = setInterval(function(root) {\n",
       "      if (root.Bokeh !== undefined && root.Bokeh.Panel !== undefined) {\n",
       "        clearInterval(timer);\n",
       "        embed_document(root);\n",
       "      } else if (document.readyState == \"complete\") {\n",
       "        attempts++;\n",
       "        if (attempts > 200) {\n",
       "          clearInterval(timer);\n",
       "          console.log(\"Bokeh: ERROR: Unable to run BokehJS code because BokehJS library is missing\");\n",
       "        }\n",
       "      }\n",
       "    }, 25, root)\n",
       "  }\n",
       "})(window);</script>"
      ],
      "text/plain": [
       ":Bars   [index]   (R-squared)"
      ]
     },
     "execution_count": 435,
     "metadata": {
      "application/vnd.holoviews_exec.v0+json": {
       "id": "4033"
      }
     },
     "output_type": "execute_result"
    }
   ],
   "source": [
    "plot = r2_df.hvplot.bar(title = 'Out of sample R-squared', rot = 40, grid=True, height = 500, ylabel = 'R-squared %', xlabel = 'Country')\n",
    "plot"
   ]
  },
  {
   "cell_type": "markdown",
   "id": "f24a8a4f-7497-4e9c-a997-0a857a72c904",
   "metadata": {},
   "source": [
    "# Incorporate for other country OOS:"
   ]
  },
  {
   "cell_type": "code",
   "execution_count": 197,
   "id": "ded7306c-a2ab-409d-8953-56b881ae89d5",
   "metadata": {},
   "outputs": [
    {
     "name": "stdout",
     "output_type": "stream",
     "text": [
      "Mate youre good to go\n"
     ]
    }
   ],
   "source": [
    "global_macro = pd.read_csv('global_macro_etf_data.csv', index_col = 0)\n",
    "\n",
    "global_macro = global_macro.loc['31/03/1995':'31/12/2021']\n",
    "\n",
    "if global_macro.shape[0] > len(y_test):\n",
    "    \n",
    "    print('Mate youre good to go')\n",
    "else:\n",
    "    print('Do a bit more cleaning fella')"
   ]
  },
  {
   "attachments": {},
   "cell_type": "markdown",
   "id": "eb3da920",
   "metadata": {},
   "source": [
    "Establish them as 'Target' Variables':"
   ]
  },
  {
   "cell_type": "code",
   "execution_count": 198,
   "id": "4ac2be8a-313f-404c-9c94-2a765ac3d6e6",
   "metadata": {},
   "outputs": [
    {
     "data": {
      "text/html": [
       "<div>\n",
       "<style scoped>\n",
       "    .dataframe tbody tr th:only-of-type {\n",
       "        vertical-align: middle;\n",
       "    }\n",
       "\n",
       "    .dataframe tbody tr th {\n",
       "        vertical-align: top;\n",
       "    }\n",
       "\n",
       "    .dataframe thead th {\n",
       "        text-align: right;\n",
       "    }\n",
       "</style>\n",
       "<table border=\"1\" class=\"dataframe\">\n",
       "  <thead>\n",
       "    <tr style=\"text-align: right;\">\n",
       "      <th></th>\n",
       "      <th>MSCI Asia Ex Japan</th>\n",
       "      <th>SP &amp; ASX 200</th>\n",
       "      <th>ASX Small Ords</th>\n",
       "      <th>MSCI Brazil</th>\n",
       "      <th>MSCI China</th>\n",
       "      <th>MSCI ACWI</th>\n",
       "      <th>MSCI Global Small</th>\n",
       "      <th>MSCI India</th>\n",
       "      <th>MSCI Japan</th>\n",
       "      <th>MSCI Korea</th>\n",
       "      <th>...</th>\n",
       "      <th>Australian Government Bond .1</th>\n",
       "      <th>Australian Bank Bill 90 Days</th>\n",
       "      <th>JP Morgan EMBI Global Diversified Composite</th>\n",
       "      <th>Barclays Global Aggregate</th>\n",
       "      <th>Barclays Global High Yield Total return</th>\n",
       "      <th>Barclays US Treasury</th>\n",
       "      <th>Bloomberg Commodity Index</th>\n",
       "      <th>WTI Crude Spot</th>\n",
       "      <th>Gold</th>\n",
       "      <th>Rogers Int Agriculture Commodity Index</th>\n",
       "    </tr>\n",
       "    <tr>\n",
       "      <th>yyyymm</th>\n",
       "      <th></th>\n",
       "      <th></th>\n",
       "      <th></th>\n",
       "      <th></th>\n",
       "      <th></th>\n",
       "      <th></th>\n",
       "      <th></th>\n",
       "      <th></th>\n",
       "      <th></th>\n",
       "      <th></th>\n",
       "      <th></th>\n",
       "      <th></th>\n",
       "      <th></th>\n",
       "      <th></th>\n",
       "      <th></th>\n",
       "      <th></th>\n",
       "      <th></th>\n",
       "      <th></th>\n",
       "      <th></th>\n",
       "      <th></th>\n",
       "      <th></th>\n",
       "    </tr>\n",
       "  </thead>\n",
       "  <tbody>\n",
       "    <tr>\n",
       "      <th>1995-03-01</th>\n",
       "      <td>0.007301</td>\n",
       "      <td>0.171111</td>\n",
       "      <td>0.182334</td>\n",
       "      <td>0.225388</td>\n",
       "      <td>-0.160398</td>\n",
       "      <td>0.125393</td>\n",
       "      <td>0.080507</td>\n",
       "      <td>-0.164352</td>\n",
       "      <td>-0.030237</td>\n",
       "      <td>-0.082794</td>\n",
       "      <td>...</td>\n",
       "      <td>0.148814</td>\n",
       "      <td>0.075608</td>\n",
       "      <td>0.322708</td>\n",
       "      <td>0.085416</td>\n",
       "      <td>0.229039</td>\n",
       "      <td>0.099677</td>\n",
       "      <td>0.082657</td>\n",
       "      <td>0.051157</td>\n",
       "      <td>0.010294</td>\n",
       "      <td>0.186924</td>\n",
       "    </tr>\n",
       "  </tbody>\n",
       "</table>\n",
       "<p>1 rows × 27 columns</p>\n",
       "</div>"
      ],
      "text/plain": [
       "            MSCI Asia Ex Japan   SP & ASX 200    ASX Small Ords   \\\n",
       "yyyymm                                                             \n",
       "1995-03-01            0.007301        0.171111          0.182334   \n",
       "\n",
       "             MSCI Brazil    MSCI China    MSCI ACWI    MSCI Global Small   \\\n",
       "yyyymm                                                                      \n",
       "1995-03-01       0.225388     -0.160398     0.125393             0.080507   \n",
       "\n",
       "             MSCI India    MSCI Japan    MSCI Korea   ...  \\\n",
       "yyyymm                                                ...   \n",
       "1995-03-01     -0.164352     -0.030237     -0.082794  ...   \n",
       "\n",
       "             Australian Government Bond .1   Australian Bank Bill 90 Days   \\\n",
       "yyyymm                                                                       \n",
       "1995-03-01                        0.148814                        0.075608   \n",
       "\n",
       "             JP Morgan EMBI Global Diversified Composite   \\\n",
       "yyyymm                                                      \n",
       "1995-03-01                                       0.322708   \n",
       "\n",
       "             Barclays Global Aggregate   \\\n",
       "yyyymm                                    \n",
       "1995-03-01                     0.085416   \n",
       "\n",
       "             Barclays Global High Yield Total return    Barclays US Treasury   \\\n",
       "yyyymm                                                                          \n",
       "1995-03-01                                   0.229039                0.099677   \n",
       "\n",
       "             Bloomberg Commodity Index    WTI Crude Spot     Gold    \\\n",
       "yyyymm                                                                \n",
       "1995-03-01                     0.082657          0.051157  0.010294   \n",
       "\n",
       "             Rogers Int Agriculture Commodity Index   \n",
       "yyyymm                                                \n",
       "1995-03-01                                  0.186924  \n",
       "\n",
       "[1 rows x 27 columns]"
      ]
     },
     "execution_count": 198,
     "metadata": {},
     "output_type": "execute_result"
    }
   ],
   "source": [
    "global_12m = global_macro.apply(lambda x: np.log(x.shift(-12) / x ), axis = 0)\n",
    "global_12m = global_12m.iloc[:-12,:]\n",
    "global_12m = global_12m.dropna(axis =1)\n",
    "global_12m.index = results.index\n",
    "\n",
    "global_12m.head(1)"
   ]
  },
  {
   "cell_type": "markdown",
   "id": "581cf0d1-1b80-4094-b9f3-648c33807db1",
   "metadata": {},
   "source": [
    "Steps: <br> <br> Test y_test's of these data ^ <br> <br> Add RF rate to 12M return (Y) <br> <br> Look at more VIVEK content for data clean <br> <br> try EWM <br> <br>"
   ]
  },
  {
   "attachments": {},
   "cell_type": "markdown",
   "id": "f61181b1",
   "metadata": {},
   "source": [
    "### Combine the Two DataFrames:"
   ]
  },
  {
   "cell_type": "code",
   "execution_count": 199,
   "id": "ff931645",
   "metadata": {},
   "outputs": [
    {
     "data": {
      "text/html": [
       "<div>\n",
       "<style scoped>\n",
       "    .dataframe tbody tr th:only-of-type {\n",
       "        vertical-align: middle;\n",
       "    }\n",
       "\n",
       "    .dataframe tbody tr th {\n",
       "        vertical-align: top;\n",
       "    }\n",
       "\n",
       "    .dataframe thead th {\n",
       "        text-align: right;\n",
       "    }\n",
       "</style>\n",
       "<table border=\"1\" class=\"dataframe\">\n",
       "  <thead>\n",
       "    <tr style=\"text-align: right;\">\n",
       "      <th></th>\n",
       "      <th>xg_boost</th>\n",
       "      <th>dec_tree</th>\n",
       "      <th>grad_boost</th>\n",
       "      <th>Ridge</th>\n",
       "      <th>OLS</th>\n",
       "      <th>actual</th>\n",
       "      <th>split_OLS_grad_boost</th>\n",
       "      <th>MSCI Asia Ex Japan</th>\n",
       "      <th>SP &amp; ASX 200</th>\n",
       "      <th>ASX Small Ords</th>\n",
       "      <th>...</th>\n",
       "      <th>Australian Government Bond .1</th>\n",
       "      <th>Australian Bank Bill 90 Days</th>\n",
       "      <th>JP Morgan EMBI Global Diversified Composite</th>\n",
       "      <th>Barclays Global Aggregate</th>\n",
       "      <th>Barclays Global High Yield Total return</th>\n",
       "      <th>Barclays US Treasury</th>\n",
       "      <th>Bloomberg Commodity Index</th>\n",
       "      <th>WTI Crude Spot</th>\n",
       "      <th>Gold</th>\n",
       "      <th>Rogers Int Agriculture Commodity Index</th>\n",
       "    </tr>\n",
       "    <tr>\n",
       "      <th>yyyymm</th>\n",
       "      <th></th>\n",
       "      <th></th>\n",
       "      <th></th>\n",
       "      <th></th>\n",
       "      <th></th>\n",
       "      <th></th>\n",
       "      <th></th>\n",
       "      <th></th>\n",
       "      <th></th>\n",
       "      <th></th>\n",
       "      <th></th>\n",
       "      <th></th>\n",
       "      <th></th>\n",
       "      <th></th>\n",
       "      <th></th>\n",
       "      <th></th>\n",
       "      <th></th>\n",
       "      <th></th>\n",
       "      <th></th>\n",
       "      <th></th>\n",
       "      <th></th>\n",
       "    </tr>\n",
       "  </thead>\n",
       "  <tbody>\n",
       "    <tr>\n",
       "      <th>1995-03-01</th>\n",
       "      <td>0.100294</td>\n",
       "      <td>0.249548</td>\n",
       "      <td>0.123628</td>\n",
       "      <td>0.058921</td>\n",
       "      <td>0.058873</td>\n",
       "      <td>0.253998</td>\n",
       "      <td>0.091251</td>\n",
       "      <td>0.007301</td>\n",
       "      <td>0.171111</td>\n",
       "      <td>0.182334</td>\n",
       "      <td>...</td>\n",
       "      <td>0.148814</td>\n",
       "      <td>0.075608</td>\n",
       "      <td>0.322708</td>\n",
       "      <td>0.085416</td>\n",
       "      <td>0.229039</td>\n",
       "      <td>0.099677</td>\n",
       "      <td>0.082657</td>\n",
       "      <td>0.051157</td>\n",
       "      <td>0.010294</td>\n",
       "      <td>0.186924</td>\n",
       "    </tr>\n",
       "    <tr>\n",
       "      <th>1995-04-01</th>\n",
       "      <td>0.131060</td>\n",
       "      <td>0.101658</td>\n",
       "      <td>0.150937</td>\n",
       "      <td>0.050941</td>\n",
       "      <td>0.050871</td>\n",
       "      <td>0.239764</td>\n",
       "      <td>0.100904</td>\n",
       "      <td>0.004746</td>\n",
       "      <td>0.144829</td>\n",
       "      <td>0.178268</td>\n",
       "      <td>...</td>\n",
       "      <td>0.117775</td>\n",
       "      <td>0.075113</td>\n",
       "      <td>0.263373</td>\n",
       "      <td>0.065311</td>\n",
       "      <td>0.196227</td>\n",
       "      <td>0.080258</td>\n",
       "      <td>0.095341</td>\n",
       "      <td>-0.038078</td>\n",
       "      <td>0.011686</td>\n",
       "      <td>0.227845</td>\n",
       "    </tr>\n",
       "    <tr>\n",
       "      <th>1995-05-01</th>\n",
       "      <td>0.091407</td>\n",
       "      <td>0.101658</td>\n",
       "      <td>0.061792</td>\n",
       "      <td>0.054974</td>\n",
       "      <td>0.054875</td>\n",
       "      <td>0.226692</td>\n",
       "      <td>0.058334</td>\n",
       "      <td>-0.034476</td>\n",
       "      <td>0.132476</td>\n",
       "      <td>0.191340</td>\n",
       "      <td>...</td>\n",
       "      <td>0.071056</td>\n",
       "      <td>0.074691</td>\n",
       "      <td>0.172669</td>\n",
       "      <td>0.035853</td>\n",
       "      <td>0.156796</td>\n",
       "      <td>0.038997</td>\n",
       "      <td>0.071215</td>\n",
       "      <td>-0.059874</td>\n",
       "      <td>0.017284</td>\n",
       "      <td>0.168531</td>\n",
       "    </tr>\n",
       "    <tr>\n",
       "      <th>1995-06-01</th>\n",
       "      <td>0.096128</td>\n",
       "      <td>0.013610</td>\n",
       "      <td>0.089519</td>\n",
       "      <td>0.046778</td>\n",
       "      <td>0.046614</td>\n",
       "      <td>0.207891</td>\n",
       "      <td>0.068067</td>\n",
       "      <td>0.007961</td>\n",
       "      <td>0.109645</td>\n",
       "      <td>0.200671</td>\n",
       "      <td>...</td>\n",
       "      <td>0.053399</td>\n",
       "      <td>0.074672</td>\n",
       "      <td>0.180277</td>\n",
       "      <td>0.040738</td>\n",
       "      <td>0.164558</td>\n",
       "      <td>0.043738</td>\n",
       "      <td>0.083167</td>\n",
       "      <td>0.082330</td>\n",
       "      <td>-0.010849</td>\n",
       "      <td>0.093947</td>\n",
       "    </tr>\n",
       "    <tr>\n",
       "      <th>1995-07-01</th>\n",
       "      <td>0.054776</td>\n",
       "      <td>0.013610</td>\n",
       "      <td>0.075668</td>\n",
       "      <td>0.042315</td>\n",
       "      <td>0.042151</td>\n",
       "      <td>0.129781</td>\n",
       "      <td>0.058910</td>\n",
       "      <td>-0.051291</td>\n",
       "      <td>0.032910</td>\n",
       "      <td>0.135909</td>\n",
       "      <td>...</td>\n",
       "      <td>0.089955</td>\n",
       "      <td>0.075348</td>\n",
       "      <td>0.256585</td>\n",
       "      <td>0.049044</td>\n",
       "      <td>0.154019</td>\n",
       "      <td>0.049826</td>\n",
       "      <td>0.107396</td>\n",
       "      <td>0.106787</td>\n",
       "      <td>0.011564</td>\n",
       "      <td>0.109375</td>\n",
       "    </tr>\n",
       "  </tbody>\n",
       "</table>\n",
       "<p>5 rows × 34 columns</p>\n",
       "</div>"
      ],
      "text/plain": [
       "            xg_boost  dec_tree  grad_boost     Ridge       OLS    actual  \\\n",
       "yyyymm                                                                     \n",
       "1995-03-01  0.100294  0.249548    0.123628  0.058921  0.058873  0.253998   \n",
       "1995-04-01  0.131060  0.101658    0.150937  0.050941  0.050871  0.239764   \n",
       "1995-05-01  0.091407  0.101658    0.061792  0.054974  0.054875  0.226692   \n",
       "1995-06-01  0.096128  0.013610    0.089519  0.046778  0.046614  0.207891   \n",
       "1995-07-01  0.054776  0.013610    0.075668  0.042315  0.042151  0.129781   \n",
       "\n",
       "            split_OLS_grad_boost  MSCI Asia Ex Japan   SP & ASX 200   \\\n",
       "yyyymm                                                                 \n",
       "1995-03-01              0.091251            0.007301        0.171111   \n",
       "1995-04-01              0.100904            0.004746        0.144829   \n",
       "1995-05-01              0.058334           -0.034476        0.132476   \n",
       "1995-06-01              0.068067            0.007961        0.109645   \n",
       "1995-07-01              0.058910           -0.051291        0.032910   \n",
       "\n",
       "             ASX Small Ords   ...   Australian Government Bond .1  \\\n",
       "yyyymm                        ...                                   \n",
       "1995-03-01          0.182334  ...                        0.148814   \n",
       "1995-04-01          0.178268  ...                        0.117775   \n",
       "1995-05-01          0.191340  ...                        0.071056   \n",
       "1995-06-01          0.200671  ...                        0.053399   \n",
       "1995-07-01          0.135909  ...                        0.089955   \n",
       "\n",
       "             Australian Bank Bill 90 Days   \\\n",
       "yyyymm                                       \n",
       "1995-03-01                        0.075608   \n",
       "1995-04-01                        0.075113   \n",
       "1995-05-01                        0.074691   \n",
       "1995-06-01                        0.074672   \n",
       "1995-07-01                        0.075348   \n",
       "\n",
       "             JP Morgan EMBI Global Diversified Composite   \\\n",
       "yyyymm                                                      \n",
       "1995-03-01                                       0.322708   \n",
       "1995-04-01                                       0.263373   \n",
       "1995-05-01                                       0.172669   \n",
       "1995-06-01                                       0.180277   \n",
       "1995-07-01                                       0.256585   \n",
       "\n",
       "             Barclays Global Aggregate   \\\n",
       "yyyymm                                    \n",
       "1995-03-01                     0.085416   \n",
       "1995-04-01                     0.065311   \n",
       "1995-05-01                     0.035853   \n",
       "1995-06-01                     0.040738   \n",
       "1995-07-01                     0.049044   \n",
       "\n",
       "             Barclays Global High Yield Total return    Barclays US Treasury   \\\n",
       "yyyymm                                                                          \n",
       "1995-03-01                                   0.229039                0.099677   \n",
       "1995-04-01                                   0.196227                0.080258   \n",
       "1995-05-01                                   0.156796                0.038997   \n",
       "1995-06-01                                   0.164558                0.043738   \n",
       "1995-07-01                                   0.154019                0.049826   \n",
       "\n",
       "             Bloomberg Commodity Index    WTI Crude Spot     Gold    \\\n",
       "yyyymm                                                                \n",
       "1995-03-01                     0.082657          0.051157  0.010294   \n",
       "1995-04-01                     0.095341         -0.038078  0.011686   \n",
       "1995-05-01                     0.071215         -0.059874  0.017284   \n",
       "1995-06-01                     0.083167          0.082330 -0.010849   \n",
       "1995-07-01                     0.107396          0.106787  0.011564   \n",
       "\n",
       "             Rogers Int Agriculture Commodity Index   \n",
       "yyyymm                                                \n",
       "1995-03-01                                  0.186924  \n",
       "1995-04-01                                  0.227845  \n",
       "1995-05-01                                  0.168531  \n",
       "1995-06-01                                  0.093947  \n",
       "1995-07-01                                  0.109375  \n",
       "\n",
       "[5 rows x 34 columns]"
      ]
     },
     "execution_count": 199,
     "metadata": {},
     "output_type": "execute_result"
    }
   ],
   "source": [
    "combined = pd.concat([results, global_12m], axis = 1)\n",
    "combined.head()"
   ]
  },
  {
   "cell_type": "code",
   "execution_count": 200,
   "id": "a37f003b",
   "metadata": {},
   "outputs": [],
   "source": [
    "# create empty dataframes to store results\n",
    "correlations_df = pd.DataFrame()\n",
    "r2_df = pd.DataFrame()\n",
    "\n",
    "# iterate over target variables\n",
    "for target_col in combined.columns[0:5]:\n",
    "    corr_values = []\n",
    "    r2_values = []\n",
    "    # iterate over independent variables\n",
    "    for ind_col in combined.columns[7:]:\n",
    "        # calculate correlation and r2\n",
    "        corr, r2 = calculate_correlation(combined, ind_col, target_col)\n",
    "        # append values to lists\n",
    "        corr_values.append(corr)\n",
    "        r2_values.append(r2)\n",
    "    # add results to dataframes\n",
    "    correlations_df[target_col] = corr_values\n",
    "    r2_df[target_col] = r2_values\n",
    "\n",
    "# set index of dataframes to independent variable names\n",
    "correlations_df.index = combined.columns[7:]\n",
    "r2_df.index = combined.columns[7:]"
   ]
  },
  {
   "cell_type": "code",
   "execution_count": 201,
   "id": "0c7439d1",
   "metadata": {},
   "outputs": [
    {
     "data": {
      "text/html": [
       "<div>\n",
       "<style scoped>\n",
       "    .dataframe tbody tr th:only-of-type {\n",
       "        vertical-align: middle;\n",
       "    }\n",
       "\n",
       "    .dataframe tbody tr th {\n",
       "        vertical-align: top;\n",
       "    }\n",
       "\n",
       "    .dataframe thead th {\n",
       "        text-align: right;\n",
       "    }\n",
       "</style>\n",
       "<table border=\"1\" class=\"dataframe\">\n",
       "  <thead>\n",
       "    <tr style=\"text-align: right;\">\n",
       "      <th></th>\n",
       "      <th>xg_boost</th>\n",
       "      <th>dec_tree</th>\n",
       "      <th>grad_boost</th>\n",
       "      <th>Ridge</th>\n",
       "      <th>OLS</th>\n",
       "    </tr>\n",
       "  </thead>\n",
       "  <tbody>\n",
       "    <tr>\n",
       "      <th>Gold</th>\n",
       "      <td>0.060701</td>\n",
       "      <td>7.866381e-02</td>\n",
       "      <td>0.052156</td>\n",
       "      <td>0.223586</td>\n",
       "      <td>0.223966</td>\n",
       "    </tr>\n",
       "    <tr>\n",
       "      <th>Barclays Global High Yield Total return</th>\n",
       "      <td>0.036956</td>\n",
       "      <td>5.052769e-02</td>\n",
       "      <td>0.051956</td>\n",
       "      <td>0.206301</td>\n",
       "      <td>0.206575</td>\n",
       "    </tr>\n",
       "    <tr>\n",
       "      <th>JP Morgan EMBI Global Diversified Composite</th>\n",
       "      <td>0.097774</td>\n",
       "      <td>7.585252e-02</td>\n",
       "      <td>0.086096</td>\n",
       "      <td>0.200491</td>\n",
       "      <td>0.200473</td>\n",
       "    </tr>\n",
       "    <tr>\n",
       "      <th>MSCI China</th>\n",
       "      <td>0.029483</td>\n",
       "      <td>3.470902e-02</td>\n",
       "      <td>0.046333</td>\n",
       "      <td>0.122681</td>\n",
       "      <td>0.122579</td>\n",
       "    </tr>\n",
       "    <tr>\n",
       "      <th>MSCI NZ</th>\n",
       "      <td>0.033221</td>\n",
       "      <td>4.498304e-02</td>\n",
       "      <td>0.040746</td>\n",
       "      <td>0.118856</td>\n",
       "      <td>0.118732</td>\n",
       "    </tr>\n",
       "    <tr>\n",
       "      <th>ASX Small Ords</th>\n",
       "      <td>0.021775</td>\n",
       "      <td>3.541278e-02</td>\n",
       "      <td>0.030029</td>\n",
       "      <td>0.100970</td>\n",
       "      <td>0.100900</td>\n",
       "    </tr>\n",
       "    <tr>\n",
       "      <th>Barclays Global Aggregate</th>\n",
       "      <td>0.038006</td>\n",
       "      <td>2.960828e-02</td>\n",
       "      <td>0.019944</td>\n",
       "      <td>0.087189</td>\n",
       "      <td>0.087387</td>\n",
       "    </tr>\n",
       "    <tr>\n",
       "      <th>SP500</th>\n",
       "      <td>0.015662</td>\n",
       "      <td>1.538636e-02</td>\n",
       "      <td>0.001875</td>\n",
       "      <td>0.076665</td>\n",
       "      <td>0.077275</td>\n",
       "    </tr>\n",
       "    <tr>\n",
       "      <th>Barclays US Treasury</th>\n",
       "      <td>0.024526</td>\n",
       "      <td>3.670037e-02</td>\n",
       "      <td>0.047124</td>\n",
       "      <td>0.049963</td>\n",
       "      <td>0.049827</td>\n",
       "    </tr>\n",
       "    <tr>\n",
       "      <th>Bloomberg Commodity Index</th>\n",
       "      <td>0.085652</td>\n",
       "      <td>4.454035e-02</td>\n",
       "      <td>0.059007</td>\n",
       "      <td>0.042238</td>\n",
       "      <td>0.042395</td>\n",
       "    </tr>\n",
       "    <tr>\n",
       "      <th>MSCI Brazil</th>\n",
       "      <td>0.002016</td>\n",
       "      <td>4.100363e-03</td>\n",
       "      <td>0.007629</td>\n",
       "      <td>0.039468</td>\n",
       "      <td>0.039360</td>\n",
       "    </tr>\n",
       "    <tr>\n",
       "      <th>MSCI ACWI</th>\n",
       "      <td>0.011142</td>\n",
       "      <td>5.820722e-03</td>\n",
       "      <td>0.000188</td>\n",
       "      <td>0.032000</td>\n",
       "      <td>0.032396</td>\n",
       "    </tr>\n",
       "    <tr>\n",
       "      <th>SP &amp; ASX 200</th>\n",
       "      <td>0.000163</td>\n",
       "      <td>6.742455e-03</td>\n",
       "      <td>0.003700</td>\n",
       "      <td>0.031229</td>\n",
       "      <td>0.031105</td>\n",
       "    </tr>\n",
       "    <tr>\n",
       "      <th>Australian Government Bond .1</th>\n",
       "      <td>0.015613</td>\n",
       "      <td>6.624720e-03</td>\n",
       "      <td>0.017485</td>\n",
       "      <td>0.027941</td>\n",
       "      <td>0.028169</td>\n",
       "    </tr>\n",
       "    <tr>\n",
       "      <th>Australian Government Bond</th>\n",
       "      <td>0.001078</td>\n",
       "      <td>1.683012e-03</td>\n",
       "      <td>0.005643</td>\n",
       "      <td>0.026500</td>\n",
       "      <td>0.026593</td>\n",
       "    </tr>\n",
       "    <tr>\n",
       "      <th>MSCI India</th>\n",
       "      <td>0.000051</td>\n",
       "      <td>2.569796e-03</td>\n",
       "      <td>0.004070</td>\n",
       "      <td>0.026223</td>\n",
       "      <td>0.026215</td>\n",
       "    </tr>\n",
       "    <tr>\n",
       "      <th>MSCI Korea</th>\n",
       "      <td>0.000208</td>\n",
       "      <td>5.823204e-06</td>\n",
       "      <td>0.001162</td>\n",
       "      <td>0.019362</td>\n",
       "      <td>0.019445</td>\n",
       "    </tr>\n",
       "    <tr>\n",
       "      <th>MSCI Taiwan</th>\n",
       "      <td>0.003946</td>\n",
       "      <td>7.264738e-03</td>\n",
       "      <td>0.021830</td>\n",
       "      <td>0.012306</td>\n",
       "      <td>0.012235</td>\n",
       "    </tr>\n",
       "    <tr>\n",
       "      <th>Rogers Int Agriculture Commodity Index</th>\n",
       "      <td>0.001064</td>\n",
       "      <td>1.337511e-06</td>\n",
       "      <td>0.000087</td>\n",
       "      <td>0.007748</td>\n",
       "      <td>0.007885</td>\n",
       "    </tr>\n",
       "    <tr>\n",
       "      <th>MSCI Asia Ex Japan</th>\n",
       "      <td>0.002064</td>\n",
       "      <td>7.285014e-06</td>\n",
       "      <td>0.002523</td>\n",
       "      <td>0.006332</td>\n",
       "      <td>0.006263</td>\n",
       "    </tr>\n",
       "    <tr>\n",
       "      <th>MSCI UK</th>\n",
       "      <td>0.001783</td>\n",
       "      <td>1.256602e-05</td>\n",
       "      <td>0.000167</td>\n",
       "      <td>0.006075</td>\n",
       "      <td>0.006253</td>\n",
       "    </tr>\n",
       "    <tr>\n",
       "      <th>Australian Corporate Bond</th>\n",
       "      <td>0.000017</td>\n",
       "      <td>1.333602e-04</td>\n",
       "      <td>0.001861</td>\n",
       "      <td>0.003649</td>\n",
       "      <td>0.003668</td>\n",
       "    </tr>\n",
       "    <tr>\n",
       "      <th>MSCI Japan</th>\n",
       "      <td>0.007652</td>\n",
       "      <td>2.876400e-03</td>\n",
       "      <td>0.000032</td>\n",
       "      <td>0.002955</td>\n",
       "      <td>0.003020</td>\n",
       "    </tr>\n",
       "    <tr>\n",
       "      <th>NAREIT ALL Equity Reits</th>\n",
       "      <td>0.009415</td>\n",
       "      <td>3.606676e-07</td>\n",
       "      <td>0.004956</td>\n",
       "      <td>0.002049</td>\n",
       "      <td>0.002089</td>\n",
       "    </tr>\n",
       "    <tr>\n",
       "      <th>WTI Crude Spot</th>\n",
       "      <td>0.014999</td>\n",
       "      <td>7.322288e-03</td>\n",
       "      <td>0.007566</td>\n",
       "      <td>0.001065</td>\n",
       "      <td>0.001085</td>\n",
       "    </tr>\n",
       "    <tr>\n",
       "      <th>Australian Bank Bill 90 Days</th>\n",
       "      <td>0.012647</td>\n",
       "      <td>1.072540e-02</td>\n",
       "      <td>0.018502</td>\n",
       "      <td>0.000847</td>\n",
       "      <td>0.000865</td>\n",
       "    </tr>\n",
       "    <tr>\n",
       "      <th>MSCI Global Small</th>\n",
       "      <td>0.020863</td>\n",
       "      <td>3.667278e-03</td>\n",
       "      <td>0.003201</td>\n",
       "      <td>0.000027</td>\n",
       "      <td>0.000031</td>\n",
       "    </tr>\n",
       "  </tbody>\n",
       "</table>\n",
       "</div>"
      ],
      "text/plain": [
       "                                               xg_boost      dec_tree  \\\n",
       " Gold                                          0.060701  7.866381e-02   \n",
       " Barclays Global High Yield Total return       0.036956  5.052769e-02   \n",
       " JP Morgan EMBI Global Diversified Composite   0.097774  7.585252e-02   \n",
       " MSCI China                                    0.029483  3.470902e-02   \n",
       " MSCI NZ                                       0.033221  4.498304e-02   \n",
       " ASX Small Ords                                0.021775  3.541278e-02   \n",
       " Barclays Global Aggregate                     0.038006  2.960828e-02   \n",
       " SP500                                         0.015662  1.538636e-02   \n",
       " Barclays US Treasury                          0.024526  3.670037e-02   \n",
       " Bloomberg Commodity Index                     0.085652  4.454035e-02   \n",
       " MSCI Brazil                                   0.002016  4.100363e-03   \n",
       " MSCI ACWI                                     0.011142  5.820722e-03   \n",
       " SP & ASX 200                                  0.000163  6.742455e-03   \n",
       " Australian Government Bond .1                 0.015613  6.624720e-03   \n",
       " Australian Government Bond                    0.001078  1.683012e-03   \n",
       " MSCI India                                    0.000051  2.569796e-03   \n",
       " MSCI Korea                                    0.000208  5.823204e-06   \n",
       " MSCI Taiwan                                   0.003946  7.264738e-03   \n",
       " Rogers Int Agriculture Commodity Index        0.001064  1.337511e-06   \n",
       "MSCI Asia Ex Japan                             0.002064  7.285014e-06   \n",
       " MSCI UK                                       0.001783  1.256602e-05   \n",
       " Australian Corporate Bond                     0.000017  1.333602e-04   \n",
       " MSCI Japan                                    0.007652  2.876400e-03   \n",
       " NAREIT ALL Equity Reits                       0.009415  3.606676e-07   \n",
       " WTI Crude Spot                                0.014999  7.322288e-03   \n",
       " Australian Bank Bill 90 Days                  0.012647  1.072540e-02   \n",
       " MSCI Global Small                             0.020863  3.667278e-03   \n",
       "\n",
       "                                               grad_boost     Ridge       OLS  \n",
       " Gold                                            0.052156  0.223586  0.223966  \n",
       " Barclays Global High Yield Total return         0.051956  0.206301  0.206575  \n",
       " JP Morgan EMBI Global Diversified Composite     0.086096  0.200491  0.200473  \n",
       " MSCI China                                      0.046333  0.122681  0.122579  \n",
       " MSCI NZ                                         0.040746  0.118856  0.118732  \n",
       " ASX Small Ords                                  0.030029  0.100970  0.100900  \n",
       " Barclays Global Aggregate                       0.019944  0.087189  0.087387  \n",
       " SP500                                           0.001875  0.076665  0.077275  \n",
       " Barclays US Treasury                            0.047124  0.049963  0.049827  \n",
       " Bloomberg Commodity Index                       0.059007  0.042238  0.042395  \n",
       " MSCI Brazil                                     0.007629  0.039468  0.039360  \n",
       " MSCI ACWI                                       0.000188  0.032000  0.032396  \n",
       " SP & ASX 200                                    0.003700  0.031229  0.031105  \n",
       " Australian Government Bond .1                   0.017485  0.027941  0.028169  \n",
       " Australian Government Bond                      0.005643  0.026500  0.026593  \n",
       " MSCI India                                      0.004070  0.026223  0.026215  \n",
       " MSCI Korea                                      0.001162  0.019362  0.019445  \n",
       " MSCI Taiwan                                     0.021830  0.012306  0.012235  \n",
       " Rogers Int Agriculture Commodity Index          0.000087  0.007748  0.007885  \n",
       "MSCI Asia Ex Japan                               0.002523  0.006332  0.006263  \n",
       " MSCI UK                                         0.000167  0.006075  0.006253  \n",
       " Australian Corporate Bond                       0.001861  0.003649  0.003668  \n",
       " MSCI Japan                                      0.000032  0.002955  0.003020  \n",
       " NAREIT ALL Equity Reits                         0.004956  0.002049  0.002089  \n",
       " WTI Crude Spot                                  0.007566  0.001065  0.001085  \n",
       " Australian Bank Bill 90 Days                    0.018502  0.000847  0.000865  \n",
       " MSCI Global Small                               0.003201  0.000027  0.000031  "
      ]
     },
     "execution_count": 201,
     "metadata": {},
     "output_type": "execute_result"
    }
   ],
   "source": [
    "r2_df.sort_values('OLS', ascending=False)"
   ]
  },
  {
   "cell_type": "code",
   "execution_count": null,
   "id": "1fc52f61",
   "metadata": {},
   "outputs": [],
   "source": []
  },
  {
   "cell_type": "code",
   "execution_count": 202,
   "id": "58774a0e",
   "metadata": {},
   "outputs": [
    {
     "data": {
      "text/plain": [
       "<AxesSubplot:xlabel='grad_boost', ylabel=' SP500 '>"
      ]
     },
     "execution_count": 202,
     "metadata": {},
     "output_type": "execute_result"
    },
    {
     "data": {
      "image/png": "[encoded data removed]",
      "text/plain": [
       "<Figure size 640x480 with 1 Axes>"
      ]
     },
     "metadata": {},
     "output_type": "display_data"
    }
   ],
   "source": [
    "combined.plot(kind=\"scatter\", y=' SP500 ', x='grad_boost')"
   ]
  },
  {
   "cell_type": "code",
   "execution_count": null,
   "id": "1d053ba3",
   "metadata": {},
   "outputs": [],
   "source": []
  }
 ],
 "metadata": {
  "kernelspec": {
   "display_name": "dev",
   "language": "python",
   "name": "python3"
  },
  "language_info": {
   "codemirror_mode": {
    "name": "ipython",
    "version": 3
   },
   "file_extension": ".py",
   "mimetype": "text/x-python",
   "name": "python",
   "nbconvert_exporter": "python",
   "pygments_lexer": "ipython3",
   "version": "3.7.13"
  },
  "vscode": {
   "interpreter": {
    "hash": "4396f389b93e7269692bd3bea4c62813bbe379469bde939b058805f538feec11"
   }
  }
 },
 "nbformat": 4,
 "nbformat_minor": 5
}
