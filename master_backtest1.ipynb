{
 "cells": [
  {
   "cell_type": "code",
   "execution_count": 3,
   "id": "4f85441d",
   "metadata": {},
   "outputs": [],
   "source": [
    "import pandas as pd\n",
    "import numpy as np\n",
    "import yfinance as yf"
   ]
  },
  {
   "cell_type": "code",
   "execution_count": 4,
   "id": "cc807791",
   "metadata": {},
   "outputs": [],
   "source": [
    "ticker = pd.read_html(\"https://en.wikipedia.org/wiki/Nasdaq-100\")[4]"
   ]
  },
  {
   "cell_type": "code",
   "execution_count": 5,
   "id": "919636c9",
   "metadata": {
    "tags": []
   },
   "outputs": [],
   "source": [
    "tickers = ticker.Ticker.to_list()"
   ]
  },
  {
   "cell_type": "code",
   "execution_count": 6,
   "id": "b99031a5",
   "metadata": {},
   "outputs": [
    {
     "name": "stdout",
     "output_type": "stream",
     "text": [
      "[*********************100%***********************]  101 of 101 completed\n"
     ]
    }
   ],
   "source": [
    "df = yf.download(tickers,start='2010-01-01')['Adj Close']"
   ]
  },
  {
   "cell_type": "markdown",
   "id": "524fe42d",
   "metadata": {},
   "source": [
    "### df is our dataframe of daily price"
   ]
  },
  {
   "cell_type": "code",
   "execution_count": 7,
   "id": "749522ea",
   "metadata": {},
   "outputs": [],
   "source": [
    "df = df.dropna(axis=1)"
   ]
  },
  {
   "cell_type": "code",
   "execution_count": 8,
   "id": "282fbd11",
   "metadata": {
    "tags": []
   },
   "outputs": [],
   "source": [
    "#df.pct_change() -- daily return"
   ]
  },
  {
   "cell_type": "markdown",
   "id": "2dbd3189",
   "metadata": {},
   "source": [
    "### mtl is our dataframe of monthly changes from index 1"
   ]
  },
  {
   "cell_type": "markdown",
   "id": "88798989",
   "metadata": {},
   "source": [
    "<br><font color= blue> .resample('M) changes all of the daily returns to momthly returns </font>"
   ]
  },
  {
   "cell_type": "code",
   "execution_count": 9,
   "id": "8940c5f6",
   "metadata": {},
   "outputs": [],
   "source": [
    "mtl = (df.pct_change() +1)[1:].resample('M').prod() #[1:] skips N/A on first row"
   ]
  },
  {
   "cell_type": "markdown",
   "id": "047c851a",
   "metadata": {},
   "source": [
    "At this point, it's indexed to 1, so whatever 'mtl' shows is the monthly movement from '1', simply subtract \"1\" from the number to get the % monthly change"
   ]
  },
  {
   "cell_type": "code",
   "execution_count": 10,
   "id": "a98198af",
   "metadata": {},
   "outputs": [
    {
     "data": {
      "text/html": [
       "<div>\n",
       "<style scoped>\n",
       "    .dataframe tbody tr th:only-of-type {\n",
       "        vertical-align: middle;\n",
       "    }\n",
       "\n",
       "    .dataframe tbody tr th {\n",
       "        vertical-align: top;\n",
       "    }\n",
       "\n",
       "    .dataframe thead th {\n",
       "        text-align: right;\n",
       "    }\n",
       "</style>\n",
       "<table border=\"1\" class=\"dataframe\">\n",
       "  <thead>\n",
       "    <tr style=\"text-align: right;\">\n",
       "      <th></th>\n",
       "      <th>AAPL</th>\n",
       "      <th>ADBE</th>\n",
       "      <th>ADI</th>\n",
       "      <th>ADP</th>\n",
       "      <th>ADSK</th>\n",
       "      <th>AEP</th>\n",
       "      <th>ALGN</th>\n",
       "      <th>AMAT</th>\n",
       "      <th>AMD</th>\n",
       "      <th>AMGN</th>\n",
       "      <th>...</th>\n",
       "      <th>SGEN</th>\n",
       "      <th>SIRI</th>\n",
       "      <th>SNPS</th>\n",
       "      <th>TMUS</th>\n",
       "      <th>TXN</th>\n",
       "      <th>VRSK</th>\n",
       "      <th>VRTX</th>\n",
       "      <th>WBA</th>\n",
       "      <th>WBD</th>\n",
       "      <th>XEL</th>\n",
       "    </tr>\n",
       "    <tr>\n",
       "      <th>Date</th>\n",
       "      <th></th>\n",
       "      <th></th>\n",
       "      <th></th>\n",
       "      <th></th>\n",
       "      <th></th>\n",
       "      <th></th>\n",
       "      <th></th>\n",
       "      <th></th>\n",
       "      <th></th>\n",
       "      <th></th>\n",
       "      <th></th>\n",
       "      <th></th>\n",
       "      <th></th>\n",
       "      <th></th>\n",
       "      <th></th>\n",
       "      <th></th>\n",
       "      <th></th>\n",
       "      <th></th>\n",
       "      <th></th>\n",
       "      <th></th>\n",
       "      <th></th>\n",
       "    </tr>\n",
       "  </thead>\n",
       "  <tbody>\n",
       "    <tr>\n",
       "      <th>2010-01-31</th>\n",
       "      <td>0.911403</td>\n",
       "      <td>0.878195</td>\n",
       "      <td>0.853705</td>\n",
       "      <td>0.952592</td>\n",
       "      <td>0.936246</td>\n",
       "      <td>0.995976</td>\n",
       "      <td>1.052189</td>\n",
       "      <td>0.873744</td>\n",
       "      <td>0.770661</td>\n",
       "      <td>1.033763</td>\n",
       "      <td>...</td>\n",
       "      <td>1.015748</td>\n",
       "      <td>1.400000</td>\n",
       "      <td>0.954668</td>\n",
       "      <td>0.737877</td>\n",
       "      <td>0.867818</td>\n",
       "      <td>0.928666</td>\n",
       "      <td>0.896149</td>\n",
       "      <td>0.981754</td>\n",
       "      <td>0.967069</td>\n",
       "      <td>0.979265</td>\n",
       "    </tr>\n",
       "    <tr>\n",
       "      <th>2010-02-28</th>\n",
       "      <td>1.065396</td>\n",
       "      <td>1.072755</td>\n",
       "      <td>1.084570</td>\n",
       "      <td>1.020103</td>\n",
       "      <td>1.171921</td>\n",
       "      <td>0.982246</td>\n",
       "      <td>0.965333</td>\n",
       "      <td>1.009773</td>\n",
       "      <td>1.060322</td>\n",
       "      <td>0.968023</td>\n",
       "      <td>...</td>\n",
       "      <td>0.988372</td>\n",
       "      <td>1.214285</td>\n",
       "      <td>1.029619</td>\n",
       "      <td>1.095915</td>\n",
       "      <td>1.083555</td>\n",
       "      <td>1.006401</td>\n",
       "      <td>1.055729</td>\n",
       "      <td>0.981576</td>\n",
       "      <td>1.050236</td>\n",
       "      <td>1.001444</td>\n",
       "    </tr>\n",
       "    <tr>\n",
       "      <th>2010-03-31</th>\n",
       "      <td>1.148470</td>\n",
       "      <td>1.020779</td>\n",
       "      <td>0.992336</td>\n",
       "      <td>1.077120</td>\n",
       "      <td>1.053802</td>\n",
       "      <td>1.016657</td>\n",
       "      <td>1.068508</td>\n",
       "      <td>1.100490</td>\n",
       "      <td>1.171934</td>\n",
       "      <td>1.057057</td>\n",
       "      <td>...</td>\n",
       "      <td>1.170588</td>\n",
       "      <td>0.852941</td>\n",
       "      <td>1.021461</td>\n",
       "      <td>1.147488</td>\n",
       "      <td>1.003691</td>\n",
       "      <td>0.996466</td>\n",
       "      <td>1.008140</td>\n",
       "      <td>1.052497</td>\n",
       "      <td>1.084751</td>\n",
       "      <td>1.030484</td>\n",
       "    </tr>\n",
       "    <tr>\n",
       "      <th>2010-04-30</th>\n",
       "      <td>1.111022</td>\n",
       "      <td>0.949958</td>\n",
       "      <td>1.038515</td>\n",
       "      <td>0.975264</td>\n",
       "      <td>1.156910</td>\n",
       "      <td>1.003510</td>\n",
       "      <td>0.879007</td>\n",
       "      <td>1.023014</td>\n",
       "      <td>0.978425</td>\n",
       "      <td>0.957721</td>\n",
       "      <td>...</td>\n",
       "      <td>1.055276</td>\n",
       "      <td>1.356322</td>\n",
       "      <td>1.012964</td>\n",
       "      <td>1.077684</td>\n",
       "      <td>1.067762</td>\n",
       "      <td>0.993617</td>\n",
       "      <td>0.948618</td>\n",
       "      <td>0.947695</td>\n",
       "      <td>1.146197</td>\n",
       "      <td>1.025943</td>\n",
       "    </tr>\n",
       "    <tr>\n",
       "      <th>2010-05-31</th>\n",
       "      <td>0.983875</td>\n",
       "      <td>0.954762</td>\n",
       "      <td>0.982144</td>\n",
       "      <td>0.942587</td>\n",
       "      <td>0.860841</td>\n",
       "      <td>0.943656</td>\n",
       "      <td>0.877647</td>\n",
       "      <td>0.942779</td>\n",
       "      <td>0.944873</td>\n",
       "      <td>0.903507</td>\n",
       "      <td>...</td>\n",
       "      <td>1.050000</td>\n",
       "      <td>0.872881</td>\n",
       "      <td>0.945278</td>\n",
       "      <td>1.178244</td>\n",
       "      <td>0.938870</td>\n",
       "      <td>1.079586</td>\n",
       "      <td>0.892185</td>\n",
       "      <td>0.915058</td>\n",
       "      <td>0.972373</td>\n",
       "      <td>0.942069</td>\n",
       "    </tr>\n",
       "  </tbody>\n",
       "</table>\n",
       "<p>5 rows × 78 columns</p>\n",
       "</div>"
      ],
      "text/plain": [
       "                AAPL      ADBE       ADI       ADP      ADSK       AEP  \\\n",
       "Date                                                                     \n",
       "2010-01-31  0.911403  0.878195  0.853705  0.952592  0.936246  0.995976   \n",
       "2010-02-28  1.065396  1.072755  1.084570  1.020103  1.171921  0.982246   \n",
       "2010-03-31  1.148470  1.020779  0.992336  1.077120  1.053802  1.016657   \n",
       "2010-04-30  1.111022  0.949958  1.038515  0.975264  1.156910  1.003510   \n",
       "2010-05-31  0.983875  0.954762  0.982144  0.942587  0.860841  0.943656   \n",
       "\n",
       "                ALGN      AMAT       AMD      AMGN  ...      SGEN      SIRI  \\\n",
       "Date                                                ...                       \n",
       "2010-01-31  1.052189  0.873744  0.770661  1.033763  ...  1.015748  1.400000   \n",
       "2010-02-28  0.965333  1.009773  1.060322  0.968023  ...  0.988372  1.214285   \n",
       "2010-03-31  1.068508  1.100490  1.171934  1.057057  ...  1.170588  0.852941   \n",
       "2010-04-30  0.879007  1.023014  0.978425  0.957721  ...  1.055276  1.356322   \n",
       "2010-05-31  0.877647  0.942779  0.944873  0.903507  ...  1.050000  0.872881   \n",
       "\n",
       "                SNPS      TMUS       TXN      VRSK      VRTX       WBA  \\\n",
       "Date                                                                     \n",
       "2010-01-31  0.954668  0.737877  0.867818  0.928666  0.896149  0.981754   \n",
       "2010-02-28  1.029619  1.095915  1.083555  1.006401  1.055729  0.981576   \n",
       "2010-03-31  1.021461  1.147488  1.003691  0.996466  1.008140  1.052497   \n",
       "2010-04-30  1.012964  1.077684  1.067762  0.993617  0.948618  0.947695   \n",
       "2010-05-31  0.945278  1.178244  0.938870  1.079586  0.892185  0.915058   \n",
       "\n",
       "                 WBD       XEL  \n",
       "Date                            \n",
       "2010-01-31  0.967069  0.979265  \n",
       "2010-02-28  1.050236  1.001444  \n",
       "2010-03-31  1.084751  1.030484  \n",
       "2010-04-30  1.146197  1.025943  \n",
       "2010-05-31  0.972373  0.942069  \n",
       "\n",
       "[5 rows x 78 columns]"
      ]
     },
     "execution_count": 10,
     "metadata": {},
     "output_type": "execute_result"
    }
   ],
   "source": [
    "mtl.head(5)"
   ]
  },
  {
   "cell_type": "markdown",
   "id": "bd43e971",
   "metadata": {},
   "source": [
    "## Creating the Momentum Factors: What does this function do?"
   ]
  },
  {
   "cell_type": "markdown",
   "id": "b3a063af",
   "metadata": {},
   "source": [
    "Takes 2 inputs, in our case, because we are going by monthly intervals, the 'df' component takes in the monthly returns (index to 1) as the baseline.<br><br> It then takes in an 'n' value which is the number of months you want to roll over. <br> <br> **For example, Given we are starting with 'mtl' being the t / t-1 return, if we have an 'n' value of 12, then it will take the t / t-12 return (12-monthly trailing return)**<br>"
   ]
  },
  {
   "cell_type": "code",
   "execution_count": 11,
   "id": "e53ad3fe",
   "metadata": {},
   "outputs": [],
   "source": [
    "def get_rolling_ret(df,n):\n",
    "    return df.rolling(n).apply(np.prod)"
   ]
  },
  {
   "cell_type": "markdown",
   "id": "27e3420c",
   "metadata": {},
   "source": [
    "<br> **Now, for whatever \"momentum\" strategy we're trying to backtest, we can define different lookback periods...**"
   ]
  },
  {
   "cell_type": "code",
   "execution_count": 12,
   "id": "c9a1088e",
   "metadata": {},
   "outputs": [],
   "source": [
    "ret_12, ret_6, ret_3 = get_rolling_ret(mtl, 12), get_rolling_ret(mtl, 6), get_rolling_ret(mtl, 3)"
   ]
  },
  {
   "cell_type": "markdown",
   "id": "2f6c7e3d",
   "metadata": {},
   "source": [
    "<br><font color= blue> This Dataframe is the previous month's (e.g. t-1) returns. Given academic research shows that we should do t-1 for 12month and 6month momentum, lag_aqr is used to make the factors more robust </font>"
   ]
  },
  {
   "cell_type": "code",
   "execution_count": 17,
   "id": "972048f7",
   "metadata": {},
   "outputs": [
    {
     "data": {
      "text/html": [
       "<div>\n",
       "<style scoped>\n",
       "    .dataframe tbody tr th:only-of-type {\n",
       "        vertical-align: middle;\n",
       "    }\n",
       "\n",
       "    .dataframe tbody tr th {\n",
       "        vertical-align: top;\n",
       "    }\n",
       "\n",
       "    .dataframe thead th {\n",
       "        text-align: right;\n",
       "    }\n",
       "</style>\n",
       "<table border=\"1\" class=\"dataframe\">\n",
       "  <thead>\n",
       "    <tr style=\"text-align: right;\">\n",
       "      <th></th>\n",
       "      <th>AAPL</th>\n",
       "      <th>ADBE</th>\n",
       "      <th>ADI</th>\n",
       "      <th>ADP</th>\n",
       "      <th>ADSK</th>\n",
       "      <th>AEP</th>\n",
       "      <th>ALGN</th>\n",
       "      <th>AMAT</th>\n",
       "      <th>AMD</th>\n",
       "      <th>AMGN</th>\n",
       "      <th>...</th>\n",
       "      <th>SGEN</th>\n",
       "      <th>SIRI</th>\n",
       "      <th>SNPS</th>\n",
       "      <th>TMUS</th>\n",
       "      <th>TXN</th>\n",
       "      <th>VRSK</th>\n",
       "      <th>VRTX</th>\n",
       "      <th>WBA</th>\n",
       "      <th>WBD</th>\n",
       "      <th>XEL</th>\n",
       "    </tr>\n",
       "    <tr>\n",
       "      <th>Date</th>\n",
       "      <th></th>\n",
       "      <th></th>\n",
       "      <th></th>\n",
       "      <th></th>\n",
       "      <th></th>\n",
       "      <th></th>\n",
       "      <th></th>\n",
       "      <th></th>\n",
       "      <th></th>\n",
       "      <th></th>\n",
       "      <th></th>\n",
       "      <th></th>\n",
       "      <th></th>\n",
       "      <th></th>\n",
       "      <th></th>\n",
       "      <th></th>\n",
       "      <th></th>\n",
       "      <th></th>\n",
       "      <th></th>\n",
       "      <th></th>\n",
       "      <th></th>\n",
       "    </tr>\n",
       "  </thead>\n",
       "  <tbody>\n",
       "    <tr>\n",
       "      <th>2010-01-31</th>\n",
       "      <td>NaN</td>\n",
       "      <td>NaN</td>\n",
       "      <td>NaN</td>\n",
       "      <td>NaN</td>\n",
       "      <td>NaN</td>\n",
       "      <td>NaN</td>\n",
       "      <td>NaN</td>\n",
       "      <td>NaN</td>\n",
       "      <td>NaN</td>\n",
       "      <td>NaN</td>\n",
       "      <td>...</td>\n",
       "      <td>NaN</td>\n",
       "      <td>NaN</td>\n",
       "      <td>NaN</td>\n",
       "      <td>NaN</td>\n",
       "      <td>NaN</td>\n",
       "      <td>NaN</td>\n",
       "      <td>NaN</td>\n",
       "      <td>NaN</td>\n",
       "      <td>NaN</td>\n",
       "      <td>NaN</td>\n",
       "    </tr>\n",
       "    <tr>\n",
       "      <th>2010-02-28</th>\n",
       "      <td>0.911403</td>\n",
       "      <td>0.878195</td>\n",
       "      <td>0.853705</td>\n",
       "      <td>0.952592</td>\n",
       "      <td>0.936246</td>\n",
       "      <td>0.995976</td>\n",
       "      <td>1.052189</td>\n",
       "      <td>0.873744</td>\n",
       "      <td>0.770661</td>\n",
       "      <td>1.033763</td>\n",
       "      <td>...</td>\n",
       "      <td>1.015748</td>\n",
       "      <td>1.400000</td>\n",
       "      <td>0.954668</td>\n",
       "      <td>0.737877</td>\n",
       "      <td>0.867818</td>\n",
       "      <td>0.928666</td>\n",
       "      <td>0.896149</td>\n",
       "      <td>0.981754</td>\n",
       "      <td>0.967069</td>\n",
       "      <td>0.979265</td>\n",
       "    </tr>\n",
       "    <tr>\n",
       "      <th>2010-03-31</th>\n",
       "      <td>1.065396</td>\n",
       "      <td>1.072755</td>\n",
       "      <td>1.084570</td>\n",
       "      <td>1.020103</td>\n",
       "      <td>1.171921</td>\n",
       "      <td>0.982246</td>\n",
       "      <td>0.965333</td>\n",
       "      <td>1.009773</td>\n",
       "      <td>1.060322</td>\n",
       "      <td>0.968023</td>\n",
       "      <td>...</td>\n",
       "      <td>0.988372</td>\n",
       "      <td>1.214285</td>\n",
       "      <td>1.029619</td>\n",
       "      <td>1.095915</td>\n",
       "      <td>1.083555</td>\n",
       "      <td>1.006401</td>\n",
       "      <td>1.055729</td>\n",
       "      <td>0.981576</td>\n",
       "      <td>1.050236</td>\n",
       "      <td>1.001444</td>\n",
       "    </tr>\n",
       "    <tr>\n",
       "      <th>2010-04-30</th>\n",
       "      <td>1.148470</td>\n",
       "      <td>1.020779</td>\n",
       "      <td>0.992336</td>\n",
       "      <td>1.077120</td>\n",
       "      <td>1.053802</td>\n",
       "      <td>1.016657</td>\n",
       "      <td>1.068508</td>\n",
       "      <td>1.100490</td>\n",
       "      <td>1.171934</td>\n",
       "      <td>1.057057</td>\n",
       "      <td>...</td>\n",
       "      <td>1.170588</td>\n",
       "      <td>0.852941</td>\n",
       "      <td>1.021461</td>\n",
       "      <td>1.147488</td>\n",
       "      <td>1.003691</td>\n",
       "      <td>0.996466</td>\n",
       "      <td>1.008140</td>\n",
       "      <td>1.052497</td>\n",
       "      <td>1.084751</td>\n",
       "      <td>1.030484</td>\n",
       "    </tr>\n",
       "    <tr>\n",
       "      <th>2010-05-31</th>\n",
       "      <td>1.111022</td>\n",
       "      <td>0.949958</td>\n",
       "      <td>1.038515</td>\n",
       "      <td>0.975264</td>\n",
       "      <td>1.156910</td>\n",
       "      <td>1.003510</td>\n",
       "      <td>0.879007</td>\n",
       "      <td>1.023014</td>\n",
       "      <td>0.978425</td>\n",
       "      <td>0.957721</td>\n",
       "      <td>...</td>\n",
       "      <td>1.055276</td>\n",
       "      <td>1.356322</td>\n",
       "      <td>1.012964</td>\n",
       "      <td>1.077684</td>\n",
       "      <td>1.067762</td>\n",
       "      <td>0.993617</td>\n",
       "      <td>0.948618</td>\n",
       "      <td>0.947695</td>\n",
       "      <td>1.146197</td>\n",
       "      <td>1.025943</td>\n",
       "    </tr>\n",
       "  </tbody>\n",
       "</table>\n",
       "<p>5 rows × 78 columns</p>\n",
       "</div>"
      ],
      "text/plain": [
       "                AAPL      ADBE       ADI       ADP      ADSK       AEP  \\\n",
       "Date                                                                     \n",
       "2010-01-31       NaN       NaN       NaN       NaN       NaN       NaN   \n",
       "2010-02-28  0.911403  0.878195  0.853705  0.952592  0.936246  0.995976   \n",
       "2010-03-31  1.065396  1.072755  1.084570  1.020103  1.171921  0.982246   \n",
       "2010-04-30  1.148470  1.020779  0.992336  1.077120  1.053802  1.016657   \n",
       "2010-05-31  1.111022  0.949958  1.038515  0.975264  1.156910  1.003510   \n",
       "\n",
       "                ALGN      AMAT       AMD      AMGN  ...      SGEN      SIRI  \\\n",
       "Date                                                ...                       \n",
       "2010-01-31       NaN       NaN       NaN       NaN  ...       NaN       NaN   \n",
       "2010-02-28  1.052189  0.873744  0.770661  1.033763  ...  1.015748  1.400000   \n",
       "2010-03-31  0.965333  1.009773  1.060322  0.968023  ...  0.988372  1.214285   \n",
       "2010-04-30  1.068508  1.100490  1.171934  1.057057  ...  1.170588  0.852941   \n",
       "2010-05-31  0.879007  1.023014  0.978425  0.957721  ...  1.055276  1.356322   \n",
       "\n",
       "                SNPS      TMUS       TXN      VRSK      VRTX       WBA  \\\n",
       "Date                                                                     \n",
       "2010-01-31       NaN       NaN       NaN       NaN       NaN       NaN   \n",
       "2010-02-28  0.954668  0.737877  0.867818  0.928666  0.896149  0.981754   \n",
       "2010-03-31  1.029619  1.095915  1.083555  1.006401  1.055729  0.981576   \n",
       "2010-04-30  1.021461  1.147488  1.003691  0.996466  1.008140  1.052497   \n",
       "2010-05-31  1.012964  1.077684  1.067762  0.993617  0.948618  0.947695   \n",
       "\n",
       "                 WBD       XEL  \n",
       "Date                            \n",
       "2010-01-31       NaN       NaN  \n",
       "2010-02-28  0.967069  0.979265  \n",
       "2010-03-31  1.050236  1.001444  \n",
       "2010-04-30  1.084751  1.030484  \n",
       "2010-05-31  1.146197  1.025943  \n",
       "\n",
       "[5 rows x 78 columns]"
      ]
     },
     "execution_count": 17,
     "metadata": {},
     "output_type": "execute_result"
    }
   ],
   "source": [
    "lag_aqr = mtl.shift(1)\n",
    "lag_aqr.head(5)"
   ]
  },
  {
   "cell_type": "markdown",
   "id": "2ae8ccf6",
   "metadata": {},
   "source": [
    "### Constructing the AQR Robust Momentum returns:"
   ]
  },
  {
   "cell_type": "code",
   "execution_count": 18,
   "id": "3871b349",
   "metadata": {},
   "outputs": [],
   "source": [
    "def robust_aqr(ret_n, lag):\n",
    "    return ret_n - lag"
   ]
  },
  {
   "cell_type": "code",
   "execution_count": 35,
   "id": "2319b37d",
   "metadata": {},
   "outputs": [
    {
     "data": {
      "text/html": [
       "<div>\n",
       "<style scoped>\n",
       "    .dataframe tbody tr th:only-of-type {\n",
       "        vertical-align: middle;\n",
       "    }\n",
       "\n",
       "    .dataframe tbody tr th {\n",
       "        vertical-align: top;\n",
       "    }\n",
       "\n",
       "    .dataframe thead th {\n",
       "        text-align: right;\n",
       "    }\n",
       "</style>\n",
       "<table border=\"1\" class=\"dataframe\">\n",
       "  <thead>\n",
       "    <tr style=\"text-align: right;\">\n",
       "      <th></th>\n",
       "      <th>AAPL</th>\n",
       "      <th>ADBE</th>\n",
       "      <th>ADI</th>\n",
       "      <th>ADP</th>\n",
       "      <th>ADSK</th>\n",
       "      <th>AEP</th>\n",
       "      <th>ALGN</th>\n",
       "      <th>AMAT</th>\n",
       "      <th>AMD</th>\n",
       "      <th>AMGN</th>\n",
       "      <th>...</th>\n",
       "      <th>SGEN</th>\n",
       "      <th>SIRI</th>\n",
       "      <th>SNPS</th>\n",
       "      <th>TMUS</th>\n",
       "      <th>TXN</th>\n",
       "      <th>VRSK</th>\n",
       "      <th>VRTX</th>\n",
       "      <th>WBA</th>\n",
       "      <th>WBD</th>\n",
       "      <th>XEL</th>\n",
       "    </tr>\n",
       "    <tr>\n",
       "      <th>Date</th>\n",
       "      <th></th>\n",
       "      <th></th>\n",
       "      <th></th>\n",
       "      <th></th>\n",
       "      <th></th>\n",
       "      <th></th>\n",
       "      <th></th>\n",
       "      <th></th>\n",
       "      <th></th>\n",
       "      <th></th>\n",
       "      <th></th>\n",
       "      <th></th>\n",
       "      <th></th>\n",
       "      <th></th>\n",
       "      <th></th>\n",
       "      <th></th>\n",
       "      <th></th>\n",
       "      <th></th>\n",
       "      <th></th>\n",
       "      <th></th>\n",
       "      <th></th>\n",
       "    </tr>\n",
       "  </thead>\n",
       "  <tbody>\n",
       "    <tr>\n",
       "      <th>2022-10-31</th>\n",
       "      <td>0.150345</td>\n",
       "      <td>-0.247204</td>\n",
       "      <td>-0.082443</td>\n",
       "      <td>0.167282</td>\n",
       "      <td>-0.251217</td>\n",
       "      <td>0.210701</td>\n",
       "      <td>-0.538663</td>\n",
       "      <td>-0.219387</td>\n",
       "      <td>-0.247011</td>\n",
       "      <td>0.411510</td>\n",
       "      <td>...</td>\n",
       "      <td>-0.165689</td>\n",
       "      <td>0.105736</td>\n",
       "      <td>-0.004872</td>\n",
       "      <td>0.385574</td>\n",
       "      <td>-0.055857</td>\n",
       "      <td>-0.037443</td>\n",
       "      <td>0.659513</td>\n",
       "      <td>-0.085118</td>\n",
       "      <td>-0.313973</td>\n",
       "      <td>0.168552</td>\n",
       "    </tr>\n",
       "    <tr>\n",
       "      <th>2022-11-30</th>\n",
       "      <td>-0.208831</td>\n",
       "      <td>-0.642404</td>\n",
       "      <td>-0.052352</td>\n",
       "      <td>0.096765</td>\n",
       "      <td>-0.352732</td>\n",
       "      <td>0.218268</td>\n",
       "      <td>-0.616562</td>\n",
       "      <td>-0.326107</td>\n",
       "      <td>-0.457735</td>\n",
       "      <td>0.286126</td>\n",
       "      <td>...</td>\n",
       "      <td>-0.170641</td>\n",
       "      <td>0.061871</td>\n",
       "      <td>0.038139</td>\n",
       "      <td>0.262356</td>\n",
       "      <td>-0.081457</td>\n",
       "      <td>-0.249793</td>\n",
       "      <td>0.614950</td>\n",
       "      <td>-0.193223</td>\n",
       "      <td>-0.640534</td>\n",
       "      <td>0.115199</td>\n",
       "    </tr>\n",
       "    <tr>\n",
       "      <th>2022-12-31</th>\n",
       "      <td>-0.217987</td>\n",
       "      <td>-0.489536</td>\n",
       "      <td>-0.256117</td>\n",
       "      <td>-0.104472</td>\n",
       "      <td>-0.273428</td>\n",
       "      <td>-0.013113</td>\n",
       "      <td>-0.702505</td>\n",
       "      <td>-0.618401</td>\n",
       "      <td>-0.848760</td>\n",
       "      <td>0.149669</td>\n",
       "      <td>...</td>\n",
       "      <td>-0.111416</td>\n",
       "      <td>-0.115686</td>\n",
       "      <td>-0.287569</td>\n",
       "      <td>0.203712</td>\n",
       "      <td>-0.224863</td>\n",
       "      <td>-0.236658</td>\n",
       "      <td>0.324331</td>\n",
       "      <td>-0.379310</td>\n",
       "      <td>-0.484825</td>\n",
       "      <td>-0.022493</td>\n",
       "    </tr>\n",
       "  </tbody>\n",
       "</table>\n",
       "<p>3 rows × 78 columns</p>\n",
       "</div>"
      ],
      "text/plain": [
       "                AAPL      ADBE       ADI       ADP      ADSK       AEP  \\\n",
       "Date                                                                     \n",
       "2022-10-31  0.150345 -0.247204 -0.082443  0.167282 -0.251217  0.210701   \n",
       "2022-11-30 -0.208831 -0.642404 -0.052352  0.096765 -0.352732  0.218268   \n",
       "2022-12-31 -0.217987 -0.489536 -0.256117 -0.104472 -0.273428 -0.013113   \n",
       "\n",
       "                ALGN      AMAT       AMD      AMGN  ...      SGEN      SIRI  \\\n",
       "Date                                                ...                       \n",
       "2022-10-31 -0.538663 -0.219387 -0.247011  0.411510  ... -0.165689  0.105736   \n",
       "2022-11-30 -0.616562 -0.326107 -0.457735  0.286126  ... -0.170641  0.061871   \n",
       "2022-12-31 -0.702505 -0.618401 -0.848760  0.149669  ... -0.111416 -0.115686   \n",
       "\n",
       "                SNPS      TMUS       TXN      VRSK      VRTX       WBA  \\\n",
       "Date                                                                     \n",
       "2022-10-31 -0.004872  0.385574 -0.055857 -0.037443  0.659513 -0.085118   \n",
       "2022-11-30  0.038139  0.262356 -0.081457 -0.249793  0.614950 -0.193223   \n",
       "2022-12-31 -0.287569  0.203712 -0.224863 -0.236658  0.324331 -0.379310   \n",
       "\n",
       "                 WBD       XEL  \n",
       "Date                            \n",
       "2022-10-31 -0.313973  0.168552  \n",
       "2022-11-30 -0.640534  0.115199  \n",
       "2022-12-31 -0.484825 -0.022493  \n",
       "\n",
       "[3 rows x 78 columns]"
      ]
     },
     "execution_count": 35,
     "metadata": {},
     "output_type": "execute_result"
    }
   ],
   "source": [
    "ret_12_minus_1 = robust_aqr(ret_12, lag_aqr)\n",
    "ret_6_minus_1 = robust_aqr(ret_6, lag_aqr)\n",
    "ret_3_minus_1 = robust_aqr(ret_3, lag_aqr)\n",
    "ret_12_minus_1.tail(3)"
   ]
  },
  {
   "cell_type": "markdown",
   "id": "d15a2b8c",
   "metadata": {
    "tags": []
   },
   "source": [
    "### Portfolio Construction"
   ]
  },
  {
   "cell_type": "markdown",
   "id": "a344b98c",
   "metadata": {},
   "source": [
    "<br><font color= blue> nlargest(x): </font> Allows you to screen for the largest values within that specific date<br><br><font color= blue>"
   ]
  },
  {
   "cell_type": "code",
   "execution_count": 28,
   "id": "b10f3274",
   "metadata": {
    "tags": []
   },
   "outputs": [
    {
     "data": {
      "text/plain": [
       "Index(['NFLX', 'SIRI', 'LULU', 'ILMN', 'FTNT', 'BKNG', 'DLTR', 'DXCM', 'TMUS',\n",
       "       'CTSH', 'INTU', 'PCAR', 'ORLY', 'ODFL', 'AVGO', 'MAR', 'AAPL', 'ADSK',\n",
       "       'ROST', 'FAST', 'SGEN', 'BKR', 'SBUX', 'HON', 'CDNS', 'CSGP', 'MNST',\n",
       "       'WBD', 'CSX', 'REGN', 'AMZN', 'CMCSA', 'LRCX', 'IDXX', 'MELI', 'KDP',\n",
       "       'TXN', 'BIIB', 'MCHP', 'COST', 'ADI', 'FISV', 'SNPS', 'MDLZ', 'ANSS',\n",
       "       'EBAY', 'XEL', 'ATVI', 'ASML', 'VRSK'],\n",
       "      dtype='object')"
      ]
     },
     "execution_count": 32,
     "metadata": {},
     "output_type": "execute_result"
    }
   ],
   "source": [
    "top_50 = ret_12.loc['2010-12-31'].nlargest(50).index # index just shows the index, e.g. the tickers\n",
    "top_50"
   ]
  },
  {
   "cell_type": "markdown",
   "id": "9dc460ad",
   "metadata": {},
   "source": [
    "<br> **Slight changes but primarily the same when you take out the t-1 return out**"
   ]
  },
  {
   "cell_type": "code",
   "execution_count": 34,
   "id": "ba573e39",
   "metadata": {},
   "outputs": [
    {
     "data": {
      "text/plain": [
       "Index(['NFLX', 'SIRI', 'LULU', 'ILMN', 'DXCM', 'BKNG', 'FTNT', 'DLTR', 'INTU',\n",
       "       'CTSH', 'ORLY', 'SGEN', 'PCAR', 'ODFL', 'ADSK', 'AVGO', 'AAPL', 'TMUS',\n",
       "       'MAR', 'CDNS', 'WBD', 'FAST', 'ROST', 'CSX', 'CMCSA', 'SBUX', 'HON',\n",
       "       'LRCX', 'MELI', 'MNST', 'CSGP', 'BKR', 'AMZN', 'KDP', 'MDLZ', 'REGN',\n",
       "       'BIIB', 'IDXX', 'EBAY', 'SNPS', 'TXN', 'FISV', 'MCHP', 'XEL', 'ADI',\n",
       "       'COST', 'ASML', 'ANSS', 'AEP', 'CTAS'],\n",
       "      dtype='object')"
      ]
     },
     "execution_count": 34,
     "metadata": {},
     "output_type": "execute_result"
    }
   ],
   "source": [
    "top_50_ = ret_12_minus_1.loc['2010-12-31'].nlargest(50).index # index just shows the index, e.g. the tickers\n",
    "top_50_"
   ]
  },
  {
   "cell_type": "markdown",
   "id": "5a723fce",
   "metadata": {},
   "source": [
    "### <br> **Important!!**"
   ]
  },
  {
   "cell_type": "markdown",
   "id": "37d6c88e",
   "metadata": {},
   "source": [
    "The most important part about all of this when constructing the backtest of what should be in the portfolio at each point in time is the actual tickers that are going to be in there. Its a seperate process to actually calculating the values, its more related to identifying which TICKERS will actually be included<br>"
   ]
  },
  {
   "cell_type": "markdown",
   "id": "3b62b1cf",
   "metadata": {},
   "source": [
    "### Conditional Sorts:"
   ]
  },
  {
   "cell_type": "markdown",
   "id": "3d1e73a7",
   "metadata": {},
   "source": [
    "Taking: <br>1) The top 50 based on momentum signal (12_minus_1 momentum)<br><br>2) You can sort based on something else, e.g. their Ranking based on something else, perhaps E/P etc. etc."
   ]
  },
  {
   "cell_type": "code",
   "execution_count": 39,
   "id": "d8ee1b87",
   "metadata": {},
   "outputs": [],
   "source": [
    "def portfolio_sorts(date):\n",
    "    top_50_ = ret_12_minus_1.loc[date].nlargest(50).index\n",
    "    top_30 = ret_6_minus_1.loc[date, top_50_].nlargest(30).index # This line can keep going into however many sorts you'd like, though at the moment it's just using the 6-month momentum within the 12-month momentum\n",
    "    return top_30"
   ]
  },
  {
   "cell_type": "code",
   "execution_count": 40,
   "id": "efcee5c8",
   "metadata": {},
   "outputs": [
    {
     "data": {
      "text/plain": [
       "Index(['BKNG', 'FTNT', 'SIRI', 'LULU', 'ADSK', 'AMZN', 'CDNS', 'INTU', 'CTSH',\n",
       "       'EBAY', 'NFLX', 'CSGP', 'ASML', 'PCAR', 'BIIB', 'TMUS', 'LRCX', 'REGN',\n",
       "       'DXCM', 'ILMN', 'ODFL', 'TXN', 'MAR', 'SGEN', 'CSX', 'HON', 'ADI',\n",
       "       'CMCSA', 'MELI', 'MNST'],\n",
       "      dtype='object')"
      ]
     },
     "execution_count": 40,
     "metadata": {},
     "output_type": "execute_result"
    }
   ],
   "source": [
    "portfolio_sorts('2010-12-31')"
   ]
  },
  {
   "cell_type": "markdown",
   "id": "26d4a374",
   "metadata": {},
   "source": [
    "<br>"
   ]
  },
  {
   "cell_type": "markdown",
   "id": "50aa8e3e",
   "metadata": {},
   "source": [
    "## Calculating the values"
   ]
  },
  {
   "cell_type": "markdown",
   "id": "b99d931a",
   "metadata": {},
   "source": [
    "Below, 1) we are taking the monthly return data from the date provided, and then slicing just the [1:2] value which is the 2nd to the 3rd not including the 3rd<br><br> 2)  Then we add the portfolio_sorts(date) function/argument to get only for those specific tickers that are in this strategy"
   ]
  },
  {
   "cell_type": "code",
   "execution_count": 45,
   "id": "703c5c25",
   "metadata": {},
   "outputs": [],
   "source": [
    "portfolio = mtl.loc['2010-12-31':, portfolio_sorts('2010-12-31')][1:2]"
   ]
  },
  {
   "cell_type": "markdown",
   "id": "477a6be4",
   "metadata": {},
   "source": [
    "<br> **So we've calculated each monthly return for the tickers provided that are in the strategy in that month, then we take the \"mean\" to equally weight across all of those 30 stocks**"
   ]
  },
  {
   "cell_type": "code",
   "execution_count": 61,
   "id": "e3691fc0",
   "metadata": {},
   "outputs": [
    {
     "name": "stdout",
     "output_type": "stream",
     "text": [
      " The portfolio return on 2010-12-31 is 1.0389273236677155 or \n",
      "\n",
      " as a percentage,  0.0389%\n"
     ]
    }
   ],
   "source": [
    "print(f' The portfolio return on 2010-12-31 is {portfolio.mean(axis=1).values[0]} or \\n\\n as a percentage,  {round((portfolio.mean(axis=1).values[0])-1, 4)}%')"
   ]
  },
  {
   "cell_type": "markdown",
   "id": "9a87a6cb",
   "metadata": {},
   "source": [
    "### <br><font color= red> Wrapping into a function </font> "
   ]
  },
  {
   "cell_type": "code",
   "execution_count": 77,
   "id": "922321c6",
   "metadata": {},
   "outputs": [],
   "source": [
    "def pf_performance(date):\n",
    "    portfolio = mtl.loc[date:, portfolio_sorts(date)][1:2]\n",
    "    return portfolio.mean(axis=1).values[0]"
   ]
  },
  {
   "cell_type": "markdown",
   "id": "90badee2",
   "metadata": {},
   "source": [
    "### Insert any date to find the portfolio performance on that date:"
   ]
  },
  {
   "cell_type": "code",
   "execution_count": 67,
   "id": "35b0d058",
   "metadata": {},
   "outputs": [
    {
     "name": "stdout",
     "output_type": "stream",
     "text": [
      " The portfolio return on 2020-12-31 is 0.9784092103453853 or \n",
      "\n",
      " as a percentage,  -0.0216%\n"
     ]
    }
   ],
   "source": [
    "pf_performance('2020-12-31')"
   ]
  },
  {
   "cell_type": "markdown",
   "id": "95f493ea",
   "metadata": {},
   "source": [
    "<br>"
   ]
  },
  {
   "cell_type": "markdown",
   "id": "905cb448",
   "metadata": {},
   "source": [
    "# Time for the backtest"
   ]
  },
  {
   "cell_type": "markdown",
   "id": "0213291d",
   "metadata": {},
   "source": [
    "Step 1: Set & Identify the dates you want to to from. *Example:*"
   ]
  },
  {
   "cell_type": "code",
   "execution_count": 75,
   "id": "18fc9463",
   "metadata": {},
   "outputs": [],
   "source": [
    "period = mtl.index[:-1]"
   ]
  },
  {
   "cell_type": "code",
   "execution_count": 81,
   "id": "6430ad13",
   "metadata": {},
   "outputs": [
    {
     "data": {
      "text/plain": [
       "DatetimeIndex(['2010-01-31', '2010-02-28', '2010-03-31', '2010-04-30',\n",
       "               '2010-05-31', '2010-06-30', '2010-07-31', '2010-08-31',\n",
       "               '2010-09-30', '2010-10-31',\n",
       "               ...\n",
       "               '2022-02-28', '2022-03-31', '2022-04-30', '2022-05-31',\n",
       "               '2022-06-30', '2022-07-31', '2022-08-31', '2022-09-30',\n",
       "               '2022-10-31', '2022-11-30'],\n",
       "              dtype='datetime64[ns]', name='Date', length=155, freq='M')"
      ]
     },
     "execution_count": 81,
     "metadata": {},
     "output_type": "execute_result"
    }
   ],
   "source": [
    "period"
   ]
  },
  {
   "cell_type": "markdown",
   "id": "b0e14a4e",
   "metadata": {
    "tags": []
   },
   "source": [
    "<br><font color= red>returns.append(pf_performance(date)): </font> <br> \n",
    "Defines the portfolio by using the 'portfolio_sorts' that has idenified which stocks included at each date - and takes their mean returns each date"
   ]
  },
  {
   "cell_type": "code",
   "execution_count": 84,
   "id": "3adc1ef1",
   "metadata": {},
   "outputs": [
    {
     "name": "stdout",
     "output_type": "stream",
     "text": [
      "Date\n",
      "2010-02-28         NaN\n",
      "2010-03-31         NaN\n",
      "2010-04-30         NaN\n",
      "2010-05-31         NaN\n",
      "2010-06-30         NaN\n",
      "                ...   \n",
      "2022-08-31    0.950107\n",
      "2022-09-30    0.933706\n",
      "2022-10-31    1.086992\n",
      "2022-11-30    1.077459\n",
      "2022-12-31    0.946451\n",
      "Freq: M, Length: 155, dtype: float64\n"
     ]
    }
   ],
   "source": [
    "returns = []\n",
    "\n",
    "for date in period: #iterating through the values on the dates that are chosen.\n",
    "    returns.append(pf_performance(date))\n",
    "\n",
    "    \n",
    "returns1 = pd.Series(returns, index=mtl.index[1:])\n",
    "print(returns1)"
   ]
  },
  {
   "cell_type": "markdown",
   "id": "a923cd90",
   "metadata": {},
   "source": [
    "### To include rough slippage you can add:"
   ]
  },
  {
   "cell_type": "code",
   "execution_count": 97,
   "id": "bdf784e6",
   "metadata": {},
   "outputs": [
    {
     "data": {
      "text/plain": [
       "Date\n",
       "2010-02-28         NaN\n",
       "2010-03-31         NaN\n",
       "2010-04-30         NaN\n",
       "2010-05-31         NaN\n",
       "2010-06-30         NaN\n",
       "                ...   \n",
       "2022-08-31    2.605389\n",
       "2022-09-30    2.406613\n",
       "2022-10-31    2.591904\n",
       "2022-11-30    2.766750\n",
       "2022-12-31    2.590925\n",
       "Freq: M, Length: 155, dtype: float64"
      ]
     },
     "execution_count": 97,
     "metadata": {},
     "output_type": "execute_result"
    }
   ],
   "source": [
    "slippage = pd.Series([i - 0.01 for i in returns], index=mtl.index[1:]).cumprod()\n",
    "slippage"
   ]
  },
  {
   "cell_type": "markdown",
   "id": "4203d1a3",
   "metadata": {},
   "source": [
    "### <br><font color= blue> Comparing with a benchmark </font>"
   ]
  },
  {
   "cell_type": "code",
   "execution_count": 94,
   "id": "1fe23241",
   "metadata": {},
   "outputs": [
    {
     "name": "stdout",
     "output_type": "stream",
     "text": [
      "[*********************100%***********************]  1 of 1 completed\n"
     ]
    }
   ],
   "source": [
    "nas_df = yf.download('^IXIC', start = '2010-01-01')['Adj Close']"
   ]
  },
  {
   "cell_type": "code",
   "execution_count": 95,
   "id": "80efe083",
   "metadata": {},
   "outputs": [],
   "source": [
    "mtl_benchmark = (nas_df.pct_change() +1)[1:].resample('M').prod() #[1:] skips N/A on first row"
   ]
  },
  {
   "cell_type": "code",
   "execution_count": 109,
   "id": "dd922d13",
   "metadata": {},
   "outputs": [
    {
     "data": {
      "text/plain": [
       "Date\n",
       "2010-12-31    1.061900\n",
       "2011-01-31    1.080797\n",
       "2011-02-28    1.113697\n",
       "2011-03-31    1.113216\n",
       "2011-04-30    1.150230\n",
       "                ...   \n",
       "2022-08-31    4.729829\n",
       "2022-09-30    4.233245\n",
       "2022-10-31    4.398374\n",
       "2022-11-30    4.590450\n",
       "2022-12-31    4.193417\n",
       "Freq: M, Name: Adj Close, Length: 145, dtype: float64"
      ]
     },
     "execution_count": 109,
     "metadata": {},
     "output_type": "execute_result"
    }
   ],
   "source": [
    "benchmark = mtl_benchmark[11:].cumprod()\n",
    "benchmark"
   ]
  },
  {
   "cell_type": "code",
   "execution_count": 110,
   "id": "19d6e43e",
   "metadata": {},
   "outputs": [],
   "source": [
    "columns = ['Strategy' , 'Benchmark']"
   ]
  },
  {
   "cell_type": "code",
   "execution_count": 111,
   "id": "39133019",
   "metadata": {
    "tags": []
   },
   "outputs": [],
   "source": [
    "compare = pd.concat([slippage[10:], benchmark], axis =1)\n",
    "compare.columns = columns"
   ]
  },
  {
   "cell_type": "code",
   "execution_count": 118,
   "id": "8621e1a8",
   "metadata": {},
   "outputs": [
    {
     "data": {
      "text/plain": [
       "<AxesSubplot:xlabel='Date'>"
      ]
     },
     "execution_count": 118,
     "metadata": {},
     "output_type": "execute_result"
    },
    {
     "data": {
      "image/png": "[encoded data removed]",
      "text/plain": [
       "<Figure size 1080x648 with 1 Axes>"
      ]
     },
     "metadata": {
      "needs_background": "light"
     },
     "output_type": "display_data"
    }
   ],
   "source": [
    "compare.plot(figsize=[15,9])"
   ]
  },
  {
   "cell_type": "code",
   "execution_count": null,
   "id": "a12db293",
   "metadata": {},
   "outputs": [],
   "source": []
  }
 ],
 "metadata": {
  "kernelspec": {
   "display_name": "Python 3",
   "language": "python",
   "name": "python3"
  },
  "language_info": {
   "codemirror_mode": {
    "name": "ipython",
    "version": 3
   },
   "file_extension": ".py",
   "mimetype": "text/x-python",
   "name": "python",
   "nbconvert_exporter": "python",
   "pygments_lexer": "ipython3",
   "version": "3.8.5"
  }
 },
 "nbformat": 4,
 "nbformat_minor": 5
}
